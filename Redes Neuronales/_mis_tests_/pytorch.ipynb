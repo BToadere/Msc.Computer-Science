{
 "cells": [
  {
   "cell_type": "code",
   "execution_count": null,
   "metadata": {},
   "outputs": [],
   "source": [
    "import torch\n",
    "import torch.nn as nn\n",
    "\n",
    "class MLP(nn.Module):\n",
    "    def __init__(self, input_size, hidden1, hidden2, output_size):\n",
    "        super(MLP, self).__init__()\n",
    "\n",
    "        # Capa 1: De entrada a la primera oculta con ReLU\n",
    "        self.fc1 = nn.Linear(input_size, hidden1)\n",
    "        self.act1 = nn.ReLU()  \n",
    "\n",
    "        # Capa 2: Segunda oculta con Tanh\n",
    "        self.fc2 = nn.Linear(hidden1, hidden2)\n",
    "        self.act2 = nn.Tanh()  \n",
    "\n",
    "        # Capa de salida (sin activación porque es regresión)\n",
    "        self.fc3 = nn.Linear(hidden2, output_size)\n",
    "\n",
    "    def forward(self, x):\n",
    "        x = self.act1(self.fc1(x))  # Capa 1 con ReLU\n",
    "        x = self.act2(self.fc2(x))  # Capa 2 con Tanh\n",
    "        x = self.fc3(x)  # Capa de salida (sin activación para regresión)\n",
    "        return x\n",
    "\n",
    "# Crear el modelo con 13 características de entrada, dos capas ocultas (32 y 16 neuronas), y 1 salida\n",
    "input_size = 13  # Número de características en los datos\n",
    "hidden1 = 32     # Primera capa oculta con 32 neuronas\n",
    "hidden2 = 16     # Segunda capa oculta con 16 neuronas\n",
    "output_size = 1  # Regresión (una única salida)\n",
    "\n",
    "model = MLP(input_size, hidden1, hidden2, output_size)\n",
    "\n",
    "print(model)  # Ver estructura del modelo\n"
   ]
  }
 ],
 "metadata": {
  "kernelspec": {
   "display_name": "redespytorch",
   "language": "python",
   "name": "python3"
  },
  "language_info": {
   "name": "python",
   "version": "3.11.11"
  }
 },
 "nbformat": 4,
 "nbformat_minor": 2
}
