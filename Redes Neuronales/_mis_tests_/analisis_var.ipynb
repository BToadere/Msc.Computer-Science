{
 "cells": [
  {
   "cell_type": "code",
   "execution_count": 1,
   "metadata": {},
   "outputs": [],
   "source": [
    "import pandas as pd\n",
    "import torch\n",
    "from sklearn.model_selection import train_test_split\n",
    "from sklearn.preprocessing import StandardScaler"
   ]
  },
  {
   "cell_type": "markdown",
   "metadata": {},
   "source": [
    "# Preprocesado de datos"
   ]
  },
  {
   "cell_type": "code",
   "execution_count": 2,
   "metadata": {},
   "outputs": [],
   "source": [
    "\n",
    "# Cargar datos (asumiendo CSV, si el formato es diferente avísame)\n",
    "df = pd.read_csv(\"../0.data/casas.trn.txt\", sep='\\s+' , header=None)\n",
    "\n",
    "# Separar características (X) y etiquetas (y)\n",
    "X = df.iloc[:, :-1].values  # Todas las columnas menos la última\n",
    "y = df.iloc[:, -1].values   # Última columna (precio de la vivienda)\n",
    "\n",
    "# Normalizar los datos (media 0, varianza 1)\n",
    "scaler = StandardScaler()\n",
    "X = scaler.fit_transform(X)\n",
    "\n",
    "# Convertir a tensores de PyTorch\n",
    "X = torch.tensor(X, dtype=torch.float32)\n",
    "y = torch.tensor(y.reshape(-1, 1), dtype=torch.float32)\n",
    "\n",
    "# Dividir en conjuntos de entrenamiento (70%), validación (15%) y prueba (15%)\n",
    "X_train, X_temp, y_train, y_temp = train_test_split(X, y, test_size=0.3, random_state=42)\n",
    "X_val, X_test, y_val, y_test = train_test_split(X_temp, y_temp, test_size=0.5, random_state=42)\n"
   ]
  },
  {
   "cell_type": "markdown",
   "metadata": {},
   "source": [
    "# Estadistica"
   ]
  },
  {
   "cell_type": "code",
   "execution_count": 3,
   "metadata": {},
   "outputs": [
    {
     "data": {
      "application/vnd.jupyter.widget-view+json": {
       "model_id": "72752fd9d95e4ae5bf8ab29b61ad6353",
       "version_major": 2,
       "version_minor": 0
      },
      "text/plain": [
       "interactive(children=(FloatSlider(value=0.0, description='Media (μ)', max=10.0, min=-10.0), FloatSlider(value=…"
      ]
     },
     "metadata": {},
     "output_type": "display_data"
    }
   ],
   "source": [
    "import numpy as np\n",
    "import matplotlib.pyplot as plt\n",
    "import seaborn as sns\n",
    "from scipy.stats import norm\n",
    "import ipywidgets as widgets\n",
    "from ipywidgets import interact\n",
    "\n",
    "def plot_normal_distribution(mean=0, median=0, std_dev=1):\n",
    "    \"\"\"\n",
    "    Grafica una distribución normal y permite modificar la media, mediana y desviación estándar con deslizadores.\n",
    "    \n",
    "    Parámetros:\n",
    "    - mean: Media (μ) de la distribución normal\n",
    "    - median: Mediana (se puede modificar para ver efectos de sesgo)\n",
    "    - std_dev: Desviación estándar (σ), controla la dispersión\n",
    "    \"\"\"\n",
    "    # Rango de valores para la distribución\n",
    "    x = np.linspace(mean - 4*std_dev, mean + 4*std_dev, 1000)\n",
    "    \n",
    "    # Distribución normal con la media y desviación estándar dadas\n",
    "    y = norm.pdf(x, mean, std_dev)\n",
    "\n",
    "    # Crear la figura\n",
    "    plt.figure(figsize=(8, 5))\n",
    "    \n",
    "    # Graficar la distribución\n",
    "    sns.lineplot(x=x, y=y, label=\"Distribución Normal\", color=\"blue\")\n",
    "    \n",
    "    # Línea para la media\n",
    "    plt.axvline(mean, color='red', linestyle='--', label=f\"Media (μ): {mean:.2f}\")\n",
    "    \n",
    "    # Línea para la mediana (puede ser diferente si hay sesgo)\n",
    "    plt.axvline(median, color='green', linestyle=':', label=f\"Mediana: {median:.2f}\")\n",
    "    \n",
    "    # Configuración del gráfico\n",
    "    plt.title(\"Distribución Normal con Parámetros Ajustables\")\n",
    "    plt.xlabel(\"Valores\")\n",
    "    plt.ylabel(\"Densidad de Probabilidad\")\n",
    "    plt.legend()\n",
    "    plt.grid()\n",
    "    plt.show()\n",
    "\n",
    "# Interfaz interactiva con deslizadores\n",
    "interact(plot_normal_distribution,\n",
    "         mean=widgets.FloatSlider(min=-10, max=10, step=0.1, value=0, description=\"Media (μ)\"),\n",
    "         median=widgets.FloatSlider(min=-10, max=10, step=0.1, value=0, description=\"Mediana\"),\n",
    "         std_dev=widgets.FloatSlider(min=0.1, max=5, step=0.1, value=1, description=\"Desviación (σ)\"));\n"
   ]
  },
  {
   "cell_type": "markdown",
   "metadata": {},
   "source": [
    "# Modelo"
   ]
  },
  {
   "cell_type": "code",
   "execution_count": 4,
   "metadata": {},
   "outputs": [],
   "source": [
    "import torch.nn as nn  # Importamos el módulo de redes neuronales de PyTorch\n",
    "\n",
    "# Definimos la clase del perceptrón, heredando de nn.Module\n",
    "class Perceptron(nn.Module):\n",
    "    def __init__(self, input_size, hidden_size):\n",
    "        \"\"\"\n",
    "        Constructor del perceptrón.\n",
    "        \n",
    "        Parámetros:\n",
    "        - input_size: Número de entradas (cantidad de características de cada muestra).\n",
    "        - hidden_size: Número de neuronas en la capa oculta.\n",
    "        \"\"\"\n",
    "        \n",
    "        super().__init__()  # Inicializa nn.Module para registrar parámetros\n",
    "        \n",
    "        # Definimos la capa oculta (fully connected)\n",
    "        self.hidden = nn.Linear(input_size, hidden_size)  \n",
    "        self.f_hidden = nn.Tanh()\n",
    "\n",
    "        # Definimos la capa de salida con 1 neurona (para regresión)\n",
    "        self.output = nn.Linear(hidden_size, 1)\n",
    "        # Esto es la función identidad, realmente no haria falta ponerla\n",
    "        # en forward simplemnte no le aplicamos ninguna función solo la capa\n",
    "        self.f_output = lambda x: x\n",
    "\n",
    "    def forward(self, x):\n",
    "        \"\"\"\n",
    "        Define el flujo de datos a través de la red neuronal.\n",
    "        \n",
    "        Parámetro:\n",
    "        - x: Tensor de entrada (muestra o batch de datos)\n",
    "        \n",
    "        Retorna:\n",
    "        - La predicción del modelo (salida de la capa final)\n",
    "        \"\"\"\n",
    "        x = self.f_hidden(self.hidden(x))  # Aplicamos la capa oculta + activación Tanh\n",
    "        x = self.f_output(self.output(x))  # Aplicamos la capa de salida sin activación\n",
    "        return x  # Devolvemos la salida final del modelo\n",
    "\n",
    "# Crear el modelo con los tamaños adecuados\n",
    "input_size = X.shape[1]  # Número de características de entrada (columnas del dataset)\n",
    "hidden_size = 3  # Número de neuronas en la capa oculta (valor arbitrario)\n",
    "\n",
    "model = Perceptron(input_size, hidden_size)  # Instanciamos el modelo\n"
   ]
  },
  {
   "cell_type": "code",
   "execution_count": 5,
   "metadata": {},
   "outputs": [
    {
     "data": {
      "text/plain": [
       "True"
      ]
     },
     "execution_count": 5,
     "metadata": {},
     "output_type": "execute_result"
    }
   ],
   "source": [
    "# Argumento para saer en que estado esta el modelo train o eval\n",
    "model.training\n",
    "# model.eval()\n",
    "# model.training"
   ]
  },
  {
   "cell_type": "code",
   "execution_count": 6,
   "metadata": {},
   "outputs": [],
   "source": [
    "import torch.optim as optim\n",
    "\n",
    "criterion = nn.MSELoss()  # Error cuadrático medio\n",
    "optimizer = optim.SGD(model.parameters(), lr=0.002)  # Descenso de gradiente\n"
   ]
  },
  {
   "cell_type": "code",
   "execution_count": 7,
   "metadata": {},
   "outputs": [
    {
     "name": "stdout",
     "output_type": "stream",
     "text": [
      "Época 0, Pérdida: 592.8000\n",
      "Época 100, Pérdida: 111.5889\n",
      "Época 200, Pérdida: 57.9070\n",
      "Época 300, Pérdida: 47.6761\n",
      "Época 400, Pérdida: 37.5689\n",
      "Época 500, Pérdida: 30.4651\n",
      "Época 600, Pérdida: 25.6231\n",
      "Época 700, Pérdida: 22.2665\n",
      "Época 800, Pérdida: 19.7878\n",
      "Época 900, Pérdida: 17.9129\n",
      "Época 1000, Pérdida: 16.5206\n",
      "Época 1100, Pérdida: 15.4988\n",
      "Época 1200, Pérdida: 14.7307\n",
      "Época 1300, Pérdida: 14.1244\n",
      "Época 1400, Pérdida: 13.6129\n",
      "Época 1500, Pérdida: 13.1332\n",
      "Época 1600, Pérdida: 12.5480\n",
      "Época 1700, Pérdida: 11.9904\n",
      "Época 1800, Pérdida: 11.6590\n",
      "Época 1900, Pérdida: 11.3925\n",
      "Época 2000, Pérdida: 11.1728\n",
      "Época 2100, Pérdida: 10.9877\n",
      "Época 2200, Pérdida: 10.8286\n",
      "Época 2300, Pérdida: 10.6894\n",
      "Época 2400, Pérdida: 10.5658\n",
      "Época 2500, Pérdida: 10.4550\n",
      "Época 2600, Pérdida: 10.3550\n",
      "Época 2700, Pérdida: 10.2642\n",
      "Época 2800, Pérdida: 10.1815\n",
      "Época 2900, Pérdida: 10.1058\n",
      "Época 3000, Pérdida: 10.0365\n",
      "Época 3100, Pérdida: 9.9729\n",
      "Época 3200, Pérdida: 9.9142\n",
      "Época 3300, Pérdida: 9.8601\n",
      "Época 3400, Pérdida: 9.8100\n",
      "Época 3500, Pérdida: 9.7636\n",
      "Época 3600, Pérdida: 9.7205\n",
      "Época 3700, Pérdida: 9.6803\n",
      "Época 3800, Pérdida: 9.6429\n",
      "Época 3900, Pérdida: 9.6079\n",
      "Época 4000, Pérdida: 9.5751\n",
      "Época 4100, Pérdida: 9.5443\n",
      "Época 4200, Pérdida: 9.5154\n",
      "Época 4300, Pérdida: 9.4882\n",
      "Época 4400, Pérdida: 9.4625\n",
      "Época 4500, Pérdida: 9.4383\n",
      "Época 4600, Pérdida: 9.4153\n",
      "Época 4700, Pérdida: 9.3935\n",
      "Época 4800, Pérdida: 9.3729\n",
      "Época 4900, Pérdida: 9.3532\n",
      "Época 5000, Pérdida: 9.3345\n",
      "Época 5100, Pérdida: 9.3166\n",
      "Época 5200, Pérdida: 9.2996\n",
      "Época 5300, Pérdida: 9.2832\n",
      "Época 5400, Pérdida: 9.2675\n",
      "Época 5500, Pérdida: 9.2525\n",
      "Época 5600, Pérdida: 9.2380\n",
      "Época 5700, Pérdida: 9.2241\n",
      "Época 5800, Pérdida: 9.2106\n",
      "Época 5900, Pérdida: 9.1976\n",
      "Época 6000, Pérdida: 9.1850\n",
      "Época 6100, Pérdida: 9.1729\n",
      "Época 6200, Pérdida: 9.1610\n",
      "Época 6300, Pérdida: 9.1496\n",
      "Época 6400, Pérdida: 9.1384\n",
      "Época 6500, Pérdida: 9.1276\n",
      "Época 6600, Pérdida: 9.1170\n",
      "Época 6700, Pérdida: 9.1067\n",
      "Época 6800, Pérdida: 9.0966\n",
      "Época 6900, Pérdida: 9.0868\n",
      "Época 7000, Pérdida: 9.0771\n",
      "Época 7100, Pérdida: 9.0677\n",
      "Época 7200, Pérdida: 9.0585\n",
      "Época 7300, Pérdida: 9.0494\n",
      "Época 7400, Pérdida: 9.0405\n",
      "Época 7500, Pérdida: 9.0318\n",
      "Época 7600, Pérdida: 9.0233\n",
      "Época 7700, Pérdida: 9.0149\n",
      "Época 7800, Pérdida: 9.0066\n",
      "Época 7900, Pérdida: 8.9985\n",
      "Época 8000, Pérdida: 8.9905\n",
      "Época 8100, Pérdida: 8.9827\n",
      "Época 8200, Pérdida: 8.9750\n",
      "Época 8300, Pérdida: 8.9674\n",
      "Época 8400, Pérdida: 8.9599\n",
      "Época 8500, Pérdida: 8.9526\n",
      "Época 8600, Pérdida: 8.9453\n",
      "Época 8700, Pérdida: 8.9382\n",
      "Época 8800, Pérdida: 8.9312\n",
      "Época 8900, Pérdida: 8.9243\n",
      "Época 9000, Pérdida: 8.9175\n",
      "Época 9100, Pérdida: 8.9108\n",
      "Época 9200, Pérdida: 8.9042\n",
      "Época 9300, Pérdida: 8.8977\n",
      "Época 9400, Pérdida: 8.8913\n",
      "Época 9500, Pérdida: 8.8851\n",
      "Época 9600, Pérdida: 8.8789\n",
      "Época 9700, Pérdida: 8.8728\n",
      "Época 9800, Pérdida: 8.8667\n",
      "Época 9900, Pérdida: 8.8608\n"
     ]
    }
   ],
   "source": [
    "epochs = 10000  # Número de iteraciones\n",
    "\n",
    "for epoch in range(epochs):\n",
    "    model.train()  # Modo entrenamiento\n",
    "    optimizer.zero_grad()  # Resetear gradientes\n",
    "    \n",
    "    output = model(X_train)  # Forward pass\n",
    "    loss = criterion(output, y_train)  # Calcular pérdida\n",
    "    loss.backward()  # Backpropagation\n",
    "    optimizer.step()  # Actualizar pesos\n",
    "\n",
    "    if epoch % 100 == 0:\n",
    "        print(f\"Época {epoch}, Pérdida: {loss.item():.4f}\")\n"
   ]
  },
  {
   "cell_type": "code",
   "execution_count": 8,
   "metadata": {},
   "outputs": [
    {
     "name": "stdout",
     "output_type": "stream",
     "text": [
      "Error cuadrático medio en test: 18.7337\n"
     ]
    }
   ],
   "source": [
    "model.eval()  # Cambiar a modo evaluación\n",
    "with torch.no_grad():\n",
    "    y_pred = model(X_test)\n",
    "    test_loss = criterion(y_pred, y_test)\n",
    "\n",
    "print(f\"Error cuadrático medio en test: {test_loss.item():.4f}\")\n"
   ]
  },
  {
   "cell_type": "code",
   "execution_count": null,
   "metadata": {},
   "outputs": [],
   "source": []
  }
 ],
 "metadata": {
  "kernelspec": {
   "display_name": "redespytorch",
   "language": "python",
   "name": "python3"
  },
  "language_info": {
   "codemirror_mode": {
    "name": "ipython",
    "version": 3
   },
   "file_extension": ".py",
   "mimetype": "text/x-python",
   "name": "python",
   "nbconvert_exporter": "python",
   "pygments_lexer": "ipython3",
   "version": "3.11.11"
  }
 },
 "nbformat": 4,
 "nbformat_minor": 2
}
