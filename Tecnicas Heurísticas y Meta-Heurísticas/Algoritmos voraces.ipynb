{
 "cells": [
  {
   "cell_type": "markdown",
   "metadata": {},
   "source": [
    "# Calses"
   ]
  },
  {
   "cell_type": "code",
   "execution_count": 137,
   "metadata": {},
   "outputs": [],
   "source": [
    "class Casilla:\n",
    "    def __new__(cls, i, j, ancestro, marcado=False):\n",
    "        global casillas\n",
    "        if (i, j) in casillas:\n",
    "            return casillas[(i, j)]\n",
    "\n",
    "        instance = super().__new__(cls)\n",
    "        casillas[(i, j)] = instance\n",
    "        return instance\n",
    "\n",
    "    def __init__(self, i, j, ancestro, marcado=False):\n",
    "        # Evita reinicializar un objeto ya existente\n",
    "        if hasattr(self, '_inicializado'):\n",
    "            return  \n",
    "        self.i = i\n",
    "        self.j = j\n",
    "        self.valor = T[i][j]\n",
    "        self.ancestro = ancestro\n",
    "        self.marcado = marcado\n",
    "        self._inicializado = True  # Marca que ya fue inicializado\n",
    "\n",
    "    def __str__(self):\n",
    "        return f\"({self.i},{self.j})\"\n",
    "    \n",
    "    def __repr__(self):\n",
    "        return f\"Casilla({self.i},{self.j})\"\n",
    "\n",
    "\n",
    "    \n",
    "def movimientos_posibles(c):\n",
    "    mov_posibles = []\n",
    "    desplazamientos = [(0, c.valor), (0, -c.valor), (c.valor, 0), (-c.valor, 0)]\n",
    "    \n",
    "    for di, dj in desplazamientos:\n",
    "        ni, nj = c.i + di, c.j + dj\n",
    "        if 0 <= ni <= N and 0 <= nj <= N:\n",
    "            mov_posibles.append(Casilla(i=ni, j=nj, ancestro=c))\n",
    "\n",
    "    return mov_posibles\n",
    "\n",
    "        \n",
    "\n",
    "\n",
    "\n"
   ]
  },
  {
   "cell_type": "code",
   "execution_count": 143,
   "metadata": {},
   "outputs": [
    {
     "name": "stdout",
     "output_type": "stream",
     "text": [
      "[[2, 3, 3, 2], [2, 1, 1, 1], [3, 2, 2, 2], [2, 2, 2, 0]]\n"
     ]
    },
    {
     "data": {
      "text/plain": [
       "deque([Casilla(0,0),\n",
       "       Casilla(2,0),\n",
       "       Casilla(2,3),\n",
       "       Casilla(2,1),\n",
       "       Casilla(0,1),\n",
       "       Casilla(3,1),\n",
       "       Casilla(3,3)])"
      ]
     },
     "execution_count": 143,
     "metadata": {},
     "output_type": "execute_result"
    }
   ],
   "source": [
    "from collections import deque\n",
    "casillas = {}\n",
    "N = 3\n",
    "T=[ [2,3,3,2], \n",
    "    [2,1,1,1], \n",
    "    [3,2,2,2], \n",
    "    [2,2,2,0]\n",
    "]\n",
    "print(T)\n",
    "\n",
    "def decicidir_solucion_laberinto():\n",
    "    \n",
    "    cola = deque()\n",
    "    camino = deque()\n",
    "    cola.append(Casilla(i=0, j=0, marcado=False, ancestro=None))\n",
    "\n",
    "    while cola:\n",
    "        casilla = cola.popleft()\n",
    "        if not casilla.marcado:\n",
    "            casilla.marcado = True\n",
    "            posibilidades= movimientos_posibles(casilla)\n",
    "            cola.extend(posibilidades)\n",
    "    \n",
    "    try: \n",
    "        casillas[(N,N)]\n",
    "        c_traceback = casillas[(N,N)]\n",
    "        while c_traceback:\n",
    "            camino.appendleft(c_traceback)\n",
    "            c_traceback= c_traceback.ancestro\n",
    "        return camino\n",
    "        \n",
    "    except KeyError:\n",
    "        return 'NULL'\n",
    "\n",
    "l = decicidir_solucion_laberinto()\n",
    "\n",
    "l"
   ]
  },
  {
   "cell_type": "code",
   "execution_count": 148,
   "metadata": {},
   "outputs": [
    {
     "name": "stdout",
     "output_type": "stream",
     "text": [
      "[1, 5, 0, 0]\n",
      "[0, 0, 0, 0]\n",
      "[2, 4, 0, 3]\n",
      "[0, 6, 0, 7]\n"
     ]
    }
   ],
   "source": [
    "def visualizar_camino(camino):\n",
    "    tabla = [[0]*(N+1) for _ in range(N+1)]\n",
    "\n",
    "    for paso, iteracion in enumerate(camino,1):\n",
    "        tabla[iteracion.i][iteracion.j]=paso\n",
    "\n",
    "    for f in tabla: print(f)\n",
    "    return tabla\n",
    "pasos = visualizar_camino(l)\n"
   ]
  }
 ],
 "metadata": {
  "kernelspec": {
   "display_name": "Python 3",
   "language": "python",
   "name": "python3"
  },
  "language_info": {
   "codemirror_mode": {
    "name": "ipython",
    "version": 3
   },
   "file_extension": ".py",
   "mimetype": "text/x-python",
   "name": "python",
   "nbconvert_exporter": "python",
   "pygments_lexer": "ipython3",
   "version": "3.12.6"
  }
 },
 "nbformat": 4,
 "nbformat_minor": 2
}
