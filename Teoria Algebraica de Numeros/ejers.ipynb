{
 "cells": [
  {
   "cell_type": "code",
   "execution_count": 2,
   "metadata": {},
   "outputs": [
    {
     "name": "stdout",
     "output_type": "stream",
     "text": [
      "Número encontrado: 35964\n",
      "Cifras: (3, 5, 9, 6, 4)\n",
      "Suma de cifras: 27\n"
     ]
    }
   ],
   "source": [
    "import itertools\n",
    "\n",
    "def suma_variaciones_3_cifras(digs):\n",
    "    total = 0\n",
    "    for perm in itertools.permutations(digs, 3):\n",
    "        num = perm[0] * 100 + perm[1] * 10 + perm[2]\n",
    "        total += num\n",
    "    return total\n",
    "\n",
    "soluciones = []\n",
    "\n",
    "for perm in itertools.permutations(range(1, 10), 5):\n",
    "    numero = perm[0]*10000 + perm[1]*1000 + perm[2]*100 + perm[3]*10 + perm[4]\n",
    "    S = sum(perm)\n",
    "    suma_calculada = 1332 * S\n",
    "    if numero == suma_calculada:\n",
    "            suma_directa = suma_variaciones_3_cifras(perm)\n",
    "    if numero == suma_directa:\n",
    "        soluciones.append((numero, perm, S))\n",
    "\n",
    "for sol in soluciones:\n",
    "    num, digs, suma_digs = sol\n",
    "    print(\"Número encontrado:\", num)\n",
    "    print(\"Cifras:\", digs)\n",
    "    print(\"Suma de cifras:\", suma_digs)\n"
   ]
  }
 ],
 "metadata": {
  "kernelspec": {
   "display_name": ".env_master",
   "language": "python",
   "name": "python3"
  },
  "language_info": {
   "codemirror_mode": {
    "name": "ipython",
    "version": 3
   },
   "file_extension": ".py",
   "mimetype": "text/x-python",
   "name": "python",
   "nbconvert_exporter": "python",
   "pygments_lexer": "ipython3",
   "version": "3.13.2"
  }
 },
 "nbformat": 4,
 "nbformat_minor": 2
}
