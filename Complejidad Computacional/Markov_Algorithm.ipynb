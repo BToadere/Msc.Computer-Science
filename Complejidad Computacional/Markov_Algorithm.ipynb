{
 "cells": [
  {
   "cell_type": "markdown",
   "metadata": {},
   "source": [
    "# Modelo de Cálculo"
   ]
  },
  {
   "cell_type": "code",
   "execution_count": 10,
   "metadata": {},
   "outputs": [],
   "source": [
    "import warnings\n",
    "\n",
    "class algoritmo_de_Markov:\n",
    "    def __init__(self, reglas, alfabeto =None):\n",
    "        if alfabeto is None:\n",
    "            self.alfabeto = [elem for regla in reglas for elem in regla[:2]]\n",
    "        else:\n",
    "            self.alfabeto = set(alfabeto)\n",
    "        self.reglas = reglas\n",
    "        self._check_reglas()\n",
    "        pass\n",
    "\n",
    "    def _check_reglas(self):\n",
    "        existe_terminal = False\n",
    "        num_regla = 1\n",
    "        for patron, remplazo, ind_terminal in self.reglas:\n",
    "            for i in patron:\n",
    "                if i not in self.alfabeto:\n",
    "                    raise ValueError(f\"Regla {num_regla}: El símbolo '{i}' no pertenece al alfabeto\")\n",
    "            for j in remplazo:\n",
    "                if j not in self.alfabeto:\n",
    "                    raise ValueError(f\"Regla {num_regla}: El símbolo '{j}' no pertenece al alfabeto\")\n",
    "            \n",
    "            if ind_terminal:\n",
    "                existe_terminal = True\n",
    "            \n",
    "            num_regla += 1\n",
    "\n",
    "        if not existe_terminal:\n",
    "            warnings.warn(\"No hay reglas terminales\")\n",
    "        pass\n",
    "\n",
    "    def _check_string(self, string):\n",
    "        for i in string:\n",
    "            if i not in self.alfabeto:\n",
    "                raise ValueError(f\"String: El símbolo '{i}' no pertenece al alfabeto\")\n",
    "        \n",
    "    def exec_string(self, string, verbose=False):\n",
    "        self._check_string(string)\n",
    "        while True:\n",
    "            aplicada = False  # Bandera para verificar si alguna regla fue aplicada\n",
    "            for num_regla, (patron, remplazo, ind_terminal) in enumerate(self.reglas, start=1):\n",
    "                pos = string.find(patron)\n",
    "                if pos != -1:\n",
    "                    string = string[:pos] + remplazo + string[pos + len(patron):]\n",
    "                    aplicada = True\n",
    "                    if verbose:\n",
    "                        print(f\"Estado string: {string}\")\n",
    "                        print(f'Se aplica la regla {num_regla}: \"{patron}\" -> \"{remplazo}\"')\n",
    "                    if ind_terminal:\n",
    "                        if verbose:\n",
    "                            print(\"Regla terminal aplicada, deteniendo ejecución.\")\n",
    "                        return string  # Si es terminal, termina aquí\n",
    "                    break  # Reinicia desde la primera regla\n",
    "            if not aplicada:\n",
    "                # Si no se aplicó ninguna regla en este ciclo, termina la ejecución\n",
    "                if verbose:\n",
    "                    print(\"No se ha podido aplicar ninguna regla más\")\n",
    "                return string"
   ]
  },
  {
   "cell_type": "markdown",
   "metadata": {},
   "source": [
    "# Ejemplos Trabajo:"
   ]
  },
  {
   "cell_type": "markdown",
   "metadata": {},
   "source": [
    "## 2: Patrones repetidos"
   ]
  },
  {
   "cell_type": "code",
   "execution_count": 11,
   "metadata": {},
   "outputs": [
    {
     "name": "stdout",
     "output_type": "stream",
     "text": [
      "{'X', 'a', 'Y', 'b'}\n",
      "ababba\n",
      "Estado string: Xabba\n",
      "Se aplica la regla 1: \"ab\" -> \"X\"\n",
      "Estado string: XXba\n",
      "Se aplica la regla 1: \"ab\" -> \"X\"\n",
      "Estado string: XXY\n",
      "Se aplica la regla 2: \"ba\" -> \"Y\"\n",
      "Regla terminal aplicada, deteniendo ejecución.\n",
      "XXY\n"
     ]
    }
   ],
   "source": [
    "alfabeto = ['a', 'b', 'X', 'Y']\n",
    "R = [\n",
    "    (\"ab\", \"X\", False),\n",
    "    (\"ba\", \"Y\", True)\n",
    "]\n",
    "\n",
    "modelo = algoritmo_de_Markov(R, alfabeto)\n",
    "\n",
    "print(modelo.alfabeto)\n",
    "s= 'ababba'\n",
    "print(s)\n",
    "print(modelo.exec_string(s, verbose=True))\n"
   ]
  },
  {
   "cell_type": "markdown",
   "metadata": {},
   "source": [
    "## 3: Para indicar si una palabra está en un lenguaje"
   ]
  },
  {
   "cell_type": "code",
   "execution_count": 12,
   "metadata": {},
   "outputs": [
    {
     "name": "stdout",
     "output_type": "stream",
     "text": [
      "\n",
      "Probando cadena: aaabbb\n",
      "----------------------------------------\n",
      "Estado string: aabb\n",
      "Se aplica la regla 6: \"ab\" -> \"\"\n",
      "Estado string: ab\n",
      "Se aplica la regla 6: \"ab\" -> \"\"\n",
      "Estado string: \n",
      "Se aplica la regla 6: \"ab\" -> \"\"\n",
      "Estado string: 1\n",
      "Se aplica la regla 10: \"\" -> \"1\"\n",
      "Regla terminal aplicada, deteniendo ejecución.\n",
      "La cadena aaabbb es valida\n",
      "\n",
      "Probando cadena: aabbb\n",
      "----------------------------------------\n",
      "Estado string: abb\n",
      "Se aplica la regla 6: \"ab\" -> \"\"\n",
      "Estado string: b\n",
      "Se aplica la regla 6: \"ab\" -> \"\"\n",
      "Estado string: 0\n",
      "Se aplica la regla 8: \"b\" -> \"0\"\n",
      "Estado string: 0\n",
      "Se aplica la regla 9: \"0\" -> \"0\"\n",
      "Regla terminal aplicada, deteniendo ejecución.\n",
      "La cadena aabbb no es valida\n",
      "\n",
      "Probando cadena: aaa\n",
      "----------------------------------------\n",
      "Estado string: 0aa\n",
      "Se aplica la regla 7: \"a\" -> \"0\"\n",
      "Estado string: 0a\n",
      "Se aplica la regla 3: \"0a\" -> \"0\"\n",
      "Estado string: 0\n",
      "Se aplica la regla 3: \"0a\" -> \"0\"\n",
      "Estado string: 0\n",
      "Se aplica la regla 9: \"0\" -> \"0\"\n",
      "Regla terminal aplicada, deteniendo ejecución.\n",
      "La cadena aaa no es valida\n"
     ]
    }
   ],
   "source": [
    "alfabeto = ['a', 'b', '', '0', '1']\n",
    "R = [\n",
    "    ('ba', '0', False),\n",
    "    ('a0', '0', False),\n",
    "    ('0a', '0', False),\n",
    "    ('b0', '0', False),\n",
    "    ('0b', '0', False),\n",
    "    ('ab', '', False),\n",
    "    ('a', '0', False),\n",
    "    ('b', '0', False),\n",
    "    ('0', '0', True),\n",
    "    ('', '1', True)\n",
    "]\n",
    "\n",
    "pruebas = ['aaabbb', 'aabbb', 'aaa']\n",
    "\n",
    "modelo = algoritmo_de_Markov(R, alfabeto)\n",
    "\n",
    "for p in pruebas:\n",
    "    print(f'\\nProbando cadena: {p}')\n",
    "    print('-'*40)\n",
    "    if modelo.exec_string(p, verbose=True) == '1':\n",
    "        print(f'La cadena {p} es valida')\n",
    "    else:\n",
    "        print(f'La cadena {p} no es valida')"
   ]
  },
  {
   "cell_type": "markdown",
   "metadata": {},
   "source": [
    "## 4: Corrección de textos"
   ]
  },
  {
   "cell_type": "code",
   "execution_count": 13,
   "metadata": {},
   "outputs": [
    {
     "name": "stdout",
     "output_type": "stream",
     "text": [
      "['a', 'b', 'c', 'd', 'e', 'f', 'g', 'h', 'i', 'j', 'k', 'l', 'm', 'n', 'o', 'p', 'q', 'r', 's', 't', 'u', 'v', 'w', 'x', 'y', 'z', 'ñ', ' ', ',', '.', '?']\n",
      "Estado string: hoal, cmo estas? esto qeu te envio tiene errores.\n",
      "Se aplica la regla 1: \"esdto\" -> \"esto\"\n",
      "Estado string: hoal, cmo estas? esto que te envio tiene errores.\n",
      "Se aplica la regla 2: \"qeu\" -> \"que\"\n",
      "Estado string: hola, cmo estas? esto que te envio tiene errores.\n",
      "Se aplica la regla 3: \"hoal\" -> \"hola\"\n",
      "Estado string: hola, como estas? esto que te envio tiene errores.\n",
      "Se aplica la regla 4: \"cmo\" -> \"como\"\n",
      "No se ha podido aplicar ninguna regla más\n"
     ]
    },
    {
     "data": {
      "text/plain": [
       "'hola, como estas? esto que te envio tiene errores.'"
      ]
     },
     "execution_count": 13,
     "metadata": {},
     "output_type": "execute_result"
    }
   ],
   "source": [
    "import string\n",
    "\n",
    "alfabeto = list(string.ascii_lowercase)  # Genera ['a', 'b', ..., 'z']\n",
    "alfabeto.extend(['ñ',' ', ',', '.', '?'])  # Agrega xtras\n",
    "\n",
    "print(alfabeto)\n",
    "R = [\n",
    "    ('esdto', 'esto', False),\n",
    "    ('qeu', 'que', False),\n",
    "    ('hoal', 'hola', False),\n",
    "    ('cmo', 'como', False),\n",
    "    ('algo', '', True)\n",
    "]\n",
    "\n",
    "\n",
    "modelo = algoritmo_de_Markov(reglas=R, alfabeto=alfabeto)\n",
    "\n",
    "string = 'hoal, cmo estas? esdto qeu te envio tiene errores.'\n",
    "modelo.exec_string(string, verbose=True)\n"
   ]
  },
  {
   "cell_type": "markdown",
   "metadata": {},
   "source": [
    "## 5: Descifrando lenguajes cifrados"
   ]
  },
  {
   "cell_type": "code",
   "execution_count": 14,
   "metadata": {},
   "outputs": [
    {
     "name": "stdout",
     "output_type": "stream",
     "text": [
      "Estado string: A_/-.../_/-.-./\n",
      "Se aplica la regla 1: \"/.-/\" -> \"A\"\n",
      "Estado string: A_B_/-.-./\n",
      "Se aplica la regla 2: \"/-.../\" -> \"B\"\n",
      "Estado string: A_B_C\n",
      "Se aplica la regla 3: \"/-.-./\" -> \"C\"\n",
      "Estado string: A B_C\n",
      "Se aplica la regla 37: \"_\" -> \" \"\n",
      "Estado string: A B C\n",
      "Se aplica la regla 37: \"_\" -> \" \"\n",
      "No se ha podido aplicar ninguna regla más\n",
      "Mensaje decodificado: A B C\n"
     ]
    },
    {
     "name": "stderr",
     "output_type": "stream",
     "text": [
      "C:\\Users\\bogdan.stefan\\AppData\\Local\\Temp\\ipykernel_2464\\2936623201.py:30: UserWarning: No hay reglas terminales\n",
      "  warnings.warn(\"No hay reglas terminales\")\n"
     ]
    }
   ],
   "source": [
    "import string\n",
    "\n",
    "reglas_morse = [\n",
    "    (\"/.-/\", \"A\", False), (\"/-.../\", \"B\", False), (\"/-.-./\", \"C\", False), (\"/-../\", \"D\", False),\n",
    "    (\"/./\", \"E\", False), (\"/..-./\", \"F\", False), (\"/--./\", \"G\", False), (\"/..../\", \"H\", False),\n",
    "    (\"/../\", \"I\", False), (\"/.---/\", \"J\", False), (\"/-.-/\", \"K\", False), (\"/.-../\", \"L\", False),\n",
    "    (\"/--/\", \"M\", False), (\"/-./\", \"N\", False), (\"/---/\", \"O\", False), (\"/.--./\", \"P\", False),\n",
    "    (\"/--.-/\", \"Q\", False), (\"/.-./\", \"R\", False), (\"/.../\", \"S\", False), (\"/-/\", \"T\", False),\n",
    "    (\"/..-/\", \"U\", False), (\"/...-/\", \"V\", False), (\"/.--/\", \"W\", False), (\"/-..-/\", \"X\", False),\n",
    "    (\"/-.--/\", \"Y\", False), (\"/--../\", \"Z\", False),\n",
    "    # Números\n",
    "    (\"/-----/\", \"0\", False), (\"/.----/\", \"1\", False), (\"/..---/\", \"2\", False), (\"/...--/\", \"3\", False),\n",
    "    (\"/....-/\", \"4\", False), (\"/...../\", \"5\", False), (\"/-..../\", \"6\", False), (\"/--.../\", \"7\", False),\n",
    "    (\"/---../\", \"8\", False), (\"/----./\", \"9\", False),\n",
    "    # Espacios entre letras y palabras en Morse\n",
    "    (\"_\", \" \", False)\n",
    "]\n",
    "\n",
    "reglas_morse_ordenadas = sorted(reglas_morse, key=lambda x: len(x[0]), reverse=True)\n",
    "\n",
    "# Definicion alfabeto para representar morse\n",
    "alfabeto_morse = ['.', '-', ' ', '/', '_']\n",
    "alfabeto_morse.extend(string.ascii_uppercase)\n",
    "alfabeto_morse.extend(string.digits)\n",
    "\n",
    "# Crear una instancia del algoritmo de Markov para decodificar Morse\n",
    "decodificador_morse = algoritmo_de_Markov(reglas_morse, alfabeto=alfabeto_morse)\n",
    "\n",
    "# Decodificar un mensaje de ejemplo\n",
    "mensaje_morse = \"/.-/_/-.../_/-.-./\"\n",
    "resultado = decodificador_morse.exec_string(mensaje_morse, verbose=True)\n",
    "print(f\"Mensaje decodificado: {resultado}\")\n"
   ]
  }
 ],
 "metadata": {
  "kernelspec": {
   "display_name": "Python 3",
   "language": "python",
   "name": "python3"
  },
  "language_info": {
   "codemirror_mode": {
    "name": "ipython",
    "version": 3
   },
   "file_extension": ".py",
   "mimetype": "text/x-python",
   "name": "python",
   "nbconvert_exporter": "python",
   "pygments_lexer": "ipython3",
   "version": "3.13.2"
  }
 },
 "nbformat": 4,
 "nbformat_minor": 2
}
