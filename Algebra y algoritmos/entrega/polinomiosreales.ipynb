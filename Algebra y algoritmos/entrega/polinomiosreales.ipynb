{
 "cells": [
  {
   "cell_type": "markdown",
   "metadata": {},
   "source": [
    "# Ejer 1 (VI)"
   ]
  },
  {
   "cell_type": "code",
   "execution_count": 17,
   "metadata": {
    "vscode": {
     "languageId": "sage"
    }
   },
   "outputs": [
    {
     "name": "stdout",
     "output_type": "stream",
     "text": [
      "[-0.879385241571817, 1.34729635533386, 2.53208888623796]\n",
      "Raíz: -0.879385241571817, Tipo: <class 'sage.rings.real_mpfr.RealNumber'>\n",
      "q(-0.879385241571817) = 21.9239626545205\n",
      "Raíz: 1.34729635533386, Tipo: <class 'sage.rings.real_mpfr.RealNumber'>\n",
      "q(1.34729635533386) = -1.05737063904887\n",
      "Raíz: 2.53208888623796, Tipo: <class 'sage.rings.real_mpfr.RealNumber'>\n",
      "q(2.53208888623796) = 27.1334079845284\n"
     ]
    }
   ],
   "source": [
    "# Definir el anillo de polinomios\n",
    "R.<x> = PolynomialRing(RR)  # Polinomios sobre los reales\n",
    "\n",
    "# Definir los polinomios\n",
    "q = 10*x^2 - 15*x + 1\n",
    "p = x^3 - 3*x^2 + 3\n",
    "\n",
    "# Encontrar las raíces reales de p\n",
    "raices = p.roots(RR, multiplicities=False)  # Solo raíces reales, ignora multiplicidades\n",
    "print(raices)\n",
    "# Evaluar las raíces de p en q\n",
    "for raiz in raices:\n",
    "    print(f\"Raíz: {raiz}, Tipo: {type(raiz)}\")\n",
    "    # Evaluar q en la raíz\n",
    "    evaluacion = q(raiz)\n",
    "    if evaluacion < 0:\n",
    "        alpha = raiz\n",
    "    print(f\"q({raiz}) = {evaluacion}\")\n"
   ]
  },
  {
   "cell_type": "code",
   "execution_count": 20,
   "metadata": {
    "vscode": {
     "languageId": "sage"
    }
   },
   "outputs": [
    {
     "name": "stdout",
     "output_type": "stream",
     "text": [
      "1.34729635533386\n"
     ]
    }
   ],
   "source": [
    "print(alpha)\n",
    "\n",
    "def do_thom_codification(f,a):\n",
    "    nu = []\n",
    "    n = f.degree()\n",
    "    for i in range(n):\n",
    "        derivada = f.derivative()\n",
    "        if derivada(a) > 0:\n",
    "            nu.append(+1)\n",
    "        elif derivada(a) > 0:\n",
    "            nu.append(-1)\n",
    "        else:\n",
    "            nu.append(0)\n",
    "    return nu\n",
    "\n",
    "lista = do_thom_codification()"
   ]
  },
  {
   "cell_type": "code",
   "execution_count": 21,
   "metadata": {
    "vscode": {
     "languageId": "sage"
    }
   },
   "outputs": [
    {
     "name": "stdout",
     "output_type": "stream",
     "text": [
      "Raíz que cumple Q(alpha) < 0: 1.34729635533386\n",
      "Codificación à la Thom de alpha: (0, -1, 1, 1)\n"
     ]
    }
   ],
   "source": [
    "R.<x> = PolynomialRing(RR, 'x')\n",
    "P = x^3 - 3*x^2 + 3\n",
    "Q = 10*x^2 - 15*x + 1\n",
    "\n",
    "# 1) Raíces reales de P\n",
    "roots_P = P.real_roots()\n",
    "\n",
    "# 2) Seleccionar la raíz alpha que satisfaga Q(alpha) < 0\n",
    "alpha = None\n",
    "for r in roots_P:\n",
    "    if Q(r) < 0:\n",
    "        alpha = r\n",
    "        break\n",
    "\n",
    "# 3) Derivadas de P\n",
    "P1 = P.derivative()       # P'\n",
    "P2 = P1.derivative()      # P''\n",
    "P3 = P2.derivative()      # P^(3)\n",
    "\n",
    "def signo(z):\n",
    "    if z == 0:\n",
    "        return 0\n",
    "    elif z > 0:\n",
    "        return 1\n",
    "    else:\n",
    "        return -1\n",
    "\n",
    "if alpha is not None:\n",
    "    valP  = P(alpha)\n",
    "    valP1 = P1(alpha)\n",
    "    valP2 = P2(alpha)\n",
    "    valP3 = P3(alpha)\n",
    "\n",
    "    codificacion = (signo(valP), signo(valP1), signo(valP2), signo(valP3))\n",
    "    print(\"Raíz que cumple Q(alpha) < 0:\", alpha)\n",
    "    print(\"Codificación à la Thom de alpha:\", codificacion)\n",
    "else:\n",
    "    print(\"No se encontró una raíz de P que satisfaga Q(alpha) < 0.\")\n"
   ]
  },
  {
   "cell_type": "markdown",
   "metadata": {},
   "source": [
    "# Ejercicio 4"
   ]
  },
  {
   "cell_type": "code",
   "execution_count": 30,
   "metadata": {
    "vscode": {
     "languageId": "sage"
    }
   },
   "outputs": [
    {
     "name": "stdout",
     "output_type": "stream",
     "text": [
      "Caso general con parámetros a y b:\n",
      "Secuencia de Sturm: [2*x^3 + x + 1, 6*x^2 + 1, -2/3*x - 1, -29/2]\n",
      "Signos en 0: [1, 1, -1, -29/2]\n",
      "Signos en +infinito: [1, 1, -1, -1]\n",
      "Cambios de signo en 0: 1\n",
      "Cambios de signo en +infinito: 1\n",
      "No existen raíces positivas\n",
      "\n",
      "Caso específico X^3 + 3X^2 + X - 5:\n",
      "Secuencia de Sturm: [x^3 + 3*x^2 + x - 5, 3*x^2 + 6*x + 1, 4/3*x + 16/3, -25]\n",
      "Signos en 0: [-5, 1, 16/3, -25]\n",
      "Signos en +infinito: [1, 1, 1, -1]\n",
      "Cambios de signo en 0: 2\n",
      "Cambios de signo en +infinito: 1\n",
      "Existen raíces positivas\n"
     ]
    },
    {
     "data": {
      "text/plain": [
       "True"
      ]
     },
     "execution_count": 30,
     "metadata": {},
     "output_type": "execute_result"
    }
   ],
   "source": [
    "def sturm_sequence(poly, x):\n",
    "    \"\"\"\n",
    "    Calcula la secuencia de Sturm de un polinomio.\n",
    "\n",
    "    Args:\n",
    "        poly: El polinomio.\n",
    "        x: La variable del polinomio.\n",
    "\n",
    "    Returns:\n",
    "        Una lista con la secuencia de Sturm.\n",
    "    \"\"\"\n",
    "    R = poly.parent()  # Obtener el anillo del polinomio\n",
    "    p = poly\n",
    "    p_prime = poly.derivative(x)\n",
    "    sequence = [p, p_prime]\n",
    "    while p_prime != 0:\n",
    "        remainder = - (p.quo_rem(p_prime)[1])  # Usar quo_rem para obtener el resto\n",
    "        if remainder == 0:\n",
    "            break\n",
    "        sequence.append(remainder)\n",
    "        p = p_prime\n",
    "        p_prime = remainder\n",
    "    return sequence\n",
    "\n",
    "def count_sign_changes(coeffs):\n",
    "    \"\"\"\n",
    "    Cuenta los cambios de signo en una lista de coeficientes.\n",
    "\n",
    "    Args:\n",
    "        coeffs: Una lista de coeficientes.\n",
    "\n",
    "    Returns:\n",
    "        El número de cambios de signo.\n",
    "    \"\"\"\n",
    "    sign_changes = 0\n",
    "    last_sign = None\n",
    "    for coeff in coeffs:\n",
    "        if coeff != 0:\n",
    "            if last_sign is None:\n",
    "                last_sign = sign(coeff)\n",
    "            elif sign(coeff) != last_sign:\n",
    "                sign_changes += 1\n",
    "                last_sign = sign(coeff)\n",
    "    return sign_changes\n",
    "\n",
    "def analyze_positive_roots(poly, x):\n",
    "    \"\"\"\n",
    "    Analiza la existencia de raíces reales positivas de un polinomio cúbico.\n",
    "\n",
    "    Args:\n",
    "        poly: El polinomio cúbico.\n",
    "        x: La variable del polinomio.\n",
    "\n",
    "    Returns:\n",
    "        Un mensaje indicando si hay raíces reales positivas.\n",
    "    \"\"\"\n",
    "    seq = sturm_sequence(poly, x)\n",
    "    print(\"Secuencia de Sturm:\", seq)\n",
    "\n",
    "    coeffs_at_0 = [p.subs(x=0) for p in seq]\n",
    "    print(\"Signos en 0:\", coeffs_at_0)\n",
    "\n",
    "    # Calculamos los signos cuando x tiende a infinito\n",
    "    coeffs_at_inf = [sign(p.leading_coefficient()) for p in seq]\n",
    "    print(\"Signos en +infinito:\", coeffs_at_inf)\n",
    "\n",
    "    changes_at_0 = count_sign_changes(coeffs_at_0)\n",
    "    changes_at_inf = count_sign_changes(coeffs_at_inf)\n",
    "    print(\"Cambios de signo en 0:\", changes_at_0)\n",
    "    print(\"Cambios de signo en +infinito:\", changes_at_inf)\n",
    "\n",
    "    if changes_at_0 > changes_at_inf:\n",
    "        print(\"Existen raíces positivas\")\n",
    "        return True\n",
    "    else:\n",
    "        print(\"No existen raíces positivas\")\n",
    "        return False\n",
    "\n",
    "# Ejemplo de uso:\n",
    "\n",
    "# 1. Caso general con parámetros a y b.\n",
    "print(\"Caso general con parámetros a y b:\")\n",
    "R.<x> = PolynomialRing(QQ)  # Trabajar en un anillo de polinomios sobre los racionales\n",
    "a = R.gen(0)  # Definir parámetro 'a' dentro del anillo\n",
    "b = R.base_ring().gen()  # Definir parámetro 'b' como parte del cuerpo base\n",
    "P = x^3 + a*x^2 + x + b\n",
    "analyze_positive_roots(P, x)\n",
    "\n",
    "# 2. Caso específico X^3 + 3X^2 + X - 5.\n",
    "print(\"\\nCaso específico X^3 + 3X^2 + X - 5:\")\n",
    "P = x^3 + 3*x^2 + x - 5\n",
    "analyze_positive_roots(P, x)\n"
   ]
  },
  {
   "cell_type": "markdown",
   "metadata": {},
   "source": [
    "# Ejercicio 5"
   ]
  },
  {
   "cell_type": "code",
   "execution_count": 31,
   "metadata": {
    "vscode": {
     "languageId": "sage"
    }
   },
   "outputs": [
    {
     "name": "stdout",
     "output_type": "stream",
     "text": [
      "Número de raíces reales distintas: 2\n",
      "Multiplicidades de las raíces reales:\n",
      "No hay suficientes raíces reales distintas para comparar.\n"
     ]
    }
   ],
   "source": [
    "# Ejercicio 5 en SageMath\n",
    "\n",
    "# Definimos el polinomio\n",
    "R.<X> = PolynomialRing(QQ)  # Anillo de polinomios sobre los racionales\n",
    "f = X^5 - 2*X^4 - 3*X^3 + 6*X^2 - 4*X + 8\n",
    "\n",
    "# 1. Número de raíces reales distintas usando la sucesión de Sturm\n",
    "def sturm_sequence(poly):\n",
    "    \"\"\"\n",
    "    Genera la sucesión de Sturm para el polinomio dado.\n",
    "    \"\"\"\n",
    "    seq = [poly, poly.derivative()]\n",
    "    while seq[-1] != 0:\n",
    "        seq.append(-(seq[-2] % seq[-1]))\n",
    "    return seq\n",
    "\n",
    "def count_sign_changes(seq, x):\n",
    "    \"\"\"\n",
    "    Cuenta los cambios de signo en una sucesión evaluada en x.\n",
    "    \"\"\"\n",
    "    vals = [poly(x) for poly in seq]\n",
    "    return sum(1 for i in range(len(vals)-1) if vals[i] * vals[i+1] < 0)\n",
    "\n",
    "def num_real_roots(poly):\n",
    "    \"\"\"\n",
    "    Determina el número de raíces reales distintas usando la sucesión de Sturm.\n",
    "    \"\"\"\n",
    "    seq = sturm_sequence(poly)\n",
    "    inf_sign_changes = count_sign_changes(seq, float('inf'))\n",
    "    neg_inf_sign_changes = count_sign_changes(seq, float('-inf'))\n",
    "    return neg_inf_sign_changes - inf_sign_changes\n",
    "\n",
    "num_roots = num_real_roots(f)\n",
    "print(f\"Número de raíces reales distintas: {num_roots}\")\n",
    "\n",
    "# 2. Multiplicidad de cada raíz\n",
    "from sympy import roots\n",
    "\n",
    "# Calculamos la multiplicidad con SymPy\n",
    "multiplicities = roots(f, multiple=False)\n",
    "print(\"Multiplicidades de las raíces reales:\")\n",
    "for root, mult in multiplicities.items():\n",
    "    print(f\"Raíz: {root}, Multiplicidad: {mult}\")\n",
    "\n",
    "# 3. Comparación entre raíces\n",
    "# Determinamos cuál es mayor entre dos raíces α y β.\n",
    "# Usamos la función roots para encontrar las raíces reales\n",
    "real_roots = sorted(root.evalf() for root in multiplicities.keys())\n",
    "\n",
    "if len(real_roots) >= 2:\n",
    "    alpha, beta = real_roots[0], real_roots[1]  # Por ejemplo, seleccionamos las dos primeras raíces\n",
    "    if alpha > beta:\n",
    "        print(f\"La raíz \\u03b1 ({alpha}) es mayor que \\u03b2 ({beta}).\")\n",
    "    else:\n",
    "        print(f\"La raíz \\u03b2 ({beta}) es mayor que \\u03b1 ({alpha}).\")\n",
    "else:\n",
    "    print(\"No hay suficientes raíces reales distintas para comparar.\")\n"
   ]
  },
  {
   "cell_type": "code",
   "execution_count": 35,
   "metadata": {
    "vscode": {
     "languageId": "sage"
    }
   },
   "outputs": [],
   "source": [
    "def sturm_sequence(p):\n",
    "    \"\"\"Calcula la secuencia de Sturm de un polinomio p.\"\"\"\n",
    "    seq = [p, p.derivative()]\n",
    "    while seq[-1] != 0:\n",
    "        seq.append(-(seq[-2] % seq[-1]))\n",
    "    return seq\n",
    "\n",
    "\n",
    "def sign_changes(poly_list, x):\n",
    "    \"\"\"Calcula el número de cambios de signo en una lista de polinomios evaluados en x.\"\"\"\n",
    "    signs = []\n",
    "    for p in poly_list:\n",
    "      try:\n",
    "         val = p(x)\n",
    "         if val > 0:\n",
    "           signs.append(1)\n",
    "         elif val < 0:\n",
    "           signs.append(-1)\n",
    "         else:\n",
    "           signs.append(0)\n",
    "      except TypeError:\n",
    "         signs.append(0)\n",
    "    changes = 0\n",
    "    last_sign = 0\n",
    "    for sign in signs:\n",
    "      if sign != 0:\n",
    "        if last_sign != 0 and sign != last_sign:\n",
    "          changes += 1\n",
    "        last_sign = sign\n",
    "    return changes\n",
    "\n",
    "def solve_exercise(f):\n",
    "    \"\"\"Resuelve el ejercicio utilizando técnicas algebraicas.\"\"\"\n",
    "\n",
    "    R = f.parent()\n",
    "    x = R.gen()\n",
    "\n",
    "    # 1. Raíces reales distintas (Teorema de Sturm)\n",
    "    sturm_seq = sturm_sequence(f)\n",
    "    changes_neg_inf = sign_changes(sturm_seq, -oo)\n",
    "    changes_pos_inf = sign_changes(sturm_seq, +oo)\n",
    "    num_real_roots = changes_neg_inf - changes_pos_inf\n",
    "    print(f\"Número de raíces reales distintas: {num_real_roots}\")\n",
    "\n",
    "    # 2. Multiplicidad de cada raíz\n",
    "    f_deriv = f.derivative()\n",
    "    gcd_f_deriv = gcd(f, f_deriv)\n",
    "    if gcd_f_deriv == 1:\n",
    "       print(\"El polinomio no tiene raíces múltiples\")\n",
    "    else:\n",
    "        print(\"El polinomio tiene raices múltiples\")\n",
    "        f_squarefree = f / gcd_f_deriv\n",
    "        roots_squarefree = []\n",
    "        for root in f_squarefree.roots():\n",
    "           roots_squarefree.append(root)\n",
    "        print (\"Raíces sin multiplicidad: \", roots_squarefree)\n",
    "        for root in roots_squarefree:\n",
    "           multiplicity = 0\n",
    "           g = f\n",
    "           while(g(root) == 0):\n",
    "              multiplicity += 1\n",
    "              g = g.derivative()\n",
    "           print(f\"Multiplicidad de la raíz {root}: {multiplicity}\")\n",
    "\n",
    "    # 3. Comparación de raíces por multiplicidad (Codificación de números algebraicos)\n",
    "    if num_real_roots > 1:\n",
    "       real_roots = f.real_roots()\n",
    "       print (\"Raíces reales (con multiplicidad):\",real_roots)\n",
    "\n",
    "       if len(real_roots) > 1:\n",
    "         alpha = real_roots\n",
    "         beta = real_roots[1]\n",
    "         print (f\"Primera raíz aislada {alpha}, segunda raíz aislada {beta}\")\n",
    "         if alpha > beta:\n",
    "            print(f\"La raíz α = {alpha} es mayor que la raíz β = {beta}\")\n",
    "         elif beta > alpha:\n",
    "            print(f\"La raíz β = {beta} es mayor que la raíz α = {alpha}\")\n",
    "         else:\n",
    "           print(f\"La raíz α = {alpha} es igual a la raíz β = {beta}\")\n",
    "\n"
   ]
  },
  {
   "cell_type": "code",
   "execution_count": 37,
   "metadata": {
    "vscode": {
     "languageId": "sage"
    }
   },
   "outputs": [
    {
     "name": "stdout",
     "output_type": "stream",
     "text": [
      "Número de raíces reales distintas: 2\n",
      "El polinomio tiene raices múltiples\n",
      "El polinomio libre de cuadrados es: x^4 - 3*x^2 - 4\n",
      "Para comparar las raíces, se requeriría una codificación de números algebraicos, lo cual excede el alcance de este algoritmo\n"
     ]
    }
   ],
   "source": [
    "def sturm_sequence(p):\n",
    "    \"\"\"Calcula la secuencia de Sturm de un polinomio p.\"\"\"\n",
    "    seq = [p, p.derivative()]\n",
    "    while seq[-1] != 0:\n",
    "        seq.append(-(seq[-2] % seq[-1]))\n",
    "    return seq\n",
    "\n",
    "\n",
    "def sign_changes(poly_list, x):\n",
    "    \"\"\"Calcula el número de cambios de signo en una lista de polinomios evaluados en x.\"\"\"\n",
    "    signs = []\n",
    "    for p in poly_list:\n",
    "      try:\n",
    "         val = p(x)\n",
    "         if val > 0:\n",
    "           signs.append(1)\n",
    "         elif val < 0:\n",
    "           signs.append(-1)\n",
    "         else:\n",
    "           signs.append(0)\n",
    "      except TypeError:\n",
    "         signs.append(0)\n",
    "    changes = 0\n",
    "    last_sign = 0\n",
    "    for sign in signs:\n",
    "      if sign != 0:\n",
    "        if last_sign != 0 and sign != last_sign:\n",
    "          changes += 1\n",
    "        last_sign = sign\n",
    "    return changes\n",
    "\n",
    "def solve_exercise(f):\n",
    "    \"\"\"Resuelve el ejercicio utilizando técnicas algebraicas.\"\"\"\n",
    "\n",
    "    R = f.parent()\n",
    "    x = R.gen()\n",
    "\n",
    "    # 1. Raíces reales distintas (Teorema de Sturm)\n",
    "    sturm_seq = sturm_sequence(f)\n",
    "    changes_neg_inf = sign_changes(sturm_seq, -oo)\n",
    "    changes_pos_inf = sign_changes(sturm_seq, +oo)\n",
    "    num_real_roots = changes_neg_inf - changes_pos_inf\n",
    "    print(f\"Número de raíces reales distintas: {num_real_roots}\")\n",
    "\n",
    "    # 2. Multiplicidad de cada raíz\n",
    "    f_deriv = f.derivative()\n",
    "    gcd_f_deriv = gcd(f, f_deriv)\n",
    "    if gcd_f_deriv == 1:\n",
    "       print(\"El polinomio no tiene raíces múltiples\")\n",
    "    else:\n",
    "        print(\"El polinomio tiene raices múltiples\")\n",
    "        f_squarefree = f / gcd_f_deriv\n",
    "        print(f\"El polinomio libre de cuadrados es: {f_squarefree}\")\n",
    "\n",
    "    # 3. Comparación de raíces por multiplicidad (Codificación de números algebraicos)\n",
    "    if num_real_roots > 1:\n",
    "       print (\"Para comparar las raíces, se requeriría una codificación de números algebraicos, lo cual excede el alcance de este algoritmo\")\n",
    "\n",
    "\n",
    "# Definir el anillo de polinomios y la variable\n",
    "R.<x> = QQ[]\n",
    "\n",
    "# Definir el polinomio f\n",
    "f = x^5 - 2*x^4 - 3*x^3 + 6*x^2 - 4*x + 8\n",
    "\n",
    "# Resolver el ejercicio\n",
    "solve_exercise(f)\n"
   ]
  },
  {
   "cell_type": "markdown",
   "metadata": {},
   "source": [
    "## Suclución apartado 3"
   ]
  },
  {
   "cell_type": "code",
   "execution_count": 54,
   "metadata": {
    "vscode": {
     "languageId": "sage"
    }
   },
   "outputs": [
    {
     "name": "stdout",
     "output_type": "stream",
     "text": [
      "Factorización: (x - 2) * (x + 2) * (x^2 + 1)\n",
      "\n",
      "ITERACIÓN 0\n",
      "=======================\n",
      "df^0(a) = 0\n",
      "df^0(b) = 0\n",
      "\n",
      "ITERACIÓN 1\n",
      "=======================\n",
      "df^1(a) = -20\n",
      "df^1(b) = 20\n",
      "\n",
      "ITERACIÓN 2\n",
      "=======================\n",
      "df^2(a) = 42\n",
      "df^2(b) = 42\n",
      "\n",
      "ITERACIÓN 3\n",
      "=======================\n",
      "df^3(a) = -48\n",
      "df^3(b) = 48\n",
      "\n",
      "ITERACIÓN 4\n",
      "=======================\n",
      "df^4(a) = 24\n",
      "df^4(b) = 24\n",
      "\n",
      "ITERACIÓN 5\n",
      "=======================\n",
      "df^5(a) = 0\n",
      "df^5(b) = 0\n",
      "\n",
      "ITERACIÓN 6\n",
      "=======================\n",
      "df^6(a) = 0\n",
      "df^6(b) = 0\n",
      "Máxima diferencia encontrada en k = 3\n",
      "signo(df^(k+1)(a)) = 1\n",
      "signo(df^(k+1)(b)) = 1\n",
      "b > a porque df^3(b) > df^3(a)\n"
     ]
    }
   ],
   "source": [
    "# Definir el anillo de polinomios y la variable\n",
    "R.<x> = QQ[]\n",
    "a = -2\n",
    "b = 2\n",
    "\n",
    "# Definir el polinomio f\n",
    "f = x^4 - 3*x^2 - 4\n",
    "\n",
    "# Factorizar el polinomio\n",
    "factorization = f.factor()\n",
    "print(\"Factorización:\", factorization)\n",
    "n = f.degree()\n",
    "\n",
    "# Inicializar las variables necesarias para el cálculo\n",
    "df = f\n",
    "max_k = -1  # Índice donde las derivadas difieren más\n",
    "max_difference = 0  # Máxima diferencia entre derivadas evaluadas en a y b\n",
    "\n",
    "# Iterar sobre las derivadas hasta el grado del polinomio\n",
    "for i in range(n + 3):\n",
    "    print()\n",
    "    print(f'ITERACIÓN {i}')\n",
    "    print('=======================')\n",
    "    print(f'df^{i}(a) = {df(a)}')\n",
    "    print(f'df^{i}(b) = {df(b)}')\n",
    "\n",
    "    # Calcular la diferencia absoluta entre las derivadas en a y b\n",
    "    difference = abs(df(a) - df(b))\n",
    "    if difference > max_difference:\n",
    "        max_difference = difference\n",
    "        max_k = i\n",
    "\n",
    "    # Calcular la siguiente derivada\n",
    "    df = df.derivative()\n",
    "\n",
    "# Si encontramos un índice k donde las derivadas difieren\n",
    "if max_k != -1:\n",
    "    df_k = f\n",
    "    for _ in range(max_k):\n",
    "        df_k = df_k.derivative()\n",
    "\n",
    "    df_k_plus_1 = df_k.derivative()  # Calculamos la derivada de orden max_k+1\n",
    "    signo_a = sign(df_k_plus_1(a))\n",
    "    signo_b = sign(df_k_plus_1(b))\n",
    "\n",
    "    print(f\"Máxima diferencia encontrada en k = {max_k}\")\n",
    "    print(f\"signo(df^(k+1)(a)) = {signo_a}\")\n",
    "    print(f\"signo(df^(k+1)(b)) = {signo_b}\")\n",
    "\n",
    "    if signo_a == signo_b:\n",
    "        if signo_a == 1:\n",
    "            if df_k(a) > df_k(b):\n",
    "                print(f\"a > b porque df^{max_k}(a) > df^{max_k}(b)\")\n",
    "            else:\n",
    "                print(f\"b > a porque df^{max_k}(b) > df^{max_k}(a)\")\n",
    "        elif signo_a == -1:\n",
    "            if df_k(a) < df_k(b):\n",
    "                print(f\"a > b porque df^{max_k}(a) < df^{max_k}(b)\")\n",
    "            else:\n",
    "                print(f\"b > a porque df^{max_k}(b) < df^{max_k}(a)\")\n",
    "    else:\n",
    "        print(\"Error: Los signos de df^(k+1) en a y b no coinciden, lo que contradice el enunciado.\")\n",
    "else:\n",
    "    print(\"No se encontró un índice k donde las derivadas difieran. a y b podrían ser indistinguibles en este caso.\")\n"
   ]
  },
  {
   "cell_type": "code",
   "execution_count": null,
   "metadata": {
    "vscode": {
     "languageId": "sage"
    }
   },
   "outputs": [],
   "source": [
    "\n",
    "# Definir el anillo de polinomios y la variable\n",
    "R.<x> = QQ[]\n",
    "\n",
    "# Definir el polinomio f\n",
    "f = x^5 - 2*x^4 - 3*x^3 + 6*x^2 - 4*x + 8\n",
    "# Factorizar el polinomio\n",
    "factorization = f.factor()\n",
    "\n",
    "# Mostrar la factorización\n",
    "print(\"Factorización de f:\", factorization)\n",
    "# Resolver el ejercicio\n",
    "solve_exercise(f)\n"
   ]
  },
  {
   "cell_type": "code",
   "execution_count": null,
   "metadata": {
    "vscode": {
     "languageId": "sage"
    }
   },
   "outputs": [],
   "source": []
  }
 ],
 "metadata": {
  "kernelspec": {
   "display_name": "SageMath 9.5",
   "language": "sage",
   "name": "sagemath"
  },
  "language_info": {
   "codemirror_mode": {
    "name": "ipython",
    "version": 3
   },
   "file_extension": ".py",
   "mimetype": "text/x-python",
   "name": "python",
   "nbconvert_exporter": "python",
   "pygments_lexer": "ipython3",
   "version": "3.10.12"
  }
 },
 "nbformat": 4,
 "nbformat_minor": 2
}
