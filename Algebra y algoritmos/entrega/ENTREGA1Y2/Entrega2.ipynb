{
 "cells": [
  {
   "cell_type": "raw",
   "metadata": {
    "vscode": {
     "languageId": "raw"
    }
   },
   "source": [
    "\"\"\"\n",
    "###############################################################################\n",
    "# Nombre del Archivo   : Entrega2.ipynb\n",
    "# Autor                : Bogdan Stefan Toadere\n",
    "# Fecha de Creación    : 27/12/2024\n",
    "# Última Modificación  : 08/01/2025\n",
    "# Descripción          : Resolución de los problemas planteados en la entrega 2.\n",
    "# Observaciones        : Desarrollo con fines pedagógico sin control de errores\n",
    "#                        y sin optimizar.\n",
    "# Licencia             : Este código está bajo la licencia CC BY 4.0. \n",
    "#                        Se permite usar, compartir y adaptar con atribución. \n",
    "#                        Detalles: https://creativecommons.org/licenses/by/4.0/\n",
    "###############################################################################\n",
    "\"\"\""
   ]
  },
  {
   "cell_type": "markdown",
   "metadata": {},
   "source": [
    "# Ejer 3 (VI)"
   ]
  },
  {
   "cell_type": "code",
   "execution_count": 14,
   "metadata": {
    "vscode": {
     "languageId": "sage"
    }
   },
   "outputs": [
    {
     "name": "stdout",
     "output_type": "stream",
     "text": [
      "Raíz que cumple Q(alpha) < 0: 1.34729635533386\n",
      "Codificación à la Thom de alpha: (0, -1, 1, 1)\n"
     ]
    }
   ],
   "source": [
    "R.<x> = PolynomialRing(RR, 'x')\n",
    "P = x^3 - 3*x^2 + 3\n",
    "Q = 10*x^2 - 15*x + 1\n",
    "\n",
    "def signo(z):\n",
    "    \"\"\"\n",
    "    Retorna el signo de un número: -1 si es negativo, 0 si es cero, y 1 si es positivo.\n",
    "    \"\"\"\n",
    "    if z == 0:\n",
    "        return 0\n",
    "    elif z > 0:\n",
    "        return 1\n",
    "    else:\n",
    "        return -1\n",
    "\n",
    "def thom_codification(f, a):\n",
    "    \"\"\"\n",
    "    Calcula la codificación à la Thom de un punto 'a' respecto al polinomio 'f'.\n",
    "    Devuelve una tupla de los signos de las derivadas de 'f' evaluadas en 'a'.\n",
    "    \"\"\"\n",
    "    derivadas = [f]\n",
    "    for _ in range(f.degree()):\n",
    "        derivadas.append(derivadas[-1].derivative())\n",
    "\n",
    "    return tuple(signo(derivada(a)) for derivada in derivadas)\n",
    "\n",
    "# 1) Raíces reales de P\n",
    "roots_P = P.real_roots()\n",
    "\n",
    "# 2) Seleccionar la raíz alpha que satisfaga Q(alpha) < 0\n",
    "alpha = next((r for r in roots_P if Q(r) < 0), None)\n",
    "\n",
    "# 3) Calcular codificación à la Thom\n",
    "if alpha is not None:\n",
    "    codificacion = thom_codification(P, alpha)\n",
    "\n",
    "    print(\"Raíz que cumple Q(alpha) < 0:\", alpha)\n",
    "    print(\"Codificación à la Thom de alpha:\", codificacion)\n",
    "else:\n",
    "    print(\"No se encontró una raíz de P que satisfaga Q(alpha) < 0.\")\n"
   ]
  },
  {
   "cell_type": "markdown",
   "metadata": {},
   "source": [
    "# Ejercicio 4"
   ]
  },
  {
   "cell_type": "code",
   "execution_count": 15,
   "metadata": {
    "vscode": {
     "languageId": "sage"
    }
   },
   "outputs": [
    {
     "name": "stdout",
     "output_type": "stream",
     "text": [
      "\n",
      "Caso específico X^3 + 3X^2 + X - 5:\n",
      "Polinomio a analizar: x^3 + 3*x^2 + x - 5\n",
      "Calculando resto: x^2 + 2/3*x - 5\n",
      "Calculando resto: 40/3*x + 20\n",
      "Calculando resto: -15/4\n",
      "Calculando resto: 0\n",
      "Secuencia de Sturm calculada:\n",
      "x^3 + 3*x^2 + x - 5\n",
      "3*x^3 + 6*x^2 + x\n",
      "x^2 + 2/3*x - 5\n",
      "40/3*x + 20\n",
      "-15/4\n",
      "\n",
      "Coeficientes evaluados en 0: [-5, 0, -5, 20, -15/4]\n",
      "Signos de los coeficientes líderes en +infinito: [1, 1, 1, 1, -1]\n",
      "Número de cambios de signo en 0: 2\n",
      "Número de cambios de signo en +infinito: 1\n",
      "Resultado: Existen raíces 1 positivas\n"
     ]
    },
    {
     "data": {
      "text/plain": [
       "1"
      ]
     },
     "execution_count": 15,
     "metadata": {},
     "output_type": "execute_result"
    }
   ],
   "source": [
    "def calcular_secuencia_de_sturm(polinomio, condicion=1, verbose=False):\n",
    "    R = polinomio.parent()  # Obtener el anillo del polinomio\n",
    "    p = polinomio\n",
    "    p_prima = polinomio.derivative(x)*condicion\n",
    "    secuencia = [p, p_prima]\n",
    "    while p_prima != 0:\n",
    "        resto = p%p_prima\n",
    "        secuencia.append(resto)\n",
    "        p = p_prima\n",
    "        p_prima = resto\n",
    "        if verbose:\n",
    "            print(f\"Calculando resto: {resto}\")  # Verbose para entender la secuencia\n",
    "    return secuencia[:-1]\n",
    "\n",
    "def contar_cambios_de_signo(coeficientes, verbose=False):\n",
    "    cambios_de_signo = 0\n",
    "    ultimo_signo = None\n",
    "    for coef in coeficientes:\n",
    "        if coef != 0:\n",
    "            if ultimo_signo is None:\n",
    "                ultimo_signo = sign(coef)\n",
    "            elif sign(coef) != ultimo_signo:\n",
    "                cambios_de_signo += 1\n",
    "                ultimo_signo = sign(coef)\n",
    "    return cambios_de_signo\n",
    "\n",
    "def analizar_raices(polinomio, x, verbose=False):\n",
    "    if verbose:\n",
    "        print(f\"Polinomio a analizar: {polinomio}\")  # Verbose para mostrar el polinomio inicial\n",
    "    secuencia = calcular_secuencia_de_sturm(polinomio=polinomio, condicion = x, verbose=verbose)\n",
    "    if verbose:\n",
    "        print(\"Secuencia de Sturm calculada:\")\n",
    "        print(*secuencia, \"\", sep=\"\\n\")\n",
    "\n",
    "    coeficientes_en_0 = [p.subs(x=0) for p in secuencia]\n",
    "    if verbose:\n",
    "        print(f\"Coeficientes evaluados en 0: {coeficientes_en_0}\")\n",
    "\n",
    "    # Calculamos los signos cuando x tiende a infinito\n",
    "    coeficientes_en_inf = [sign(p.leading_coefficient()) for p in secuencia]\n",
    "    if verbose:\n",
    "        print(f\"Signos de los coeficientes líderes en +infinito: {coeficientes_en_inf}\")\n",
    "\n",
    "    cambios_en_0 = contar_cambios_de_signo(coeficientes_en_0, verbose)\n",
    "    if verbose:\n",
    "        print(f\"Número de cambios de signo en 0: {cambios_en_0}\")\n",
    "\n",
    "    cambios_en_inf = contar_cambios_de_signo(coeficientes_en_inf, verbose)\n",
    "    if verbose:\n",
    "        print(f\"Número de cambios de signo en +infinito: {cambios_en_inf}\")\n",
    "\n",
    "    num_raices = cambios_en_0 - cambios_en_inf\n",
    "    if num_raices != 0:\n",
    "        if verbose:\n",
    "            print(f\"Resultado: Existen raíces {num_raices} positivas\")\n",
    "        return num_raices\n",
    "    else:\n",
    "        if verbose:\n",
    "            print(\"Resultado: No existen raíces positivas\")\n",
    "        return num_raices\n",
    "\n",
    "\n",
    "\n",
    "R.<x> = PolynomialRing(QQ)  \n",
    "\"\"\"\n",
    "# 1. Caso general con parámetros a y b.\n",
    "    ## He tratado de automatizarlo incluso con a y b sin embargo me parece qeu carezco de lso ocnociemintos \n",
    "    ## tecnicos para conseguirlo, no s emuy bien ocmo definir a yb\n",
    "    ## he probado con R.<x,a,b> dura un monton de tiempo, (es un problema expspace)\n",
    "    ## tambien he priobado con a = R.base_ring().gen() b = R.base_ring().gen()  pero no encaja...\n",
    "print(\"Caso general con parámetros a y b:\")\n",
    "\n",
    "P = x^3 + a*x^2 + x + b\n",
    "a = R.base_ring().gen()  # Definir parámetro 'a' como parte del cuerpo base\n",
    "b = R.base_ring().gen()  # Definir parámetro 'b' como parte del cuerpo base\n",
    "analizar_raices(P, x)\n",
    "\"\"\"\n",
    "\n",
    "# 2. Caso específico X^3 + 3X^2 + X - 5.\n",
    "print(\"\\nCaso específico X^3 + 3X^2 + X - 5:\")\n",
    "P = x^3 + 3*x^2 + x - 5\n",
    "analizar_raices(P, x, verbose=True)"
   ]
  },
  {
   "cell_type": "markdown",
   "metadata": {},
   "source": [
    "# Ejercicio 5"
   ]
  },
  {
   "cell_type": "markdown",
   "metadata": {},
   "source": [
    "## Apartado I"
   ]
  },
  {
   "cell_type": "code",
   "execution_count": 16,
   "metadata": {
    "vscode": {
     "languageId": "sage"
    }
   },
   "outputs": [
    {
     "name": "stdout",
     "output_type": "stream",
     "text": [
      "Polinomio factorizado: (x + 2) * (x - 2)^2 * (x^2 + 1)\n",
      "Número de raíces reales distintas: 2\n"
     ]
    },
    {
     "data": {
      "text/plain": [
       "2"
      ]
     },
     "execution_count": 16,
     "metadata": {},
     "output_type": "execute_result"
    }
   ],
   "source": [
    "def secuencia_de_sturm(p):\n",
    "    \"\"\"\n",
    "    Calcula la secuencia de Sturm de un polinomio p.\n",
    "    \"\"\"\n",
    "    secuencia = [p, p.derivative()]\n",
    "    while secuencia[-1] != 0:\n",
    "        resto = -(secuencia[-2] % secuencia[-1])  # Cambiar el signo del resto\n",
    "        secuencia.append(resto)\n",
    "    return secuencia[:-1]  # Eliminar el último 0\n",
    "\n",
    "def cambios_de_signo(lista_polinomios, x):\n",
    "    \"\"\"\n",
    "    Calcula el número de cambios de signo en una lista de polinomios evaluados en x.\n",
    "    \"\"\"\n",
    "    signos = []\n",
    "    for p in lista_polinomios:\n",
    "        try:\n",
    "            valor = p(x)\n",
    "            if valor > 0:\n",
    "                signos.append(1)\n",
    "            elif valor < 0:\n",
    "                signos.append(-1)\n",
    "            else:\n",
    "                signos.append(0)\n",
    "        except TypeError:\n",
    "            signos.append(0)\n",
    "    cambios = 0\n",
    "    ultimo_signo = 0\n",
    "    for signo in signos:\n",
    "        if signo != 0:\n",
    "            if ultimo_signo != 0 and signo != ultimo_signo:\n",
    "                cambios += 1\n",
    "            ultimo_signo = signo\n",
    "    return cambios\n",
    "\n",
    "def apartado_i(f, verbose= False):\n",
    "    \"\"\"\n",
    "    Determina el número de raíces reales distintas de un polinomio f usando el teorema de Sturm.\n",
    "    \"\"\"\n",
    "    R = f.parent()\n",
    "    x = R.gen()\n",
    "\n",
    "    secuencia_sturm = secuencia_de_sturm(f)\n",
    "    cambios_menos_infinito = cambios_de_signo(secuencia_sturm, -oo)\n",
    "    cambios_mas_infinito = cambios_de_signo(secuencia_sturm, +oo)\n",
    "    num_raices_reales = cambios_menos_infinito - cambios_mas_infinito\n",
    "    if verbose:\n",
    "        print(f\"Número de raíces reales distintas: {num_raices_reales}\")\n",
    "    return num_raices_reales\n",
    "\n",
    "# Definir el anillo de polinomios y la variable\n",
    "R.<x> = QQ[]\n",
    "\n",
    "# Definir el polinomio f\n",
    "f = x^5 - 2*x^4 - 3*x^3 + 6*x^2 - 4*x + 8\n",
    "# Ver el polinomio factorizado\n",
    "print(\"Polinomio factorizado:\", f.factor())\n",
    "\n",
    "apartado_i(f, verbose=True)"
   ]
  },
  {
   "cell_type": "markdown",
   "metadata": {},
   "source": [
    "## Apartado II"
   ]
  },
  {
   "cell_type": "code",
   "execution_count": 17,
   "metadata": {
    "vscode": {
     "languageId": "sage"
    }
   },
   "outputs": [
    {
     "name": "stdout",
     "output_type": "stream",
     "text": [
      "\n",
      "Procesando raíces con multiplicidad 1...\n",
      "Número de raíces del polinomio actual: 2\n",
      "Nuevo MCD del polinomio reducido y su derivada: x - 2\n",
      "Número de raíces del MCD: 1\n",
      "Hay 1 raíces con multiplicidad 1.\n",
      "Polinomio reducido: x - 2\n",
      "\n",
      "Procesando raíces con multiplicidad 2...\n",
      "Número de raíces del polinomio actual: 1\n",
      "Nuevo MCD del polinomio reducido y su derivada: 1\n",
      "Número de raíces del MCD: 0\n",
      "Hay 1 raíces con multiplicidad 2.\n",
      "Polinomio reducido: 1\n",
      "\n",
      "Procesando raíces con multiplicidad 3...\n",
      "Número de raíces del polinomio actual: 0\n",
      "Nuevo MCD del polinomio reducido y su derivada: 1\n",
      "Número de raíces del MCD: 0\n",
      "Hay 0 raíces con multiplicidad 3.\n",
      "Polinomio reducido: 1\n"
     ]
    }
   ],
   "source": [
    "def apartado_ii(f, verbose=False):\n",
    "    \"\"\"\n",
    "    Determina si las raíces de f son únicas o si tienen multiplicidad, y cuenta las raíces\n",
    "    para cada multiplicidad. Detiene el proceso si el polinomio es libre de cuadrados.\n",
    "    \"\"\"\n",
    "    derivada_f = f.derivative()\n",
    "    mcd_f_derivada = gcd(f, derivada_f)\n",
    "    grado = f.degree()\n",
    "\n",
    "    if mcd_f_derivada == 1:\n",
    "        print(\"Todas las raíces son únicas.\")\n",
    "    else:\n",
    "        multiplicidad = 1\n",
    "        num_raices_f = apartado_i(f)\n",
    "        while num_raices_f>0:  # Continuar mientras el polinomio no sea libre de cuadrados\n",
    "            if verbose:\n",
    "                print(f\"\\nProcesando raíces con multiplicidad {multiplicidad}...\")\n",
    "\n",
    "            num_raices_f = apartado_i(f)\n",
    "            if verbose:\n",
    "                print(f\"Número de raíces del polinomio actual: {num_raices_f}\")\n",
    "\n",
    "            mcd_f_derivada = gcd(f, derivada_f)\n",
    "            if verbose:\n",
    "                print(f\"Nuevo MCD del polinomio reducido y su derivada: {mcd_f_derivada.factor()}\")\n",
    "\n",
    "            num_raices_mcd = apartado_i(mcd_f_derivada)\n",
    "            if verbose:\n",
    "                print(f\"Número de raíces del MCD: {num_raices_mcd}\")\n",
    "\n",
    "            raices_con_multiplicidad = num_raices_f - num_raices_mcd\n",
    "\n",
    "            if verbose:\n",
    "                print(f\"Hay {raices_con_multiplicidad} raíces con multiplicidad {multiplicidad}.\")\n",
    "\n",
    "            f = mcd_f_derivada  # Reducir el polinomio eliminando raíces de esta multiplicidad\n",
    "            if verbose:\n",
    "                print(f\"Polinomio reducido: {f.factor()}\")\n",
    "\n",
    "            derivada_f = f.derivative()\n",
    "            mcd_f_derivada = gcd(f, derivada_f)  # Actualizar el MCD\n",
    "            multiplicidad += 1\n",
    "\n",
    "# Definir el anillo de polinomios y la variable\n",
    "R.<x> = QQ[]\n",
    "\n",
    "# Definir el polinomio f\n",
    "f = x^5 - 2*x^4 - 3*x^3 + 6*x^2 - 4*x + 8\n",
    "\n",
    "# Resolver el apartado ii\n",
    "apartado_ii(f, verbose=True)\n"
   ]
  },
  {
   "cell_type": "markdown",
   "metadata": {},
   "source": [
    "## Apartado III"
   ]
  },
  {
   "cell_type": "code",
   "execution_count": 18,
   "metadata": {
    "vscode": {
     "languageId": "sage"
    }
   },
   "outputs": [
    {
     "name": "stdout",
     "output_type": "stream",
     "text": [
      "\n",
      "ITERACIÓN 0\n",
      "=======================\n",
      "df^0(a) = 0.000000000000000\n",
      "df^0(b) = 0.000000000000000\n",
      "\n",
      "ITERACIÓN 1\n",
      "=======================\n",
      "df^1(a) = 80.0000000000000\n",
      "df^1(b) = 0.000000000000000\n",
      "\n",
      "ITERACIÓN 2\n",
      "=======================\n",
      "df^2(a) = -208.000000000000\n",
      "df^2(b) = 40.0000000000000\n",
      "\n",
      "ITERACIÓN 3\n",
      "=======================\n",
      "df^3(a) = 318.000000000000\n",
      "df^3(b) = 126.000000000000\n",
      "\n",
      "ITERACIÓN 4\n",
      "=======================\n",
      "df^4(a) = -288.000000000000\n",
      "df^4(b) = 192.000000000000\n",
      "\n",
      "ITERACIÓN 5\n",
      "=======================\n",
      "df^5(a) = 120.000000000000\n",
      "df^5(b) = 120.000000000000\n",
      "\n",
      "ITERACIÓN 6\n",
      "=======================\n",
      "df^6(a) = 0.000000000000000\n",
      "df^6(b) = 0.000000000000000\n",
      "\n",
      "ITERACIÓN 7\n",
      "=======================\n",
      "df^7(a) = 0.000000000000000\n",
      "df^7(b) = 0.000000000000000\n",
      "Máxima diferencia encontrada en k = 4\n",
      "signo(df^(k+1)(a)) = 1\n",
      "signo(df^(k+1)(b)) = 1\n",
      "b > a porque df^4(b) > df^4(a)\n"
     ]
    }
   ],
   "source": [
    "# Definir el anillo de polinomios y la variable\n",
    "R.<x> = RR[]\n",
    "a = -2\n",
    "b = 2\n",
    "\n",
    "# Definir el polinomio f\n",
    "f = x^5 - 2*x^4 - 3*x^3 + 6*x^2 - 4*x + 8\n",
    "\n",
    "# Factorizar el polinomio con fines ilustrativos\n",
    "# factorization = f.factor()\n",
    "# print(\"Factorización:\", factorization)\n",
    "n = f.degree()\n",
    "\n",
    "# Inicializar las variables necesarias para el cálculo\n",
    "df = f\n",
    "max_k = -1  # Índice donde las derivadas difieren más\n",
    "max_difference = 0  # Máxima diferencia entre derivadas evaluadas en a y b\n",
    "\n",
    "# Iterar sobre las derivadas hasta el grado del polinomio\n",
    "for i in range(n + 3):\n",
    "    print(f'\\nITERACIÓN {i}')\n",
    "    print('=======================')\n",
    "    print(f'df^{i}(a) = {df(a)}')\n",
    "    print(f'df^{i}(b) = {df(b)}')\n",
    "\n",
    "    # Calcular la diferencia absoluta entre las derivadas en a y b\n",
    "    difference = abs(df(a) - df(b))\n",
    "    if difference > max_difference:\n",
    "        max_difference = difference\n",
    "        max_k = i\n",
    "\n",
    "    # Calcular la siguiente derivada\n",
    "    df = df.derivative()\n",
    "\n",
    "# Si encontramos un índice k donde las derivadas difieren\n",
    "if max_k != -1:\n",
    "    df_k = f\n",
    "    for _ in range(max_k):\n",
    "        df_k = df_k.derivative()\n",
    "\n",
    "    df_k_plus_1 = df_k.derivative()  # Calculamos la derivada de orden max_k+1\n",
    "    signo_a = sign(df_k_plus_1(a))\n",
    "    signo_b = sign(df_k_plus_1(b))\n",
    "\n",
    "    print(f\"Máxima diferencia encontrada en k = {max_k}\")\n",
    "    print(f\"signo(df^(k+1)(a)) = {signo_a}\")\n",
    "    print(f\"signo(df^(k+1)(b)) = {signo_b}\")\n",
    "\n",
    "    if signo_a == signo_b:\n",
    "        if signo_a == 1:\n",
    "            if df_k(a) > df_k(b):\n",
    "                print(f\"a > b porque df^{max_k}(a) > df^{max_k}(b)\")\n",
    "            else:\n",
    "                print(f\"b > a porque df^{max_k}(b) > df^{max_k}(a)\")\n",
    "        elif signo_a == -1:\n",
    "            if df_k(a) < df_k(b):\n",
    "                print(f\"a > b porque df^{max_k}(a) < df^{max_k}(b)\")\n",
    "            else:\n",
    "                print(f\"b > a porque df^{max_k}(b) < df^{max_k}(a)\")\n",
    "    else:\n",
    "        print(\"Error: Los signos de df^(k+1) en a y b no coinciden, lo que contradice el enunciado.\")\n",
    "else:\n",
    "    print(\"No se encontró un índice k donde las derivadas difieran. a y b podrían ser indistinguibles en este caso.\")\n"
   ]
  }
 ],
 "metadata": {
  "kernelspec": {
   "display_name": "SageMath 9.5",
   "language": "sage",
   "name": "sagemath"
  },
  "language_info": {
   "codemirror_mode": {
    "name": "ipython",
    "version": 3
   },
   "file_extension": ".py",
   "mimetype": "text/x-python",
   "name": "python",
   "nbconvert_exporter": "python",
   "pygments_lexer": "ipython3",
   "version": "3.10.12"
  }
 },
 "nbformat": 4,
 "nbformat_minor": 2
}
