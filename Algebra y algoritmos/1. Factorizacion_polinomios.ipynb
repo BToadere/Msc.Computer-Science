{
 "cells": [
  {
   "cell_type": "markdown",
   "metadata": {},
   "source": [
    "# Factorización de polinomios sobre cuerpos finitos."
   ]
  },
  {
   "cell_type": "markdown",
   "metadata": {},
   "source": [
    "- Conceptos Básicos:\n",
    "    - *Dominio de Factorización Única (DFU)*: Cada elemento puede ser factorizado en un producto de elementos irreducibles de manera única (salvo el orden de los factores y la multiplicación por unidades).\n",
    "    Ejemplo: Tanto el conjunto de números enteros (ℤ) como el conjunto de polinomios en n variables con coeficientes en un campo F (denotado como F [x<sub>1</sub>, ..., x<sub>n</sub>]) son DFU.\n",
    "    - *Polinomio Irreducible*: Un polinomio f ∈ F [x<sub>1</sub>, ..., x<sub>n</sub>] es irreducible si no es una constante y no puede ser expresado como el producto de dos polinomios no constantes en F [x<sub>1</sub>, ..., x<sub>n</sub>].\n",
    "    - *Polinomio Libre de Cuadrados*: Un polinomio es libre de cuadrados si no es divisible por el cuadrado de ningún polinomio no constante.\n",
    "\n",
    "\n",
    "\n",
    "- Etapas de la Factorización:\n",
    "La factorización de polinomios univariados sobre campos finitos se puede dividir en tres etapas principales:\n",
    "    1. **Factorización libre de cuadrados**: El polinomio de entrada se factoriza en un producto de potencias de polinomios libres de cuadrados.\n",
    "    2. **Factorización de distintos grados**: Los factores irreducibles de distintos grados se separan entre sí.\n",
    "    3. **Factorización de igual grado**: Los factores irreducibles de igual grado se separan entre sí.\n",
    "\n",
    "- Eficiencia del Algoritmo\n",
    "El libro presenta un algoritmo de factorización completo que se ejecuta en tiempo polinomial. En la práctica, la mayor parte del tiempo de cálculo se consume en la etapa de factorización de distintos grados, especialmente para polinomios de entrada grandes y aleatorios.\n",
    "\n",
    "- Importancia de la Factorización de Polinomios sobre Campos Finitos:\n",
    "    Áreas:\n",
    "    - Criptografía.\n",
    "    - Teoría de la codificación.\n",
    "    \n",
    "    La factorización de polinomios sobre campos finitos es fundamental para otros algoritmos de factorización en dominios más complejos, como:\n",
    "    - Polinomios con coeficientes racionales (ℚ[x]).\n",
    "    - Polinomios con coeficientes en un campo de números algebraicos (ℚ(α)[x]).\n",
    "    - Polinomios con coeficientes enteros módulo un entero positivo (ℤm[x]).\n",
    "\n",
    "\n",
    "La Figura 14.1 del libro ilustra las dependencias entre estos dominios."
   ]
  },
  {
   "cell_type": "markdown",
   "metadata": {},
   "source": [
    "## El Pequeño Teorema de Fermat"
   ]
  },
  {
   "cell_type": "markdown",
   "metadata": {},
   "source": [
    "\n",
    "\n",
    "**Teorema 14.1 (Pequeño Teorema de Fermat).** Sea *q* una potencia de un número primo. Entonces, para todo *a* ∈ F<sub>*q*</sub>, se cumple que *a<sup>q</sup>* = *a*. \n",
    "\n",
    "Por lo tanto, si *a* ≠ 0, *a<sup>q−1</sup>* = 1.Además, \n",
    "\n",
    "<p align=\"center\"><code> x<sup>q</sup> − x = ∏<sub>a∈F<sub>q</sub></sub> (x−a) en F<sub>q</sub>[x] </code></p>\n",
    "\n",
    " \n",
    "\n",
    "**Explicación:**\n",
    "\n",
    "*   **F<sub>*q*</sub>:** Representa un campo finito con *q* elementos. \n",
    "*   **F<sub>*q*</sub>[*x*]:** Es el conjunto de polinomios con coeficientes en F<sub>*q*</sub>.\n",
    "*   **a<sup>q</sup> = *a*:**  Indica que si elevamos cualquier elemento *a* del campo finito a la potencia *q* (el número de elementos del campo), el resultado es el mismo elemento *a*.\n",
    "*   **a<sup>q−1</sup> = 1 (para *a* ≠ 0):** Si *a* no es cero, al elevarlo a la potencia *q*-1, el resultado es la unidad del campo.\n",
    "*   **x<sup>q</sup> − *x* = ∏<sub>*a*∈F<sub>*q*</sub></sub> (*x*−*a*):** Esta parte del teorema establece que el polinomio *x<sup>q</sup>* − *x* se puede factorizar como el producto de todos los binomios (*x* − *a*), donde *a* recorre todos los elementos del campo finito F<sub>*q*</sub>.\n",
    "\n",
    "**Consecuencias:**\n",
    "\n",
    "1.  **Ciclicidad del Grupo Multiplicativo:** El Pequeño Teorema de Fermat implica que el grupo multiplicativo de un campo finito (F<sub>*q*</sub><sup>×</sup>) es cíclico. Esto significa que existe un elemento (llamado elemento primitivo) que genera todos los elementos del grupo al elevarlo a diferentes potencias.\n",
    "2.  **Existencia de Raíces:**  El teorema asegura que  *x<sup>q</sup>* − *x* tiene todas sus raíces en F<sub>*q*</sub>, ya que se factoriza completamente en términos lineales. \n",
    "3.  **Aplicaciones en Criptografía:**  El Pequeño Teorema de Fermat es fundamental en la criptografía de clave pública, como el algoritmo RSA. La seguridad de RSA se basa en la dificultad de factorizar números grandes, y este teorema proporciona herramientas para trabajar con números primos y congruencias.\n",
    "4.  **Factorización de Polinomios:**  El teorema es útil para factorizar polinomios sobre campos finitos. \n",
    "5.  **Pruebas de Primalidad:**  El teorema se utiliza en algunos algoritmos para probar si un número es primo.\n"
   ]
  },
  {
   "cell_type": "markdown",
   "metadata": {},
   "source": [
    "# 1. Factorización libre de cuadrados"
   ]
  },
  {
   "cell_type": "markdown",
   "metadata": {},
   "source": [
    "La sección 14.2 del libro \"1. Modern Computer Algebra\" describe un método crucial para factorizar polinomios sobre campos finitos llamado **factorización por grados distintos**. Este paso se centra en separar los factores irreducibles de un polinomio basándose en sus grados individuales.\n",
    "\n",
    "**Objetivo:**\n",
    "\n",
    "El objetivo principal es producir una secuencia de polinomios, donde cada uno representa el producto de todos los factores irreducibles mónicos del polinomio original que comparten un grado específico. \n",
    "\n",
    "**Definición Formal (Según la fuente):**\n",
    "\n",
    "La **descomposición por grados distintos** de un polinomio no constante  *f* ∈ F<sub>*q*</sub>[*x*] es la secuencia (*g*<sub>1</sub>, ..., *g<sub>s</sub>*) de polinomios, donde cada *g<sub>i</sub>* es el producto de todos los polinomios mónicos irreducibles en F<sub>*q*</sub>[*x*] de grado *i* que dividen a *f* y  *g<sub>s</sub>* ≠ 1.  Es importante destacar que algunos *g<sub>i</sub>* para *i* < *s* pueden ser igual a 1.\n",
    "\n",
    "**Ilustración con un Ejemplo:**\n",
    "\n",
    "Si tomamos como ejemplo el polinomio *f* = *x*(*x*+1)(*x*<sup>2</sup> +1)(*x*<sup>2</sup> + *x*+2) ∈ F<sub>3</sub>[*x*], su descomposición en grados distintos sería (*x*<sup>2</sup> + *x*, *x*<sup>4</sup> + *x*<sup>3</sup> + *x*+2). En este caso, los dos factores cuadráticos son irreducibles ya que no tienen raíces en F<sub>3</sub>.\n",
    "\n",
    "**El Algoritmo 14.3:**\n",
    "\n",
    "La fuente presenta el **Algoritmo 14.3**, que describe el procedimiento para realizar la factorización por grados distintos. Este algoritmo se basa en la idea de que los polinomios irreducibles de un grado específico dividen a ciertos polinomios especiales que se pueden construir a partir del polinomio de entrada y las potencias del elemento *x* en el campo finito.\n",
    "\n",
    "**Teorema 14.4: Garantía de Funcionamiento y Complejidad**\n",
    "\n",
    "El **Teorema 14.4** en la fuente afirma que el algoritmo 14.3 funciona correctamente y proporciona una estimación de su complejidad temporal. La complejidad se define como polinomial en el grado del polinomio de entrada (*n*) y en el logaritmo del tamaño del campo finito (log *q*).  Específicamente, la complejidad es O(*s*M(*n*) log(*nq*)) u O∼(*n*<sup>2</sup> log *q*) operaciones en F<sub>*q*</sub>, donde *s* es el grado más alto de un factor irreducible de *f*.\n",
    "\n",
    "**Ejemplo 14.5: Aplicación Práctica**\n",
    "\n",
    "Para ilustrar el funcionamiento del algoritmo, la fuente presenta el **Ejemplo 14.5**. En este ejemplo, se aplica el algoritmo 14.3 a un polinomio específico en F<sub>3</sub>[*x*], mostrando paso a paso cómo se obtiene la descomposición por grados distintos. \n",
    "\n",
    "**Importancia y Beneficios:**\n",
    "\n",
    "La factorización por grados distintos es una etapa fundamental en los algoritmos de factorización de polinomios sobre campos finitos. Su importancia radica en que simplifica el problema general de factorización. Al separar los factores por sus grados, se reduce la factorización de un polinomio a la factorización de polinomios más simples, donde todos los factores irreducibles tienen el mismo grado. \n",
    "\n",
    "**Limitaciones:**\n",
    "\n",
    "Es importante recordar que la factorización por grados distintos no proporciona la factorización completa del polinomio. Este método solo separa los factores en grupos según sus grados, pero no encuentra los factores irreducibles individuales. Para obtener la factorización completa, es necesario aplicar algoritmos adicionales, como la **factorización de igual grado** (que se describe en la sección 14.3 de la fuente).\n",
    "\n",
    "**En Resumen:**\n",
    "\n",
    "*   La factorización por grados distintos es una técnica esencial en el álgebra computacional para descomponer polinomios sobre campos finitos. \n",
    "*   Se fundamenta en el **Teorema 14.2**, que es una generalización del Pequeño Teorema de Fermat aplicada a polinomios en campos finitos. \n",
    "*   Este proceso permite simplificar la factorización de polinomios al agrupar los factores irreducibles por sus grados.\n",
    "*   Para obtener la factorización completa, se requieren algoritmos adicionales como la factorización de igual grado.\n"
   ]
  },
  {
   "cell_type": "markdown",
   "metadata": {},
   "source": [
    "# 2. Factorización de distintos grados"
   ]
  },
  {
   "cell_type": "markdown",
   "metadata": {},
   "source": []
  },
  {
   "cell_type": "code",
   "execution_count": 3,
   "metadata": {},
   "outputs": [],
   "source": [
    "def fin_distinct_degree_descomp(f) -> list:\n",
    "    q=f.base_ring().cardinality()\n",
    "    list_g:list=[]\n",
    "    i: int=0\n",
    "    h=x\n",
    "    while f != 1:\n",
    "        i+=1\n",
    "        h= h%f\n",
    "        g=gcd((h-x)^q,f)\n",
    "        list_g.append(g)\n",
    "        f=f/g\n",
    "    return list_g\n"
   ]
  },
  {
   "cell_type": "code",
   "execution_count": null,
   "metadata": {},
   "outputs": [],
   "source": []
  },
  {
   "cell_type": "markdown",
   "metadata": {},
   "source": [
    "# 3. Factorización de igual grado"
   ]
  }
 ],
 "metadata": {
  "kernelspec": {
   "display_name": "SageMath 9.5",
   "language": "sage",
   "name": "sagemath"
  },
  "language_info": {
   "codemirror_mode": {
    "name": "ipython",
    "version": 3
   },
   "file_extension": ".py",
   "mimetype": "text/x-python",
   "name": "sage",
   "nbconvert_exporter": "python",
   "pygments_lexer": "ipython3",
   "version": "3.10.12"
  }
 },
 "nbformat": 4,
 "nbformat_minor": 2
}
