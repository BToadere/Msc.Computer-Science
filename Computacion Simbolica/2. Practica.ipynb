{
 "cells": [
  {
   "cell_type": "markdown",
   "metadata": {},
   "source": [
    "# Entrerga"
   ]
  },
  {
   "cell_type": "code",
   "execution_count": 1,
   "metadata": {},
   "outputs": [],
   "source": [
    "class Polinomios :\n",
    "\n",
    "  def __init__(self, L):\n",
    "    self.coeffs = copy(L) #---- PROBLEMAS, argumentos por referencia.\n",
    "    self.limpia()\n",
    "    self.len = len(self.coeffs)\n",
    "    self.grado = self.len - 1\n",
    "\n",
    "  def limpia(self):\n",
    "    while self.coeffs and self.coeffs[-1] == 0:\n",
    "      self.coeffs.pop()\n",
    "\n",
    "  def __repr__(self):\n",
    "    return self.coeffs.__repr__()\n",
    "\n",
    "  def __add__(self,other):\n",
    "    s = max(self.len,other.len)\n",
    "    L1 = self.coeffs + [0]*(s-self.len)\n",
    "    L2 = other.coeffs + [0]*(s-other.len)\n",
    "    return Polinomios([ L1[i] + L2[i] for i in range(s) ])\n",
    "\n",
    "  def __add2__(self,other):\n",
    "    s = min(self.len,other.len)\n",
    "    C = [self.coeffs[i] + other.coeffs[i] for i in range(s) ]\n",
    "    if self.len < other.len:\n",
    "      return Polinomios (C + other.coeffs[s:])\n",
    "    else:\n",
    "      return Polinomios (C + self.coeffs[s:])\n",
    "\n",
    "  def __neg__(self):\n",
    "    return Polinomios ([- F for F in self.coeffs])\n",
    "\n",
    "  def __sub__(self,other):\n",
    "    return self + (-other)\n",
    "\n",
    "  def __eq__(self,other):\n",
    "    return self.coeffs == other.coeffs\n",
    "\n",
    "  def __mul__(self,other):\n",
    "    if not self.coeffs or not other.coeffs:\n",
    "      return Polinomios([])\n",
    "    return Polinomios(do_schoolbook(self,other))\n",
    "\n",
    "def do_schoolbook(f,g):\n",
    "  n = len(f)\n",
    "  m = len(g)\n",
    "  C = [anillo(0)] * (n+m-1)\n",
    "  for i in range(n):\n",
    "    for j in range(m):\n",
    "        C[i+j] = C[i+j] + f[i]*g[j]\n",
    "  return C\n",
    "\n",
    "# No funciona\n",
    "def do_karatsuba_clase(f,g):\n",
    "  n0 = len(f)\n",
    "  n = len(f)\n",
    "  hago_pop = 0\n",
    "  if n < 50 :\n",
    "    return do_schoolbook(f,g)\n",
    "  if n % 2 == 1:\n",
    "    f = f+[0]\n",
    "    g = g+[0]\n",
    "    n = n+1\n",
    "    hago_pop=1\n",
    "\n",
    "  f0 = f[0:n//2]\n",
    "  f1 = f[n//2:]\n",
    "  g0 = g[0:n//2]\n",
    "  g1 = g[n//2:]\n",
    "  u = do_karatsuba(f0,g0)\n",
    "  v = do_karatsuba(f1,g1)\n",
    "  sf = [f0[i]+f1[i] for i in range(n//2)  ]\n",
    "  sg = [g0[i]+g1[i] for i in range(n//2)  ]\n",
    "  w = do_karatsuba(sf,sg)\n",
    "  medio = [ w[i] - u[i] - v[i]  for i in range(len(w))  ]\n",
    "  C = [0] * (2*n-1)\n",
    "  for i in range(len(u)):\n",
    "    C[i] = C[i] + u[i]\n",
    "    C[n//2+i] = C[n//2+i] + medio[i]\n",
    "    C[n+i] = C[n+i] + v[i]\n",
    "  return C[:n0*2-1]\n",
    "\n",
    "def do_karatsuba(f,g, K_threshold=8):\n",
    "  n = len(f)\n",
    "  n0 = n //2\n",
    "  n1 = n - n0\n",
    "  if n < K_threshold:\n",
    "    return do_schoolbook(f,g)\n",
    "  f0 = f[:n0] # tamaño n0\n",
    "  f1 = f[n0:]  # tamaño n1\n",
    "  g0 = g[:n0] # tamaño n0\n",
    "  g1 = g[n0:]  # tamaño n1\n",
    "  u = do_karatsuba(f0,g0, K_threshold) # tamaño 2*n0-1\n",
    "  v = do_karatsuba(f1,g1, K_threshold) # tamaño 2*n1-1\n",
    "  # Usamos f1, g1 como f0+f1,g0+g1 para evitar crear más listas\n",
    "  # Fijaos que n1 >= n0\n",
    "  for i in range(n0):\n",
    "    f1[i] = f1[i]+f0[i]\n",
    "    g1[i] = g1[i]+g0[i]\n",
    "  w = do_karatsuba(f1,g1, K_threshold) # tamaño 2*n1-1\n",
    "  # resto u y v a w, el problema es que los tamaños pueden ser distintos\n",
    "  for i in range(2*n0-1):\n",
    "    w[i] = w[i] - u[i] - v[i]\n",
    "  for i in range(2*n0-1,2*n1-1):\n",
    "    w[i] = w[i] - v[i]\n",
    "  #C = [0] * (2*n-1)\n",
    "  #for i in range(2*n0-1):\n",
    "  #  C[i] = C[i] + u[i]\n",
    "  #  C[n0+i] = C[n0+i] + w[i]\n",
    "  #  C[2*n0+i] = C[2*n0+i] + v[i]\n",
    "  #for i in range(2*n0-1,2*n1-1):\n",
    "  #  C[n0+i] = C[n0+i] + w[i]\n",
    "  #  C[2*n0+i] = C[2*n0+i] + v[i]\n",
    "  #\n",
    "  # u contiene los monomios de 0 a 2*n0-2\n",
    "  # v contiene los monomios de 2*n0 a 2*n-1\n",
    "  # solo nos falta el monomio 2*n0-1\n",
    "  # podemos usarlo para evitar sumas en C\n",
    "  C = u +[anillo(0)] +v\n",
    "  for i in range(2*n1-1):\n",
    "    C[n0+i] = C[n0+i] + w[i]\n",
    "  return C\n",
    "\n",
    "def do_karatsuba_different_size(left: list, right: list, K_threshold: int=8) -> list:\n",
    "    \"\"\"\n",
    "    Multiplicación de dos polinomios de diferente grado, usando una\n",
    "    estrategia de división del polinómio mayor en partes de tamaño\n",
    "    del polinomio menor. Así, poder aplicar do_karatsuba a las partes.\n",
    "\n",
    "    INPUT:\n",
    "\n",
    "    - ``left``  -- representación de polinomio como lista\n",
    "    - ``right`` -- representación de polinomio como lista\n",
    "    - ``K_threshold`` -- Entero, se usa como criterio para usar la \n",
    "    multiplicación de la escuela si el el grado de alguno de los \n",
    "    polinómios es menor que él.\n",
    "\n",
    "    TESTS:\n",
    "\n",
    "    sage: do_karatsuba_different_size([anillo(1), anillo(2)], [anillo(3), anillo(4)])  # Grados iguales\n",
    "    [3, 10, 8]\n",
    "\n",
    "    sage: do_karatsuba_different_size([anillo(1), anillo(2), anillo(3)], [anillo(4), anillo(5)])  # n > m\n",
    "    [4, 13, 22, 15]\n",
    "\n",
    "    sage: do_karatsuba_different_size([anillo(3), anillo(4)], [anillo(1), anillo(2), anillo(3)])  # n < m\n",
    "    [3, 10, 17, 12]\n",
    "\n",
    "    sage: do_karatsuba_different_size([], [anillo(1), anillo(2), anillo(3)])  # Caso vacío\n",
    "    []\n",
    "\n",
    "    sage: do_karatsuba_different_size([anillo(1)], [anillo(1), anillo(2), anillo(3)])  # Caso n = 1\n",
    "    [1, 2, 3]\n",
    "\n",
    "    sage: do_karatsuba_different_size([anillo(1), anillo(2), anillo(3)], [anillo(1)])  # Caso m = 1\n",
    "    [1, 2, 3]\n",
    "\n",
    "    sage: do_karatsuba_different_size([anillo(1), anillo(2), anillo(3)], [anillo(4), anillo(5)], K_threshold=1)  # Caso K_threshold bajo\n",
    "    [4, 13, 22, 15]\n",
    "\n",
    "    \"\"\"\n",
    "    n: int= len(left); m: int= len(right)\n",
    "    if n == 0 or m == 0:\n",
    "        return []\n",
    "    if n == 1:\n",
    "        c = left[0]\n",
    "        return [c*a for a in right]\n",
    "    if m == 1:\n",
    "        c = right[0]\n",
    "        return [a*c for a in left] # beware of noncommutative rings\n",
    "    \n",
    "    if n <= K_threshold or m <= K_threshold or K_threshold==1 or K_threshold==2:\n",
    "        return do_schoolbook(left, right)\n",
    "    if n == m:\n",
    "        return do_karatsuba(left, right, K_threshold)\n",
    "    if n > m:\n",
    "        # left is the bigger list\n",
    "        # n is the bigger number\n",
    "        q = n // m\n",
    "        r = n % m\n",
    "        output = do_karatsuba(left[:m], right, K_threshold)\n",
    "        for i in range(1, q): #from 1 <= i < q:\n",
    "            mi = m*i\n",
    "            carry = do_karatsuba(left[mi:mi+m], right, K_threshold)\n",
    "            for j in range(m-1):\n",
    "                output[mi+j] = output[mi+j] + carry[j]\n",
    "            output.extend(carry[m-1:])\n",
    "        if r:\n",
    "            mi = m*q\n",
    "            carry = do_karatsuba_different_size(left[mi:], right, K_threshold)\n",
    "            for j in range (m-1):\n",
    "                output[mi+j] = output[mi+j] + carry[j]\n",
    "            output.extend(carry[m-1:])\n",
    "        return output\n",
    "    else:\n",
    "        # n < m, I need to repeat the code due to the case\n",
    "        # of noncommutative rings.\n",
    "        q = m // n\n",
    "        r = m % n\n",
    "        output = do_karatsuba(left, right[:n], K_threshold)\n",
    "        for i in range(1,q): #from 1 <= i < q:\n",
    "            mi = n*i\n",
    "            carry = do_karatsuba(left, right[mi:mi+n], K_threshold)\n",
    "            for j in range(n-1):\n",
    "                output[mi+j] = output[mi+j] + carry[j]\n",
    "            output.extend(carry[n-1:])\n",
    "        if r:\n",
    "            mi = n*q\n",
    "            carry = do_karatsuba_different_size(left, right[mi:], K_threshold)\n",
    "            for j in range(n-1):\n",
    "                output[mi+j] = output[mi+j] + carry[j]\n",
    "            output.extend(carry[n-1:])\n",
    "        return output\n",
    "\n",
    "\n",
    "NUM_SUMA = 0\n",
    "NUM_PRODUCTO = 0\n",
    "\n",
    "class anillo:\n",
    "    def __init__(self, valor):\n",
    "        self.valor = valor\n",
    "\n",
    "    def __repr__(self):\n",
    "        return repr(self.valor)\n",
    "\n",
    "    def __add__(self, otro):\n",
    "        global NUM_SUMA \n",
    "        NUM_SUMA = NUM_SUMA + 1\n",
    "        return anillo(self.valor + otro.valor)\n",
    "\n",
    "    def __sub__(self,otro):\n",
    "        global NUM_SUMA \n",
    "        NUM_SUMA = NUM_SUMA + 1\n",
    "        return anillo(self.valor - otro.valor)\n",
    "\n",
    "    def __mul__(self, otro):\n",
    "        global NUM_PRODUCTO\n",
    "        NUM_PRODUCTO = NUM_PRODUCTO + 1\n",
    "        return anillo(self.valor * otro.valor)\n"
   ]
  },
  {
   "cell_type": "markdown",
   "metadata": {},
   "source": [
    "# Ejercicio\n",
    "\n",
    "Crear unas listas donde sus entradas seantuplas de la forma:\n",
    "\n",
    "(grado, num_sumas, num_multiplicaciones)\n",
    "\n",
    "\n",
    "\n",
    "Una lista para el schoolbook y otra para karatsuba\n",
    "\n",
    "\n",
    "\n",
    "tendremos una lsita de cuadramso mas menos para el metodo de la escula\n",
    "\n",
    "\n",
    "para plotear \n",
    "\n",
    "line([(foo[0], foo[1]) for foo in L])"
   ]
  },
  {
   "cell_type": "code",
   "execution_count": 2,
   "metadata": {},
   "outputs": [
    {
     "name": "stdout",
     "output_type": "stream",
     "text": [
      "4*x^127 + 7*x^126 + 7*x^125 + 9*x^124 + x^123 + 8*x^122 + 7*x^121 + x^120 + 7*x^119 + x^118 + 5*x^117 + 6*x^116 + 8*x^115 + 7*x^114 + 9*x^113 + 5*x^112 + 6*x^111 + 6*x^110 + 10*x^109 + 10*x^108 + 2*x^107 + 4*x^106 + 6*x^105 + 6*x^104 + x^103 + 6*x^102 + x^101 + 5*x^100 + 9*x^99 + x^98 + 6*x^97 + 8*x^96 + 4*x^95 + 9*x^94 + 6*x^93 + 9*x^92 + 2*x^91 + 10*x^90 + 2*x^88 + 2*x^87 + 8*x^86 + 3*x^85 + 5*x^84 + x^83 + 8*x^82 + 4*x^80 + 2*x^79 + 4*x^78 + 7*x^77 + 6*x^76 + 3*x^75 + 5*x^74 + 7*x^73 + 8*x^72 + 10*x^71 + 10*x^70 + 2*x^69 + 3*x^68 + 4*x^67 + x^66 + 8*x^65 + 7*x^64 + 4*x^63 + 6*x^62 + 5*x^61 + 10*x^60 + 6*x^58 + 3*x^57 + 9*x^56 + 6*x^55 + 7*x^54 + 8*x^53 + 5*x^52 + 3*x^51 + 6*x^49 + 9*x^48 + 5*x^47 + 6*x^46 + 9*x^45 + 8*x^44 + 2*x^43 + 9*x^42 + 2*x^41 + 3*x^39 + 3*x^38 + 5*x^37 + 4*x^36 + 10*x^35 + x^34 + 5*x^33 + 7*x^32 + 7*x^29 + 8*x^28 + 6*x^27 + 10*x^26 + 8*x^25 + 3*x^24 + 8*x^23 + 9*x^22 + 4*x^21 + 2*x^20 + 9*x^19 + 2*x^17 + 4*x^16 + 6*x^15 + 2*x^14 + 9*x^13 + 3*x^12 + 3*x^11 + 4*x^10 + 8*x^9 + 7*x^8 + 8*x^7 + 7*x^6 + 6*x^5 + 3*x^4 + 7*x^3 + 4*x^2 + 7\n",
      "4*x^127 + 7*x^126 + 7*x^125 + 9*x^124 + x^123 + 8*x^122 + 7*x^121 + x^120 + 7*x^119 + x^118 + 5*x^117 + 6*x^116 + 8*x^115 + 7*x^114 + 9*x^113 + 5*x^112 + 6*x^111 + 6*x^110 + 10*x^109 + 10*x^108 + 2*x^107 + 4*x^106 + 6*x^105 + 6*x^104 + x^103 + 6*x^102 + x^101 + 5*x^100 + 9*x^99 + x^98 + 6*x^97 + 8*x^96 + 4*x^95 + 9*x^94 + 6*x^93 + 9*x^92 + 2*x^91 + 10*x^90 + 2*x^88 + 2*x^87 + 8*x^86 + 3*x^85 + 5*x^84 + x^83 + 8*x^82 + 4*x^80 + 2*x^79 + 4*x^78 + 7*x^77 + 6*x^76 + 3*x^75 + 5*x^74 + 7*x^73 + 8*x^72 + 10*x^71 + 10*x^70 + 2*x^69 + 3*x^68 + 4*x^67 + x^66 + 8*x^65 + 7*x^64 + 4*x^63 + 6*x^62 + 5*x^61 + 10*x^60 + 6*x^58 + 3*x^57 + 9*x^56 + 6*x^55 + 7*x^54 + 8*x^53 + 5*x^52 + 3*x^51 + 6*x^49 + 9*x^48 + 5*x^47 + 6*x^46 + 9*x^45 + 8*x^44 + 2*x^43 + 9*x^42 + 2*x^41 + 3*x^39 + 3*x^38 + 5*x^37 + 4*x^36 + 10*x^35 + x^34 + 5*x^33 + 7*x^32 + 7*x^29 + 8*x^28 + 6*x^27 + 10*x^26 + 8*x^25 + 3*x^24 + 8*x^23 + 9*x^22 + 4*x^21 + 2*x^20 + 9*x^19 + 2*x^17 + 4*x^16 + 6*x^15 + 2*x^14 + 9*x^13 + 3*x^12 + 3*x^11 + 4*x^10 + 8*x^9 + 7*x^8 + 8*x^7 + 7*x^6 + 6*x^5 + 3*x^4 + 7*x^3 + 4*x^2 + 7\n",
      "True\n",
      "2585 1510\n"
     ]
    }
   ],
   "source": [
    "F=GF(11)\n",
    "R=F['x']\n",
    "NUM_SUMA = 0\n",
    "NUM_PRODUCTO = 0\n",
    "poli_z= R.random_element(105)\n",
    "poli_d= R.random_element(22)\n",
    "RESULT= poli_z*poli_d\n",
    "print(RESULT)\n",
    "\n",
    "\n",
    "a= [anillo(i) for i in poli_z]\n",
    "b= [anillo(i) for i in poli_d]\n",
    "result=do_karatsuba_different_size(a,b)\n",
    "r1=R([foo.valor for foo in result])\n",
    "print(r1)\n",
    "\n",
    "\n",
    "\n",
    "print(r1==RESULT)\n",
    "\n",
    "print(NUM_SUMA, NUM_PRODUCTO)"
   ]
  },
  {
   "cell_type": "code",
   "execution_count": 7,
   "metadata": {},
   "outputs": [
    {
     "name": "stdout",
     "output_type": "stream",
     "text": [
      "[0, 1, 2, 3]\n"
     ]
    }
   ],
   "source": [
    "print(list(range(5))[:4])"
   ]
  },
  {
   "cell_type": "code",
   "execution_count": 2,
   "metadata": {},
   "outputs": [
    {
     "name": "stdout",
     "output_type": "stream",
     "text": [
      "0\n",
      "50\n",
      "100\n"
     ]
    }
   ],
   "source": [
    "R=GF(2)\n",
    "A=[]\n",
    "B=[]\n",
    "\n",
    "g=[anillo(R(1))]*1024\n",
    "for i in range(10**2+1):\n",
    "    f = [anillo(R(1)) for t in range(i)]\n",
    "    # print(f)\n",
    "    NUM_SUMA = 0\n",
    "    NUM_PRODUCTO = 0\n",
    "    h=do_schoolbook(f,g)\n",
    "    A.append((i,NUM_SUMA,NUM_SUMA+NUM_PRODUCTO))\n",
    "\n",
    "    NUM_SUMA = 0\n",
    "    NUM_PRODUCTO = 0\n",
    "    h=do_karatsuba_different_size(f,g, K_threshold=8)\n",
    "    B.append((i,NUM_SUMA,NUM_SUMA+NUM_PRODUCTO))\n",
    "    if i%50 == 0:\n",
    "        print(i)\n",
    "\n",
    "\n"
   ]
  },
  {
   "cell_type": "code",
   "execution_count": 3,
   "metadata": {},
   "outputs": [
    {
     "name": "stdout",
     "output_type": "stream",
     "text": [
      "[(0, 0, 0), (1, 0, 1024), (2, 2048, 4096), (3, 3072, 6144), (4, 4096, 8192), (5, 5120, 10240), (6, 6144, 12288), (7, 7168, 14336), (8, 8192, 16384), (9, 12154, 19675), (10, 12382, 20072), (11, 13764, 22796), (12, 13988, 23216), (13, 15361, 25918), (14, 15577, 26336), (15, 18692, 28612), (16, 19633, 28849), (17, 21428, 32296), (18, 21787, 33051), (19, 22332, 33994), (20, 22112, 33667), (21, 23859, 36995), (22, 24225, 37814), (23, 24732, 38720), (24, 24585, 38465), (25, 26175, 41563), (26, 26627, 42515), (27, 27108, 43370), (28, 27015, 43191), (29, 30474, 45985), (30, 31604, 46514), (31, 32835, 47155), (32, 32993, 46817), (33, 35123, 50780), (34, 35716, 52052), (35, 36440, 53414), (36, 36350, 53334), (37, 37121, 54735), (38, 37070, 54584), (39, 37208, 54824), (40, 36885, 54356), (41, 38683, 57710), (42, 39507, 59298), (43, 40117, 60546), (44, 39987, 60486), (45, 40922, 61938), (46, 40783, 61860), (47, 41000, 62106), (48, 40638, 61482), (49, 42433, 65046), (50, 43078, 66334), (51, 43544, 67348), (52, 43866, 67726), (53, 44555, 69031), (54, 44250, 68672), (55, 44760, 69387), (56, 44303, 68677), (57, 47639, 71414), (58, 49570, 72964), (59, 51008, 74013), (60, 51019, 73444), (61, 52668, 74960), (62, 53234, 74945), (63, 53643, 74987), (64, 53041, 73777), (65, 55806, 78930), (66, 56717, 80433), (67, 57540, 82098), (68, 57197, 81769), (69, 58326, 83843), (70, 58537, 84346), (71, 58768, 84616), (72, 58378, 84030), (73, 59030, 85132), (74, 59620, 86053), (75, 59848, 86746), (76, 59723, 86327), (77, 59933, 86796), (78, 59570, 86149), (79, 59311, 85675), (80, 59540, 85712), (81, 61612, 90118), (82, 62254, 91152), (83, 62990, 92851), (84, 63183, 93019), (85, 63520, 93968), (86, 63809, 94514), (87, 64651, 95617), (88, 64108, 95188), (89, 65044, 96655), (90, 65589, 97424), (91, 65468, 97465), (92, 65000, 96839), (93, 64735, 96299), (94, 65460, 97351), (95, 65841, 97770), (96, 65462, 96782), (97, 67373, 101124), (98, 68120, 102486), (99, 69040, 103966), (100, 68706, 103938)]\n",
      "[(0, 0, 0), (1, 1024, 2048), (2, 2048, 4096), (3, 3072, 6144), (4, 4096, 8192), (5, 5120, 10240), (6, 6144, 12288), (7, 7168, 14336), (8, 8192, 16384), (9, 9216, 18432), (10, 10240, 20480), (11, 11264, 22528), (12, 12288, 24576), (13, 13312, 26624), (14, 14336, 28672), (15, 15360, 30720), (16, 16384, 32768), (17, 17408, 34816), (18, 18432, 36864), (19, 19456, 38912), (20, 20480, 40960), (21, 21504, 43008), (22, 22528, 45056), (23, 23552, 47104), (24, 24576, 49152), (25, 25600, 51200), (26, 26624, 53248), (27, 27648, 55296), (28, 28672, 57344), (29, 29696, 59392), (30, 30720, 61440), (31, 31744, 63488), (32, 32768, 65536), (33, 33792, 67584), (34, 34816, 69632), (35, 35840, 71680), (36, 36864, 73728), (37, 37888, 75776), (38, 38912, 77824), (39, 39936, 79872), (40, 40960, 81920), (41, 41984, 83968), (42, 43008, 86016), (43, 44032, 88064), (44, 45056, 90112), (45, 46080, 92160), (46, 47104, 94208), (47, 48128, 96256), (48, 49152, 98304), (49, 50176, 100352), (50, 51200, 102400), (51, 52224, 104448), (52, 53248, 106496), (53, 54272, 108544), (54, 55296, 110592), (55, 56320, 112640), (56, 57344, 114688), (57, 58368, 116736), (58, 59392, 118784), (59, 60416, 120832), (60, 61440, 122880), (61, 62464, 124928), (62, 63488, 126976), (63, 64512, 129024), (64, 65536, 131072), (65, 66560, 133120), (66, 67584, 135168), (67, 68608, 137216), (68, 69632, 139264), (69, 70656, 141312), (70, 71680, 143360), (71, 72704, 145408), (72, 73728, 147456), (73, 74752, 149504), (74, 75776, 151552), (75, 76800, 153600), (76, 77824, 155648), (77, 78848, 157696), (78, 79872, 159744), (79, 80896, 161792), (80, 81920, 163840), (81, 82944, 165888), (82, 83968, 167936), (83, 84992, 169984), (84, 86016, 172032), (85, 87040, 174080), (86, 88064, 176128), (87, 89088, 178176), (88, 90112, 180224), (89, 91136, 182272), (90, 92160, 184320), (91, 93184, 186368), (92, 94208, 188416), (93, 95232, 190464), (94, 96256, 192512), (95, 97280, 194560), (96, 98304, 196608), (97, 99328, 198656), (98, 100352, 200704), (99, 101376, 202752), (100, 102400, 204800)]\n"
     ]
    }
   ],
   "source": [
    "print(B)\n",
    "print(A)\n",
    "\n",
    "#line([[(0,0), (1,1)],[(1,0), (1,1)]])"
   ]
  },
  {
   "cell_type": "code",
   "execution_count": 4,
   "metadata": {},
   "outputs": [
    {
     "data": {
      "image/png": "[encoded data removed]",
      "text/plain": [
       "Graphics object consisting of 2 graphics primitives"
      ]
     },
     "execution_count": 4,
     "metadata": {},
     "output_type": "execute_result"
    }
   ],
   "source": [
    "# print([(foo[0], foo[1]) for foo in A])\n",
    "# print([(foo[0], foo[1]) for foo in B])\n",
    "line([(foo[0], foo[2]) for foo in A], color='blue', legend_label='Schoolbook') + line([(foo[0], foo[2]) for foo in B], color='red', legend_label='Karatsuba')\n",
    "\n"
   ]
  },
  {
   "cell_type": "code",
   "execution_count": null,
   "metadata": {},
   "outputs": [
    {
     "data": {
      "image/png": "[encoded data removed]",
      "text/plain": [
       "Graphics object consisting of 1 graphics primitive"
      ]
     },
     "execution_count": 89,
     "metadata": {},
     "output_type": "execute_result"
    }
   ],
   "source": [
    "line([(foo[0], foo[1]) for foo in A] + [(foo[0], foo[1]) for foo in B], legend_label='Schoolbook and Karatsuba')"
   ]
  },
  {
   "cell_type": "code",
   "execution_count": null,
   "metadata": {},
   "outputs": [],
   "source": [
    "x=0 if 1>0 else 1"
   ]
  },
  {
   "cell_type": "code",
   "execution_count": null,
   "metadata": {},
   "outputs": [
    {
     "data": {
      "text/plain": [
       "0"
      ]
     },
     "execution_count": 2,
     "metadata": {},
     "output_type": "execute_result"
    }
   ],
   "source": [
    "x"
   ]
  },
  {
   "cell_type": "code",
   "execution_count": null,
   "metadata": {},
   "outputs": [
    {
     "data": {
      "image/png": "[encoded data removed]",
      "text/plain": [
       "Graphics object consisting of 1 graphics primitive"
      ]
     },
     "execution_count": 85,
     "metadata": {},
     "output_type": "execute_result"
    }
   ],
   "source": [
    "line([(foo[0], foo[1]) for foo in B])"
   ]
  },
  {
   "cell_type": "code",
   "execution_count": null,
   "metadata": {},
   "outputs": [
    {
     "ename": "TypeError",
     "evalue": "object of type 'anillo' has no len()",
     "output_type": "error",
     "traceback": [
      "\u001b[0;31m---------------------------------------------------------------------------\u001b[0m",
      "\u001b[0;31mTypeError\u001b[0m                                 Traceback (most recent call last)",
      "\u001b[0;32m/tmp/ipykernel_116098/1587988998.py\u001b[0m in \u001b[0;36m<module>\u001b[0;34m\u001b[0m\n\u001b[1;32m      7\u001b[0m \u001b[0;34m\u001b[0m\u001b[0m\n\u001b[1;32m      8\u001b[0m \u001b[0;34m\u001b[0m\u001b[0m\n\u001b[0;32m----> 9\u001b[0;31m \u001b[0mlf\u001b[0m \u001b[0;34m=\u001b[0m \u001b[0;34m[\u001b[0m\u001b[0mdo_schoolbook\u001b[0m\u001b[0;34m(\u001b[0m\u001b[0mfo\u001b[0m\u001b[0;34m,\u001b[0m \u001b[0mfoo\u001b[0m\u001b[0;34m)\u001b[0m \u001b[0;32mfor\u001b[0m \u001b[0mfo\u001b[0m\u001b[0;34m,\u001b[0m \u001b[0mfoo\u001b[0m \u001b[0;32min\u001b[0m \u001b[0mzip\u001b[0m\u001b[0;34m(\u001b[0m\u001b[0ml1\u001b[0m\u001b[0;34m,\u001b[0m\u001b[0ml2\u001b[0m\u001b[0;34m)\u001b[0m\u001b[0;34m]\u001b[0m\u001b[0;34m\u001b[0m\u001b[0;34m\u001b[0m\u001b[0m\n\u001b[0m\u001b[1;32m     10\u001b[0m \u001b[0;34m\u001b[0m\u001b[0m\n\u001b[1;32m     11\u001b[0m \u001b[0;34m\u001b[0m\u001b[0m\n",
      "\u001b[0;32m/tmp/ipykernel_116098/1587988998.py\u001b[0m in \u001b[0;36m<listcomp>\u001b[0;34m(.0)\u001b[0m\n\u001b[1;32m      7\u001b[0m \u001b[0;34m\u001b[0m\u001b[0m\n\u001b[1;32m      8\u001b[0m \u001b[0;34m\u001b[0m\u001b[0m\n\u001b[0;32m----> 9\u001b[0;31m \u001b[0mlf\u001b[0m \u001b[0;34m=\u001b[0m \u001b[0;34m[\u001b[0m\u001b[0mdo_schoolbook\u001b[0m\u001b[0;34m(\u001b[0m\u001b[0mfo\u001b[0m\u001b[0;34m,\u001b[0m \u001b[0mfoo\u001b[0m\u001b[0;34m)\u001b[0m \u001b[0;32mfor\u001b[0m \u001b[0mfo\u001b[0m\u001b[0;34m,\u001b[0m \u001b[0mfoo\u001b[0m \u001b[0;32min\u001b[0m \u001b[0mzip\u001b[0m\u001b[0;34m(\u001b[0m\u001b[0ml1\u001b[0m\u001b[0;34m,\u001b[0m\u001b[0ml2\u001b[0m\u001b[0;34m)\u001b[0m\u001b[0;34m]\u001b[0m\u001b[0;34m\u001b[0m\u001b[0;34m\u001b[0m\u001b[0m\n\u001b[0m\u001b[1;32m     10\u001b[0m \u001b[0;34m\u001b[0m\u001b[0m\n\u001b[1;32m     11\u001b[0m \u001b[0;34m\u001b[0m\u001b[0m\n",
      "\u001b[0;32m/tmp/ipykernel_116098/3270237924.py\u001b[0m in \u001b[0;36mdo_schoolbook\u001b[0;34m(f, g)\u001b[0m\n\u001b[1;32m     43\u001b[0m \u001b[0;34m\u001b[0m\u001b[0m\n\u001b[1;32m     44\u001b[0m \u001b[0;32mdef\u001b[0m \u001b[0mdo_schoolbook\u001b[0m\u001b[0;34m(\u001b[0m\u001b[0mf\u001b[0m\u001b[0;34m,\u001b[0m\u001b[0mg\u001b[0m\u001b[0;34m)\u001b[0m\u001b[0;34m:\u001b[0m\u001b[0;34m\u001b[0m\u001b[0;34m\u001b[0m\u001b[0m\n\u001b[0;32m---> 45\u001b[0;31m   \u001b[0mn\u001b[0m \u001b[0;34m=\u001b[0m \u001b[0mlen\u001b[0m\u001b[0;34m(\u001b[0m\u001b[0mf\u001b[0m\u001b[0;34m)\u001b[0m\u001b[0;34m\u001b[0m\u001b[0;34m\u001b[0m\u001b[0m\n\u001b[0m\u001b[1;32m     46\u001b[0m   \u001b[0mm\u001b[0m \u001b[0;34m=\u001b[0m \u001b[0mlen\u001b[0m\u001b[0;34m(\u001b[0m\u001b[0mg\u001b[0m\u001b[0;34m)\u001b[0m\u001b[0;34m\u001b[0m\u001b[0;34m\u001b[0m\u001b[0m\n\u001b[1;32m     47\u001b[0m   \u001b[0mC\u001b[0m \u001b[0;34m=\u001b[0m \u001b[0;34m[\u001b[0m\u001b[0mInteger\u001b[0m\u001b[0;34m(\u001b[0m\u001b[0;36m0\u001b[0m\u001b[0;34m)\u001b[0m\u001b[0;34m]\u001b[0m \u001b[0;34m*\u001b[0m \u001b[0;34m(\u001b[0m\u001b[0mn\u001b[0m\u001b[0;34m+\u001b[0m\u001b[0mm\u001b[0m\u001b[0;34m-\u001b[0m\u001b[0mInteger\u001b[0m\u001b[0;34m(\u001b[0m\u001b[0;36m1\u001b[0m\u001b[0;34m)\u001b[0m\u001b[0;34m)\u001b[0m\u001b[0;34m\u001b[0m\u001b[0;34m\u001b[0m\u001b[0m\n",
      "\u001b[0;31mTypeError\u001b[0m: object of type 'anillo' has no len()"
     ]
    }
   ],
   "source": [
    "#Queremos que los elementos sean instancias de anillo, no de R\n",
    "R=QQ['x']\n",
    "n = 11\n",
    "lista=[1]\n",
    "l1= [anillo(lista*i) for i in range(1,n)]\n",
    "l2= [anillo(lista*i) for i in range(1,n)]\n",
    "\n",
    "\n",
    "lf = [do_schoolbook(fo, foo) for fo, foo in zip(l1,l2)]\n",
    "\n",
    "\n",
    "print(lf)\n",
    "\n",
    "\n"
   ]
  },
  {
   "cell_type": "markdown",
   "metadata": {},
   "source": [
    "# Cositas\n"
   ]
  },
  {
   "cell_type": "code",
   "execution_count": null,
   "metadata": {},
   "outputs": [],
   "source": [
    "import matplotlib.pyplot as plt\n",
    "\n",
    "def O_schoolbook_ops(n):\n",
    "    return n**2  # O(n^2)\n",
    "\n",
    "def O_karatsuba_ops(n):\n",
    "    return n**(log(3)/log(2))  # O(n^log2(3))\n",
    "\n",
    "sizes = range(len(valores_karatsuba))\n",
    "O_n2 = [1*O_schoolbook_ops(i) for i in sizes]\n",
    "O_nlog23 = [15*O_karatsuba_ops(i) for i in sizes]\n",
    "\n",
    "plt.figure(figsize=(10, 6))\n",
    "plt.plot(sizes, O_n2, label=\"O(n^2)\", linewidth=2)\n",
    "plt.plot(sizes, [i[2] for i in valores_schoolbook], label=\"Schoolbook\", linewidth=2)\n",
    "plt.plot(sizes, O_nlog23, label=\"O(n^log2(3))\", linewidth=2)\n",
    "plt.plot(sizes, [i[2] for i in valores_karatsuba], label=\"Karatsuba\", linewidth=2)\n",
    "plt.xlabel(\"Tamaño del polinomio (n)\")\n",
    "plt.ylabel(\"Número de operaciones\")\n",
    "plt.title(\"Comparación de complejidad: Schoolbook vs Karatsuba\")\n",
    "plt.legend()\n",
    "plt.grid()\n",
    "plt.show()\n",
    "\n",
    "\n"
   ]
  },
  {
   "cell_type": "markdown",
   "metadata": {},
   "source": [
    "# Xtras"
   ]
  },
  {
   "cell_type": "code",
   "execution_count": 11,
   "metadata": {},
   "outputs": [],
   "source": [
    "def generador_listas(tamaño_max=100, card_cuerpo_finito=2, K_threshold=2, verbose=False):\n",
    "    F=GF(card_cuerpo_finito)\n",
    "    R=F['x']\n",
    "    L_K=[]\n",
    "    L_S=[]\n",
    "    global NUM_SUMA, NUM_PRODUCTO    \n",
    "    for i in range(tamaño_max+1):\n",
    "        f = [anillo(R(1)) for t in range(i)]\n",
    "        \n",
    "        NUM_SUMA = 0\n",
    "        NUM_PRODUCTO = 0\n",
    "        k_result=do_karatsuba(f, f, K_threshold=K_threshold)\n",
    "        L_K.append((i, NUM_PRODUCTO, NUM_SUMA+NUM_PRODUCTO))\n",
    "\n",
    "        NUM_SUMA = 0\n",
    "        NUM_PRODUCTO = 0\n",
    "        s_result=do_schoolbook(f, f)\n",
    "        L_S.append((i, NUM_PRODUCTO, NUM_SUMA+NUM_PRODUCTO))\n",
    "        \n",
    "        \n",
    "        if verbose and i%50==0:\n",
    "            print(i)        \n",
    "    \n",
    "    return L_K, L_S"
   ]
  },
  {
   "cell_type": "code",
   "execution_count": 12,
   "metadata": {},
   "outputs": [],
   "source": [
    "import numpy as np\n",
    "import plotly.graph_objects as go\n",
    "\n",
    "def crear_frames_threshold(tam_poli, threshold_range, verbose=False):\n",
    "    \"\"\"Crea los frames para graficar listas con el deslizador de umbral.\"\"\"\n",
    "    frames = []\n",
    "    totavalores_schoolbookteps = len(threshold_range)\n",
    "    if verbose:\n",
    "        print(f\"Creando frames para {totavalores_schoolbookteps} valores de threshold...\")\n",
    "\n",
    "    for i, threshold in enumerate(threshold_range,2):\n",
    "        if verbose and i % 10 == 0:  # Mostrar progreso cada 10 iteraciones\n",
    "            print(f\"Progreso: {i}/{totavalores_schoolbookteps} frames creados...\")\n",
    "        \n",
    "        # Filtrar datos por el threshold\n",
    "        y_k, y_s = generador_listas(tamaño_max=tam_poli, K_threshold=threshold)\n",
    "        x_k = tam_poli\n",
    "        x_s = tam_poli\n",
    "        \n",
    "        frames.append(go.Frame(data=[\n",
    "            go.Scatter(x=list(x_k), y=y_k, mode='lines', name=f\"Karatsuba\"),\n",
    "            go.Scatter(x=list(x_s), y=y_s, mode='lines', name=f\"Schoolbook\")\n",
    "        ], name=str(threshold)))\n",
    "    \n",
    "    if verbose:\n",
    "        print(\"Frames creados completamente.\")\n",
    "    return frames\n",
    "\n",
    "def configurar_figura_threshold(valores_karatsuba, valores_schoolbook, threshold_range, frames):\n",
    "    \"\"\"Configura la figura inicial para graficar listas con threshold.\"\"\"\n",
    "    fig = go.Figure(\n",
    "        data=[\n",
    "            go.Scatter(x=list(range(len(valores_karatsuba))), y=valores_karatsuba, mode='lines', name=\"valores_karatsuba (sin filtro)\"),\n",
    "            go.Scatter(x=list(range(len(valores_schoolbook))), y=valores_schoolbook, mode='lines', name=\"valores_schoolbook (sin filtro)\")\n",
    "        ],\n",
    "        layout=go.Layout(\n",
    "            title=\"Gráfica de listas valores_karatsuba y valores_schoolbook con filtro de umbral\",\n",
    "            xaxis=dict(title=\"Índice\"),\n",
    "            yaxis=dict(title=\"Valores\"),\n",
    "        ),\n",
    "        frames=frames\n",
    "    )\n",
    "    return fig\n",
    "\n",
    "def agregar_deslizador_threshold(fig, threshold_range):\n",
    "    \"\"\"Agrega un deslizador para controlar el umbral.\"\"\"\n",
    "    sliders = [dict(\n",
    "        steps=[dict(method=\"animate\",\n",
    "                    args=[[str(threshold)], dict(mode=\"immediate\",\n",
    "                                                 frame=dict(duration=100, redraw=True),\n",
    "                                                 transition=dict(duration=0))],\n",
    "                    label=f\"{threshold:.1f}\") for threshold in threshold_range],\n",
    "        transition=dict(duration=0),\n",
    "        x=0.1,\n",
    "        y=-0.2,\n",
    "        currentvalue=dict(font=dict(size=15), prefix=\"Umbral: \", visible=True, xanchor=\"center\"),\n",
    "        len=0.9\n",
    "    )]\n",
    "    fig.update_layout(sliders=sliders)\n",
    "\n",
    "def graficar_listas_umbral(tam_poli=60, max_threshold_range=60, verbose=False):\n",
    "    \"\"\"Grafica las listas valores_karatsuba y valores_schoolbook con un deslizador para el umbral.\"\"\"\n",
    "    if verbose:\n",
    "        print(\"Iniciando generación de la visualización...\")\n",
    "    if verbose:\n",
    "        print(f\"Tamaño de las listas: valores_karatsuba={len(valores_karatsuba)}, valores_schoolbook={len(valores_schoolbook)}\")\n",
    "        print(\"Generando frames...\")\n",
    "    \n",
    "    # Crear frames\n",
    "    threshold_range=np.linspace(2, max_threshold_range, max_threshold_range+1)\n",
    "    frames = crear_frames_threshold(tam_poli, threshold_range, verbose=verbose)\n",
    "\n",
    "    if verbose:\n",
    "        print(\"Configurando figura...\")\n",
    "    fig = configurar_figura_threshold(valores_karatsuba, valores_schoolbook, threshold_range, frames)\n",
    "\n",
    "    if verbose:\n",
    "        print(\"Agregando deslizador...\")\n",
    "    agregar_deslizador_threshold(fig, threshold_range)\n",
    "\n",
    "    if verbose:\n",
    "        print(\"Mostrando figura interactiva...\")\n",
    "    fig.show()\n"
   ]
  },
  {
   "cell_type": "code",
   "execution_count": 13,
   "metadata": {},
   "outputs": [
    {
     "ename": "NameError",
     "evalue": "name 'do_karatsuba' is not defined",
     "output_type": "error",
     "traceback": [
      "\u001b[0;31m---------------------------------------------------------------------------\u001b[0m",
      "\u001b[0;31mNameError\u001b[0m                                 Traceback (most recent call last)",
      "\u001b[0;32m/tmp/ipykernel_69674/2971790959.py\u001b[0m in \u001b[0;36m<module>\u001b[0;34m\u001b[0m\n\u001b[0;32m----> 1\u001b[0;31m graficar_listas_umbral(tam_poli=Integer(90), \n\u001b[0m\u001b[1;32m      2\u001b[0m                         \u001b[0mmax_threshold_range\u001b[0m\u001b[0;34m=\u001b[0m\u001b[0mInteger\u001b[0m\u001b[0;34m(\u001b[0m\u001b[0;36m40\u001b[0m\u001b[0;34m)\u001b[0m\u001b[0;34m,\u001b[0m\u001b[0;34m\u001b[0m\u001b[0;34m\u001b[0m\u001b[0m\n\u001b[1;32m      3\u001b[0m                         verbose=False)\n",
      "\u001b[0;32m/tmp/ipykernel_69674/2897465167.py\u001b[0m in \u001b[0;36mgraficar_listas_umbral\u001b[0;34m(tam_poli, max_threshold_range, verbose)\u001b[0m\n\u001b[1;32m     69\u001b[0m     \u001b[0;31m# Crear frames\u001b[0m\u001b[0;34m\u001b[0m\u001b[0;34m\u001b[0m\u001b[0m\n\u001b[1;32m     70\u001b[0m     \u001b[0mthreshold_range\u001b[0m\u001b[0;34m=\u001b[0m\u001b[0mnp\u001b[0m\u001b[0;34m.\u001b[0m\u001b[0mlinspace\u001b[0m\u001b[0;34m(\u001b[0m\u001b[0mInteger\u001b[0m\u001b[0;34m(\u001b[0m\u001b[0;36m2\u001b[0m\u001b[0;34m)\u001b[0m\u001b[0;34m,\u001b[0m \u001b[0mmax_threshold_range\u001b[0m\u001b[0;34m,\u001b[0m \u001b[0mmax_threshold_range\u001b[0m\u001b[0;34m+\u001b[0m\u001b[0mInteger\u001b[0m\u001b[0;34m(\u001b[0m\u001b[0;36m1\u001b[0m\u001b[0;34m)\u001b[0m\u001b[0;34m)\u001b[0m\u001b[0;34m\u001b[0m\u001b[0;34m\u001b[0m\u001b[0m\n\u001b[0;32m---> 71\u001b[0;31m     \u001b[0mframes\u001b[0m \u001b[0;34m=\u001b[0m \u001b[0mcrear_frames_threshold\u001b[0m\u001b[0;34m(\u001b[0m\u001b[0mtam_poli\u001b[0m\u001b[0;34m,\u001b[0m \u001b[0mthreshold_range\u001b[0m\u001b[0;34m,\u001b[0m \u001b[0mverbose\u001b[0m\u001b[0;34m=\u001b[0m\u001b[0mverbose\u001b[0m\u001b[0;34m)\u001b[0m\u001b[0;34m\u001b[0m\u001b[0;34m\u001b[0m\u001b[0m\n\u001b[0m\u001b[1;32m     72\u001b[0m \u001b[0;34m\u001b[0m\u001b[0m\n\u001b[1;32m     73\u001b[0m     \u001b[0;32mif\u001b[0m \u001b[0mverbose\u001b[0m\u001b[0;34m:\u001b[0m\u001b[0;34m\u001b[0m\u001b[0;34m\u001b[0m\u001b[0m\n",
      "\u001b[0;32m/tmp/ipykernel_69674/2897465167.py\u001b[0m in \u001b[0;36mcrear_frames_threshold\u001b[0;34m(tam_poli, threshold_range, verbose)\u001b[0m\n\u001b[1;32m     14\u001b[0m \u001b[0;34m\u001b[0m\u001b[0m\n\u001b[1;32m     15\u001b[0m         \u001b[0;31m# Filtrar datos por el threshold\u001b[0m\u001b[0;34m\u001b[0m\u001b[0;34m\u001b[0m\u001b[0m\n\u001b[0;32m---> 16\u001b[0;31m         \u001b[0my_k\u001b[0m\u001b[0;34m,\u001b[0m \u001b[0my_s\u001b[0m \u001b[0;34m=\u001b[0m \u001b[0mgenerador_listas\u001b[0m\u001b[0;34m(\u001b[0m\u001b[0mtamaño_max\u001b[0m\u001b[0;34m=\u001b[0m\u001b[0mtam_poli\u001b[0m\u001b[0;34m,\u001b[0m \u001b[0mK_threshold\u001b[0m\u001b[0;34m=\u001b[0m\u001b[0mthreshold\u001b[0m\u001b[0;34m)\u001b[0m\u001b[0;34m\u001b[0m\u001b[0;34m\u001b[0m\u001b[0m\n\u001b[0m\u001b[1;32m     17\u001b[0m         \u001b[0mx_k\u001b[0m \u001b[0;34m=\u001b[0m \u001b[0mtam_poli\u001b[0m\u001b[0;34m\u001b[0m\u001b[0;34m\u001b[0m\u001b[0m\n\u001b[1;32m     18\u001b[0m         \u001b[0mx_s\u001b[0m \u001b[0;34m=\u001b[0m \u001b[0mtam_poli\u001b[0m\u001b[0;34m\u001b[0m\u001b[0;34m\u001b[0m\u001b[0m\n",
      "\u001b[0;32m/tmp/ipykernel_69674/2981403388.py\u001b[0m in \u001b[0;36mgenerador_listas\u001b[0;34m(tamaño_max, card_cuerpo_finito, K_threshold, verbose)\u001b[0m\n\u001b[1;32m     10\u001b[0m         \u001b[0mNUM_SUMA\u001b[0m \u001b[0;34m=\u001b[0m \u001b[0mInteger\u001b[0m\u001b[0;34m(\u001b[0m\u001b[0;36m0\u001b[0m\u001b[0;34m)\u001b[0m\u001b[0;34m\u001b[0m\u001b[0;34m\u001b[0m\u001b[0m\n\u001b[1;32m     11\u001b[0m         \u001b[0mNUM_PRODUCTO\u001b[0m \u001b[0;34m=\u001b[0m \u001b[0mInteger\u001b[0m\u001b[0;34m(\u001b[0m\u001b[0;36m0\u001b[0m\u001b[0;34m)\u001b[0m\u001b[0;34m\u001b[0m\u001b[0;34m\u001b[0m\u001b[0m\n\u001b[0;32m---> 12\u001b[0;31m         \u001b[0mk_result\u001b[0m\u001b[0;34m=\u001b[0m\u001b[0mdo_karatsuba\u001b[0m\u001b[0;34m(\u001b[0m\u001b[0mf\u001b[0m\u001b[0;34m,\u001b[0m \u001b[0mf\u001b[0m\u001b[0;34m,\u001b[0m \u001b[0mK_threshold\u001b[0m\u001b[0;34m=\u001b[0m\u001b[0mK_threshold\u001b[0m\u001b[0;34m)\u001b[0m\u001b[0;34m\u001b[0m\u001b[0;34m\u001b[0m\u001b[0m\n\u001b[0m\u001b[1;32m     13\u001b[0m         \u001b[0mL_K\u001b[0m\u001b[0;34m.\u001b[0m\u001b[0mappend\u001b[0m\u001b[0;34m(\u001b[0m\u001b[0;34m(\u001b[0m\u001b[0mi\u001b[0m\u001b[0;34m,\u001b[0m \u001b[0mNUM_PRODUCTO\u001b[0m\u001b[0;34m,\u001b[0m \u001b[0mNUM_SUMA\u001b[0m\u001b[0;34m+\u001b[0m\u001b[0mNUM_PRODUCTO\u001b[0m\u001b[0;34m)\u001b[0m\u001b[0;34m)\u001b[0m\u001b[0;34m\u001b[0m\u001b[0;34m\u001b[0m\u001b[0m\n\u001b[1;32m     14\u001b[0m \u001b[0;34m\u001b[0m\u001b[0m\n",
      "\u001b[0;31mNameError\u001b[0m: name 'do_karatsuba' is not defined"
     ]
    }
   ],
   "source": [
    "graficar_listas_umbral(tam_poli=90, \n",
    "                        max_threshold_range=40, \n",
    "                        verbose=False)"
   ]
  },
  {
   "cell_type": "code",
   "execution_count": null,
   "metadata": {},
   "outputs": [],
   "source": [
    "def generador_listas(tamaño_max=100, card_cuerpo_finito=2, K_threshold=8, verbose=False):\n",
    "    F=GF(card_cuerpo_finito)\n",
    "    R=F['x']\n",
    "    L_K=[]\n",
    "    L_S=[]\n",
    "    g = [anillo(R(1))]*1024\n",
    "    global NUM_SUMA, NUM_PRODUCTO    \n",
    "    for i in range(tamaño_max+1):\n",
    "        f = [anillo(R(1)) for t in range(i)]\n",
    "        NUM_SUMA = 0\n",
    "        NUM_PRODUCTO = 0\n",
    "        k_result=do_karatsuba_different_size(f, g, K_threshold=K_threshold)\n",
    "        L_K.append((i, NUM_PRODUCTO, NUM_SUMA+NUM_PRODUCTO))\n",
    "\n",
    "        NUM_SUMA = 0\n",
    "        NUM_PRODUCTO = 0\n",
    "        s_result=do_schoolbook(f, g)\n",
    "        L_S.append((i, NUM_PRODUCTO, NUM_SUMA+NUM_PRODUCTO))\n",
    "        \n",
    "        \n",
    "        if verbose and i%50==0:\n",
    "            print(i)        \n",
    "    \n",
    "    return L_K, L_S\n",
    "\n",
    "l_k, l_s = generador_listas(tamaño_max=100, \n",
    "                            card_cuerpo_finito=2,\n",
    "                            K_threshold=8,\n",
    "                            verbose=True)\n",
    "\n",
    "print(l_k)\n",
    "print(l_s)"
   ]
  }
 ],
 "metadata": {
  "kernelspec": {
   "display_name": "SageMath 9.5",
   "language": "sage",
   "name": "sagemath"
  },
  "language_info": {
   "codemirror_mode": {
    "name": "ipython",
    "version": 3
   },
   "file_extension": ".py",
   "mimetype": "text/x-python",
   "name": "sage",
   "nbconvert_exporter": "python",
   "pygments_lexer": "ipython3",
   "version": "3.10.12"
  }
 },
 "nbformat": 4,
 "nbformat_minor": 2
}
