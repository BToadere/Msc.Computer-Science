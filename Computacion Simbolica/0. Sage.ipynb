{
 "cells": [
  {
   "cell_type": "markdown",
   "metadata": {},
   "source": [
    "# Algebra"
   ]
  },
  {
   "cell_type": "markdown",
   "metadata": {},
   "source": [
    "## Cuerpos Finitos GF(k)"
   ]
  },
  {
   "cell_type": "code",
   "execution_count": 1,
   "metadata": {},
   "outputs": [],
   "source": [
    "from sage import *"
   ]
  },
  {
   "cell_type": "code",
   "execution_count": 1,
   "metadata": {},
   "outputs": [
    {
     "name": "stdout",
     "output_type": "stream",
     "text": [
      "El MCD de los polinomios p1=(x^6 + x^5 + x^3 + x + 1) p2=(x^6 + x^3 + x + 1) es: 1\n"
     ]
    }
   ],
   "source": [
    "# Define el campo finito F_2\n",
    "F = GF(2)\n",
    "\n",
    "# Define el anillo de polinomios sobre F_2\n",
    "R.<x> = PolynomialRing(F)\n",
    "\n",
    "# Define los polinomios\n",
    "p1 = x^6 + x^5 + x^3 + x + 1 \n",
    "p2 = x^6 + x^3 + x + 1 \n",
    "\n",
    "# Calcula el MCD\n",
    "gcd_polynomial = gcd(p1, p2) \n",
    "\n",
    "# Muestra el resultado\n",
    "print(f\"El MCD de los polinomios p1=({p1}) p2=({p2}) es:\", gcd_polynomial)\n",
    "for foo in range(2):\n",
    "    _\n"
   ]
  },
  {
   "cell_type": "code",
   "execution_count": 2,
   "metadata": {},
   "outputs": [
    {
     "name": "stdout",
     "output_type": "stream",
     "text": [
      "El MCD de los polinomios p1=(x^6 + x^5 + x^3 + x + 1) p2=(x^6 + x^3 + x + 1) es: 1\n"
     ]
    }
   ],
   "source": [
    "# Define el campo finito F_2\n",
    "F = GF(2)\n",
    "\n",
    "# Define el anillo de polinomios sobre F_2\n",
    "R.<x> = PolynomialRing(F)\n",
    "\n",
    "# Define los polinomios\n",
    "p1 = x^6 + x^5 + x^3 + x + 1 \n",
    "p2 = x^6 + x^3 + x + 1 \n",
    "\n",
    "# Calcula el MCD\n",
    "gcd_polynomial = gcd(p1, p2) \n",
    "\n",
    "# Muestra el resultado\n",
    "print(f\"El MCD de los polinomios p1=({p1}) p2=({p2}) es:\", gcd_polynomial)\n",
    "for foo in range(2):\n",
    "    _"
   ]
  },
  {
   "cell_type": "code",
   "execution_count": 2,
   "metadata": {},
   "outputs": [
    {
     "name": "stdout",
     "output_type": "stream",
     "text": [
      "Defining a\n",
      "1 + 1 en GF(2^3) es: 1\n"
     ]
    },
    {
     "name": "stderr",
     "output_type": "stream",
     "text": [
      "UsageError: Line magic function `%autoindent` not found.\n"
     ]
    }
   ],
   "source": [
    "# Definir el cuerpo finito GF(8) = F_{2^3}\n",
    "F = GF(2^3, 'a')  # Definimos el cuerpo con 2^3 elementos y usamos 'a' como generador\n",
    "F.inject_variables()\n",
    "# Obtener el elemento neutro multiplicativo (1) en F\n",
    "one = F(1)\n",
    "f=F(4)\n",
    "# Suma de 1 + 1 en F_{2^3}\n",
    "result = one + one + one\n",
    "\n",
    "# Imprimir el resultado\n",
    "print(f\"1 + 1 en GF(2^3) es: {result}\")\n",
    "a**(2**8)\n"
   ]
  },
  {
   "cell_type": "markdown",
   "metadata": {},
   "source": [
    "# Combinatoria"
   ]
  },
  {
   "cell_type": "markdown",
   "metadata": {},
   "source": [
    "## Conjuntos"
   ]
  },
  {
   "cell_type": "code",
   "execution_count": 3,
   "metadata": {},
   "outputs": [
    {
     "name": "stderr",
     "output_type": "stream",
     "text": [
      "UsageError: Line magic function `%autoindent` not found.\n"
     ]
    }
   ],
   "source": []
  },
  {
   "cell_type": "code",
   "execution_count": 1,
   "metadata": {},
   "outputs": [
    {
     "data": {
      "text/plain": [
       "[1, 2, 2, 3]"
      ]
     },
     "execution_count": 1,
     "metadata": {},
     "output_type": "execute_result"
    }
   ],
   "source": [
    "S = Subsets([1,2,2,3], submultiset=True)\n",
    "S.cardinality()\n",
    "S.list()\n",
    "S.first()\n",
    "S.last()"
   ]
  },
  {
   "cell_type": "markdown",
   "metadata": {},
   "source": [
    "# Plot"
   ]
  },
  {
   "cell_type": "code",
   "execution_count": null,
   "metadata": {},
   "outputs": [
    {
     "data": {
      "image/png": "[encoded data removed]",
      "text/plain": [
       "Graphics object consisting of 2 graphics primitives"
      ]
     },
     "metadata": {},
     "output_type": "display_data"
    }
   ],
   "source": [
    "# Define las funciones\n",
    "f1(x) = x^2\n",
    "f2(x) = x^3\n",
    "\n",
    "# Dibuja las gráficas\n",
    "grafica1 = plot(f1, (x, -2, 2), color='blue', legend_label='y = x^2')\n",
    "grafica2 = plot(f2, (x, -2, 2), color='red', legend_label='y = x^3')\n",
    "\n",
    "# Combina las gráficas\n",
    "grafica_total = grafica1 + grafica2\n",
    "\n",
    "# Muestra la gráfica combinada\n",
    "grafica_total.show()\n"
   ]
  },
  {
   "cell_type": "code",
   "execution_count": null,
   "metadata": {},
   "outputs": [],
   "source": [
    "# Define los puntos de las líneas\n",
    "linea1 = line([(-2, 4), (-1, 1), (0, 0), (1, 1), (2, 4)], color='blue', legend_label='Línea 1')\n",
    "linea2 = line([(-2, -8), (-1, -1), (0, 0), (1, 1), (2, 8)], color='red', legend_label='Línea 2')\n",
    "\n",
    "# Combina las líneas\n",
    "lineas_totales = linea1 + linea2\n",
    "\n",
    "# Muestra la gráfica\n",
    "# lineas_totales.show()\n"
   ]
  },
  {
   "cell_type": "markdown",
   "metadata": {},
   "source": [
    "# Pruebas"
   ]
  },
  {
   "cell_type": "code",
   "execution_count": null,
   "metadata": {},
   "outputs": [
    {
     "name": "stdout",
     "output_type": "stream",
     "text": [
      "[1 2]\n",
      "[3 4]\n"
     ]
    }
   ],
   "source": [
    "a= matrix([[1, 2], [3, 4]])\n",
    "print(a)"
   ]
  },
  {
   "cell_type": "code",
   "execution_count": null,
   "metadata": {},
   "outputs": [
    {
     "data": {
      "text/plain": [
       "[  -2    1]\n",
       "[ 3/2 -1/2]"
      ]
     },
     "execution_count": 6,
     "metadata": {},
     "output_type": "execute_result"
    }
   ],
   "source": [
    "a^-1"
   ]
  },
  {
   "cell_type": "code",
   "execution_count": null,
   "metadata": {},
   "outputs": [],
   "source": [
    "def do():\n",
    "    \n"
   ]
  },
  {
   "cell_type": "code",
   "execution_count": null,
   "metadata": {},
   "outputs": [
    {
     "name": "stdout",
     "output_type": "stream",
     "text": [
      "Matriz de incidencia en Sage:\n",
      "[ 1  0  0]\n",
      "[-1  1 -1]\n",
      "[ 0 -1  1]\n",
      "2\n",
      "0\n"
     ]
    }
   ],
   "source": [
    "incidence_matrix =[[1,0,0],[-1,1,-1],[0,-1,1]]\n",
    "# Convertir la matriz de incidencia a una matriz de Sage\n",
    "sage_incidence_matrix = matrix(ZZ, incidence_matrix)\n",
    "\n",
    "# Mostrar la matriz de incidencia en Sage\n",
    "print(\"Matriz de incidencia en Sage:\")\n",
    "print(sage_incidence_matrix)\n",
    "print(sage_incidence_matrix.rank())\n",
    "print(det(sage_incidence_matrix))"
   ]
  }
 ],
 "metadata": {
  "kernelspec": {
   "display_name": "SageMath 9.5",
   "language": "sage",
   "name": "sagemath"
  },
  "language_info": {
   "codemirror_mode": {
    "name": "ipython",
    "version": 3
   },
   "file_extension": ".py",
   "mimetype": "text/x-python",
   "name": "sage",
   "nbconvert_exporter": "python",
   "pygments_lexer": "ipython3",
   "version": "3.10.12"
  }
 },
 "nbformat": 4,
 "nbformat_minor": 2
}
