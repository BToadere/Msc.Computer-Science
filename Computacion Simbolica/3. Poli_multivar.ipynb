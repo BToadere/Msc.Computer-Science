{
 "cells": [
  {
   "cell_type": "code",
   "execution_count": null,
   "metadata": {},
   "outputs": [
    {
     "name": "stdout",
     "output_type": "stream",
     "text": [
      "\u001b[0;31mSignature:\u001b[0m \u001b[0mR\u001b[0m\u001b[0;34m.\u001b[0m\u001b[0m__getitem__\u001b[0m\u001b[0;34m(\u001b[0m\u001b[0mself\u001b[0m\u001b[0;34m,\u001b[0m \u001b[0ms\u001b[0m\u001b[0;34m)\u001b[0m\u001b[0;34m\u001b[0m\u001b[0;34m\u001b[0m\u001b[0m\n",
      "\u001b[0;31mDocstring:\u001b[0m\n",
      "   Returns the RFunction with name s.\n",
      "\n",
      "   INPUT:\n",
      "\n",
      "   * s -- a string\n",
      "\n",
      "   OUTPUT: RFunction -- the R function that in R has name s\n",
      "\n",
      "   EXAMPLES:\n",
      "\n",
      "      sage: r['as.data.frame']  # optional - rpy2\n",
      "      as.data.frame\n",
      "      sage: r['print']  # optional - rpy2\n",
      "      print\n",
      "\u001b[0;31mSource:\u001b[0m   \n",
      "    \u001b[0;32mdef\u001b[0m \u001b[0m__getitem__\u001b[0m\u001b[0;34m(\u001b[0m\u001b[0mself\u001b[0m\u001b[0;34m,\u001b[0m \u001b[0ms\u001b[0m\u001b[0;34m)\u001b[0m\u001b[0;34m:\u001b[0m\u001b[0;34m\u001b[0m\n",
      "\u001b[0;34m\u001b[0m        \u001b[0;34m\"\"\"\u001b[0m\n",
      "\u001b[0;34m        Returns the RFunction with name s.\u001b[0m\n",
      "\u001b[0;34m\u001b[0m\n",
      "\u001b[0;34m        INPUT:\u001b[0m\n",
      "\u001b[0;34m\u001b[0m\n",
      "\u001b[0;34m        - s -- a string\u001b[0m\n",
      "\u001b[0;34m        OUTPUT: RFunction -- the R function that in R has name s\u001b[0m\n",
      "\u001b[0;34m\u001b[0m\n",
      "\u001b[0;34m        EXAMPLES::\u001b[0m\n",
      "\u001b[0;34m\u001b[0m\n",
      "\u001b[0;34m            sage: r['as.data.frame']  # optional - rpy2\u001b[0m\n",
      "\u001b[0;34m            as.data.frame\u001b[0m\n",
      "\u001b[0;34m            sage: r['print']  # optional - rpy2\u001b[0m\n",
      "\u001b[0;34m            print\u001b[0m\n",
      "\u001b[0;34m        \"\"\"\u001b[0m\u001b[0;34m\u001b[0m\n",
      "\u001b[0;34m\u001b[0m        \u001b[0;32mreturn\u001b[0m \u001b[0mRFunction\u001b[0m\u001b[0;34m(\u001b[0m\u001b[0mself\u001b[0m\u001b[0;34m,\u001b[0m \u001b[0ms\u001b[0m\u001b[0;34m,\u001b[0m \u001b[0mr_name\u001b[0m\u001b[0;34m=\u001b[0m\u001b[0;32mTrue\u001b[0m\u001b[0;34m)\u001b[0m\u001b[0;34m\u001b[0m\u001b[0;34m\u001b[0m\u001b[0m\n",
      "\u001b[0;31mFile:\u001b[0m      /usr/lib/python3/dist-packages/sage/interfaces/r.py\n",
      "\u001b[0;31mType:\u001b[0m      function\n"
     ]
    }
   ],
   "source": [
    "r= GF(2)\n",
    "#R.__getitem__??\n",
    "PolynomialRing(GF(2),'x',12)\n",
    "T1=PolynomialRing(GF(2),'x,y,z,t', order=lex)"
   ]
  },
  {
   "cell_type": "code",
   "execution_count": null,
   "metadata": {},
   "outputs": [],
   "source": [
    "Ordenes\n",
    "\n",
    "set_verbose(2)\n",
    "Sirve para ver por donde van algoritmos en sage, sirva para als bases de groebner porque a veces es muuuy largo\n"
   ]
  },
  {
   "cell_type": "markdown",
   "metadata": {},
   "source": [
    "r.term_order()\n",
    "\n",
    "T1=PolynomialRing(GF(2),'x,y,z,t', order=lex)"
   ]
  },
  {
   "cell_type": "code",
   "execution_count": null,
   "metadata": {},
   "outputs": [
    {
     "name": "stdout",
     "output_type": "stream",
     "text": [
      "compute hilbert series with std in ring (ZZ/2),(x,y,z,t,@),(dp(5),C)\n",
      "weights used for hilbert series: 1,1,1,1,1\n",
      "[1048575:2]5ss7 [x*y^2*z*t + y*t, x*y^2*t^3 + x*y*z^2*t + y*t^3, x*y*z^3 + y*z*t^2 + y*t^2, x*y*z*t^2 + x*z^4 + x*z^3 + y*z*t^4 + y*t^4, x*z^5 + y*z*t^4 + y*t^4 + z^3*t^2, y^2*z*t^3 + y^2*t^3 + y*z^2*t, y*z^2*t^2 + y*z*t^2 + z^3]\n",
      "7 [x*y^2*t^3 + x*y*z^2*t + y*t^3, x*z^5 + x*y*z*t^2 + x*z^4 + z^3*t^2 + x*z^3, y^2*z*t^3 + y^2*t^3 + y*z^2*t, y*z*t^4 + x*y*z*t^2 + x*z^4 + y*t^4 + x*z^3, x*y^2*z*t + y*t, x*y*z^3 + y*z*t^2 + y*t^2, y*z^2*t^2 + y*z*t^2 + z^3]\n",
      "7s9ss10(2)ss11--\n",
      "(S:6)------\n",
      "product criterion:0 chain criterion:12\n",
      "std with hilb in (ZZ/2),(x,y,z,t,@),(lp(4),dp(1),C)\n",
      "[1048575:2]5(6)s(5)s7sh9sshh10(4)s-shhhh\n",
      "(S:6)------\n",
      "product criterion:0 chain criterion:12\n",
      "hilbert series criterion:7\n",
      "dehomogenization\n",
      "simplification\n",
      "imap to ring (ZZ/2),(x,y,z,t),(lp(4),C)\n",
      "//interreduction\n",
      "[65535:1]5(6)s6(5)s(4)s5(3)s(2)s6s5s\n",
      "(S:6)------\n",
      "\n",
      "std in (ZZ/2),(x,y,z,t),(Dp(4),C)\n",
      "[65535:2]5ss7s9ss10(2)ss11--\n",
      "(S:6)------\n",
      "product criterion:0 chain criterion:12\n"
     ]
    }
   ],
   "source": [
    "T1=PolynomialRing(GF(2),'x,y,z,t', order='lex')\n",
    "T2=PolynomialRing(GF(2),'x,y,z,t', order='deglex')\n",
    "\n",
    "f1=T1.random_element(5)\n",
    "f2=T1.random_element(5)\n",
    "\n",
    "I=Ideal(f1, f2)\n",
    "\n",
    "B=I.groebner_basis()\n",
    "\n",
    "print(len(B), B)\n",
    "\n",
    "\n",
    "\n",
    "g1=T2(f1)\n",
    "g2=T2(f2)\n",
    "\n",
    "I2= ideal(g1,g2)\n",
    "\n",
    "\n",
    "B2=I2.groebner_basis()\n",
    "\n",
    "\n",
    "print(len(B2), B2)"
   ]
  },
  {
   "cell_type": "markdown",
   "metadata": {},
   "source": [
    "resultantes y final clase\n"
   ]
  },
  {
   "cell_type": "code",
   "execution_count": null,
   "metadata": {},
   "outputs": [],
   "source": [
    "#orden degrevlex para x, y z\n",
    "#orden degrevlex para t,u,v\n",
    "# Esto sirve porqeu si calaculamso la base de groebner del anillo \n",
    "K=PolynomialRing(QQ, 'x,y,z,t,u,v', order=TermOrder('degrevlex', 3)+ TermOrder('degrevlex', 3) )"
   ]
  }
 ],
 "metadata": {
  "kernelspec": {
   "display_name": "SageMath 9.5",
   "language": "sage",
   "name": "sagemath"
  },
  "language_info": {
   "codemirror_mode": {
    "name": "ipython",
    "version": 3
   },
   "file_extension": ".py",
   "mimetype": "text/x-python",
   "name": "sage",
   "nbconvert_exporter": "python",
   "pygments_lexer": "ipython3",
   "version": "3.10.12"
  }
 },
 "nbformat": 4,
 "nbformat_minor": 2
}
