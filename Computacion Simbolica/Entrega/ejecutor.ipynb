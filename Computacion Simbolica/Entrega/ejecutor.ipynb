{
 "cells": [
  {
   "cell_type": "markdown",
   "metadata": {},
   "source": [
    "# Funciones"
   ]
  },
  {
   "cell_type": "code",
   "execution_count": 5,
   "metadata": {
    "vscode": {
     "languageId": "sage"
    }
   },
   "outputs": [],
   "source": [
    "def do_schoolbook(f,g):\n",
    "  n = len(f)\n",
    "  m = len(g)\n",
    "  C = [anillo(0)] * (n+m-1)\n",
    "  for i in range(n):\n",
    "    for j in range(m):\n",
    "        C[i+j] = C[i+j] + f[i]*g[j]\n",
    "  return C\n",
    "\n",
    "def do_karatsuba(f,g, K_threshold=8):\n",
    "  n = len(f)\n",
    "  n0 = n //2\n",
    "  n1 = n - n0\n",
    "  if n < K_threshold:\n",
    "    return do_schoolbook(f,g)\n",
    "  f0 = f[:n0] # tamaño n0\n",
    "  f1 = f[n0:]  # tamaño n1\n",
    "  g0 = g[:n0] # tamaño n0\n",
    "  g1 = g[n0:]  # tamaño n1\n",
    "  u = do_karatsuba(f0,g0, K_threshold) # tamaño 2*n0-1\n",
    "  v = do_karatsuba(f1,g1, K_threshold) # tamaño 2*n1-1\n",
    "  # Usamos f1, g1 como f0+f1,g0+g1 para evitar crear más listas\n",
    "  # Fijaos que n1 >= n0\n",
    "  for i in range(n0):\n",
    "    f1[i] = f1[i]+f0[i]\n",
    "    g1[i] = g1[i]+g0[i]\n",
    "  w = do_karatsuba(f1,g1, K_threshold) # tamaño 2*n1-1\n",
    "  # resto u y v a w, el problema es que los tamaños pueden ser distintos\n",
    "  for i in range(2*n0-1):\n",
    "    w[i] = w[i] - u[i] - v[i]\n",
    "  for i in range(2*n0-1,2*n1-1):\n",
    "    w[i] = w[i] - v[i]\n",
    "  #C = [0] * (2*n-1)\n",
    "  #for i in range(2*n0-1):\n",
    "  #  C[i] = C[i] + u[i]\n",
    "  #  C[n0+i] = C[n0+i] + w[i]\n",
    "  #  C[2*n0+i] = C[2*n0+i] + v[i]\n",
    "  #for i in range(2*n0-1,2*n1-1):\n",
    "  #  C[n0+i] = C[n0+i] + w[i]\n",
    "  #  C[2*n0+i] = C[2*n0+i] + v[i]\n",
    "  #\n",
    "  # u contiene los monomios de 0 a 2*n0-2\n",
    "  # v contiene los monomios de 2*n0 a 2*n-1\n",
    "  # solo nos falta el monomio 2*n0-1\n",
    "  # podemos usarlo para evitar sumas en C\n",
    "  C = u +[anillo(0)] +v\n",
    "  for i in range(2*n1-1):\n",
    "    C[n0+i] = C[n0+i] + w[i]\n",
    "  return C\n",
    "\n",
    "def do_karatsuba_different_size(left: list, right: list, K_threshold: int=8) -> list:\n",
    "    \"\"\"\n",
    "    Multiplicación de dos polinomios de diferente grado, usando una\n",
    "    estrategia de división del polinómio mayor en partes de tamaño\n",
    "    del polinomio menor. Así, poder aplicar do_karatsuba a las partes.\n",
    "\n",
    "    INPUT:\n",
    "\n",
    "    - ``left``  -- representación de polinomio como lista\n",
    "    - ``right`` -- representación de polinomio como lista\n",
    "    - ``K_threshold`` -- Entero, se usa como criterio para usar la \n",
    "    multiplicación de la escuela si el el grado de alguno de los \n",
    "    polinómios es menor que él.\n",
    "\n",
    "    TESTS:\n",
    "\n",
    "    sage: do_karatsuba_different_size([anillo(1), anillo(2)], [anillo(3), anillo(4)])  # Grados iguales\n",
    "    [3, 10, 8]\n",
    "\n",
    "    sage: do_karatsuba_different_size([anillo(1), anillo(2), anillo(3)], [anillo(4), anillo(5)])  # n > m\n",
    "    [4, 13, 22, 15]\n",
    "\n",
    "    sage: do_karatsuba_different_size([anillo(3), anillo(4)], [anillo(1), anillo(2), anillo(3)])  # n < m\n",
    "    [3, 10, 17, 12]\n",
    "\n",
    "    sage: do_karatsuba_different_size([], [anillo(1), anillo(2), anillo(3)])  # Caso vacío\n",
    "    []\n",
    "\n",
    "    sage: do_karatsuba_different_size([anillo(1)], [anillo(1), anillo(2), anillo(3)])  # Caso n = 1\n",
    "    [1, 2, 3]\n",
    "\n",
    "    sage: do_karatsuba_different_size([anillo(1), anillo(2), anillo(3)], [anillo(1)])  # Caso m = 1\n",
    "    [1, 2, 3]\n",
    "\n",
    "    sage: do_karatsuba_different_size([anillo(1), anillo(2), anillo(3)], [anillo(4), anillo(5)], K_threshold=1)  # Caso K_threshold bajo\n",
    "    [4, 13, 22, 15]\n",
    "\n",
    "    \"\"\"\n",
    "    n: int= len(left); m: int= len(right)\n",
    "    if n == 0 or m == 0:\n",
    "        return []\n",
    "    if n == 1:\n",
    "        c = left[0]\n",
    "        return [c*a for a in right]\n",
    "    if m == 1:\n",
    "        c = right[0]\n",
    "        return [a*c for a in left] # beware of noncommutative rings\n",
    "    \n",
    "    if n <= K_threshold or m <= K_threshold or K_threshold==1 or K_threshold==2:\n",
    "        return do_schoolbook(left, right)\n",
    "    if n == m:\n",
    "        return do_karatsuba(left, right, K_threshold)\n",
    "    if n > m:\n",
    "        # left is the bigger list\n",
    "        # n is the bigger number\n",
    "        q = n // m\n",
    "        r = n % m\n",
    "        output = do_karatsuba(left[:m], right, K_threshold)\n",
    "        for i in range(1, q): #from 1 <= i < q:\n",
    "            mi = m*i\n",
    "            carry = do_karatsuba(left[mi:mi+m], right, K_threshold)\n",
    "            for j in range(m-1):\n",
    "                output[mi+j] = output[mi+j] + carry[j]\n",
    "            output.extend(carry[m-1:])\n",
    "        if r:\n",
    "            mi = m*q\n",
    "            carry = do_karatsuba_different_size(left[mi:], right, K_threshold)\n",
    "            for j in range (m-1):\n",
    "                output[mi+j] = output[mi+j] + carry[j]\n",
    "            output.extend(carry[m-1:])\n",
    "        return output\n",
    "    else:\n",
    "        # n < m, I need to repeat the code due to the case\n",
    "        # of noncommutative rings.\n",
    "        q = m // n\n",
    "        r = m % n\n",
    "        output = do_karatsuba(left, right[:n], K_threshold)\n",
    "        for i in range(1,q): #from 1 <= i < q:\n",
    "            mi = n*i\n",
    "            carry = do_karatsuba(left, right[mi:mi+n], K_threshold)\n",
    "            for j in range(n-1):\n",
    "                output[mi+j] = output[mi+j] + carry[j]\n",
    "            output.extend(carry[n-1:])\n",
    "        if r:\n",
    "            mi = n*q\n",
    "            carry = do_karatsuba_different_size(left, right[mi:], K_threshold)\n",
    "            for j in range(n-1):\n",
    "                output[mi+j] = output[mi+j] + carry[j]\n",
    "            output.extend(carry[n-1:])\n",
    "        return output\n",
    "\n",
    "def do_karatsuba_different_size_mult_8(left: list, right: list, K_threshold: int=8) -> list:\n",
    "    \"\"\"\n",
    "        Multiplicación de dos polinomios de diferente grado, usando una\n",
    "        estrategia de división del polinómio mayor en partes de tamaño\n",
    "        del polinomio menor. Así, poder aplicar do_karatsuba a las partes.\n",
    "\n",
    "        INPUT:\n",
    "\n",
    "        - ``left``  -- representación de polinomio como lista\n",
    "        - ``right`` -- representación de polinomio como lista\n",
    "        - ``K_threshold`` -- Entero, se usa como criterio para usar la \n",
    "        multiplicación de la escuela si el el grado de alguno de los \n",
    "        polinómios es menor que él.\n",
    "\n",
    "        TESTS:\n",
    "\n",
    "        sage: do_karatsuba_different_size([anillo(1), anillo(2)], [anillo(3), anillo(4)])  # Grados iguales\n",
    "        [3, 10, 8]\n",
    "\n",
    "        sage: do_karatsuba_different_size([anillo(1), anillo(2), anillo(3)], [anillo(4), anillo(5)])  # n > m\n",
    "        [4, 13, 22, 15]\n",
    "\n",
    "        sage: do_karatsuba_different_size([anillo(3), anillo(4)], [anillo(1), anillo(2), anillo(3)])  # n < m\n",
    "        [3, 10, 17, 12]\n",
    "\n",
    "        sage: do_karatsuba_different_size([], [anillo(1), anillo(2), anillo(3)])  # Caso vacío\n",
    "        []\n",
    "\n",
    "        sage: do_karatsuba_different_size([anillo(1)], [anillo(1), anillo(2), anillo(3)])  # Caso n = 1\n",
    "        [1, 2, 3]\n",
    "\n",
    "        sage: do_karatsuba_different_size([anillo(1), anillo(2), anillo(3)], [anillo(1)])  # Caso m = 1\n",
    "        [1, 2, 3]\n",
    "\n",
    "        sage: do_karatsuba_different_size([anillo(1), anillo(2), anillo(3)], [anillo(4), anillo(5)], K_threshold=1)  # Caso K_threshold bajo\n",
    "        [4, 13, 22, 15]\n",
    "\n",
    "    \"\"\"\n",
    "    n: int= len(left); m: int= len(right)\n",
    "    if n == 0 or m == 0:\n",
    "        return []\n",
    "    if n == 1:\n",
    "        c = left[0]\n",
    "        return [c*a for a in right]\n",
    "    if m == 1:\n",
    "        c = right[0]\n",
    "        return [a*c for a in left] # beware of noncommutative rings\n",
    "    \n",
    "    if n <= K_threshold or m <= K_threshold or K_threshold==1 or K_threshold==2:\n",
    "        return do_schoolbook(left, right)\n",
    "    if n == m:\n",
    "        return do_karatsuba(left, right, K_threshold)\n",
    "\n",
    "    # probablemnte sea mas eficiente ir sumando unos hasta qeu sea multiplo de 8\n",
    "    if n % 8 !=0:\n",
    "        n_prima = ((n+7)//8) * 8\n",
    "        left = left + [anillo(0)]*(n_prima-n)\n",
    "        n=n_prima\n",
    "    if n > m:\n",
    "        # left is the bigger list\n",
    "        # n is the bigger number\n",
    "        q = n // m\n",
    "        r = n % m\n",
    "        output = do_karatsuba(left[:m], right, K_threshold)\n",
    "        for i in range(1, q): #from 1 <= i < q:\n",
    "            mi = m*i\n",
    "            carry = do_karatsuba(left[mi:mi+m], right, K_threshold)\n",
    "            for j in range(m-1):\n",
    "                output[mi+j] = output[mi+j] + carry[j]\n",
    "            output.extend(carry[m-1:])\n",
    "        if r:\n",
    "            mi = m*q\n",
    "            carry = do_karatsuba_different_size(left[mi:], right, K_threshold)\n",
    "            for j in range (m-1):\n",
    "                output[mi+j] = output[mi+j] + carry[j]\n",
    "            output.extend(carry[m-1:])\n",
    "        return output\n",
    "    else:\n",
    "        # n < m, I need to repeat the code due to the case\n",
    "        # of noncommutative rings.\n",
    "        q = m // n\n",
    "        r = m % n\n",
    "        output = do_karatsuba(left, right[:n], K_threshold)\n",
    "        for i in range(1,q): #from 1 <= i < q:\n",
    "            mi = n*i\n",
    "            carry = do_karatsuba(left, right[mi:mi+n], K_threshold)\n",
    "            for j in range(n-1):\n",
    "                output[mi+j] = output[mi+j] + carry[j]\n",
    "            output.extend(carry[n-1:])\n",
    "        if r:\n",
    "            mi = n*q\n",
    "            carry = do_karatsuba_different_size(left, right[mi:], K_threshold)\n",
    "            for j in range(n-1):\n",
    "                output[mi+j] = output[mi+j] + carry[j]\n",
    "            output.extend(carry[n-1:])\n",
    "        return output\n",
    "\n",
    "NUM_SUMA = 0\n",
    "NUM_PRODUCTO = 0\n",
    "\n",
    "class anillo:\n",
    "    def __init__(self, valor):\n",
    "        self.valor = valor\n",
    "\n",
    "    def __repr__(self):\n",
    "        return repr(self.valor)\n",
    "\n",
    "    def __add__(self, otro):\n",
    "        global NUM_SUMA \n",
    "        NUM_SUMA = NUM_SUMA + 1\n",
    "        return anillo(self.valor + otro.valor)\n",
    "\n",
    "    def __sub__(self,otro):\n",
    "        global NUM_SUMA \n",
    "        NUM_SUMA = NUM_SUMA + 1\n",
    "        return anillo(self.valor - otro.valor)\n",
    "\n",
    "    def __mul__(self, otro):\n",
    "        global NUM_PRODUCTO\n",
    "        NUM_PRODUCTO = NUM_PRODUCTO + 1\n",
    "        return anillo(self.valor * otro.valor)\n"
   ]
  },
  {
   "cell_type": "markdown",
   "metadata": {},
   "source": [
    "# Ejercicio 1\n",
    "\n",
    "Compare los métodos `do_karatsuba` y `do_schoolbook` vistos en clase para polinomios del mismo tamaño `n`.\n",
    "\n",
    "- Construya sendas listas `L_K`, `L_S` tal que cada entrada sea un triplete `(i, n_p, n_o)` donde `i` sea el tamaño de los polinomios, `n_p` el número de productos que realiza cada algoritmo y `n_o` el número de operaciones totales (productos + sumas).\n",
    "\n",
    "- Realice una representación gráfica del número de operaciones totales dependiendo del tamaño.\n",
    "\n",
    "- Compruebe experimentalmente que `do_schoolbook` realiza $O(i^2)$ operaciones y `do_karatsuba` realiza $O(i^{\\log_2(3)})$ operaciones.\n",
    "\n",
    "- Experimente con el punto de corte (threshold) y comente sobre las gráficas resultantes para distintos puntos de corte.\n"
   ]
  },
  {
   "cell_type": "markdown",
   "metadata": {},
   "source": [
    "## Generación de listas"
   ]
  },
  {
   "cell_type": "code",
   "execution_count": 5,
   "metadata": {
    "vscode": {
     "languageId": "sage"
    }
   },
   "outputs": [],
   "source": [
    "def generador_listas(tamaño_max=100, card_cuerpo_finito=2, verbose=False):\n",
    "    F=GF(card_cuerpo_finito)\n",
    "    R=F['x']\n",
    "    L_K=[]\n",
    "    L_S=[]\n",
    "    global NUM_SUMA, NUM_PRODUCTO    \n",
    "    for i in range(tamaño_max+1):\n",
    "        f = [anillo(R(1)) for t in range(i)]\n",
    "        \n",
    "        NUM_SUMA = 0\n",
    "        NUM_PRODUCTO = 0\n",
    "        k_result=do_karatsuba(f, f, K_threshold=8)\n",
    "        L_K.append((i, NUM_PRODUCTO, NUM_SUMA+NUM_PRODUCTO))\n",
    "\n",
    "        NUM_SUMA = 0\n",
    "        NUM_PRODUCTO = 0\n",
    "        s_result=do_schoolbook(f, f)\n",
    "        L_S.append((i, NUM_PRODUCTO, NUM_SUMA+NUM_PRODUCTO))\n",
    "        \n",
    "        \n",
    "        if verbose and i%50==0:\n",
    "            print(i)        \n",
    "    \n",
    "    return L_K, L_S"
   ]
  },
  {
   "cell_type": "code",
   "execution_count": null,
   "metadata": {
    "vscode": {
     "languageId": "sage"
    }
   },
   "outputs": [],
   "source": [
    "l_k, l_s = generador_listas(tamaño_max=1024*2, \n",
    "                            card_cuerpo_finito=2,\n",
    "                            verbose=True)\n",
    "print(l_k)\n",
    "print(l_s)"
   ]
  },
  {
   "cell_type": "code",
   "execution_count": null,
   "metadata": {
    "vscode": {
     "languageId": "sage"
    }
   },
   "outputs": [],
   "source": [
    "import pickle\n",
    "\n",
    "\n",
    "def generador_listas2(funcion, tamaño_max=100, card_cuerpo_finito=2, K_threshold=8, export_pkl=False, verbose=False):\n",
    "    F=GF(card_cuerpo_finito)\n",
    "    R=F['x']\n",
    "    L=[]\n",
    "    g = [anillo(R(1))]*1024\n",
    "    global NUM_SUMA, NUM_PRODUCTO \n",
    "    for i in range(tamaño_max+1):\n",
    "        f = [anillo(R(1)) for t in range(i)]\n",
    "        if funcion == 'do_karatsuba_different_size':\n",
    "            NUM_SUMA = 0\n",
    "            NUM_PRODUCTO = 0\n",
    "            result=do_karatsuba_different_size(f, g, K_threshold=K_threshold)\n",
    "            L.append((i, NUM_PRODUCTO, NUM_SUMA+NUM_PRODUCTO))\n",
    "        elif funcion == 'do_schoolbook':\n",
    "            NUM_SUMA = 0\n",
    "            NUM_PRODUCTO = 0\n",
    "            result=do_schoolbook(f, g)\n",
    "            L.append((i, NUM_PRODUCTO, NUM_SUMA+NUM_PRODUCTO))\n",
    "        else:\n",
    "            raise ValueError('El valor de \"funcion\" debe ser \"do_karatsuba_different_size\" o \"do_schoolbook\"')\n",
    "            break\n",
    "        if verbose and i%50==0:\n",
    "            print(i) \n",
    "    \n",
    "    if export_pkl:\n",
    "        if funcion == 'do_karatsuba_different_size':\n",
    "            file_name = f'{funcion}_K({K_threshold})_{tamaño_max}.pkl'\n",
    "        else:\n",
    "            file_name = f'{funcion}_{tamaño_max}.pkl'\n",
    "        if verbose:\n",
    "            print(f'Exportando \"{file_name}\"...')\n",
    "        with open(file_name, 'wb') as file:\n",
    "            pickle.dump({'L': L}, file)\n",
    "    return L"
   ]
  },
  {
   "cell_type": "code",
   "execution_count": null,
   "metadata": {
    "vscode": {
     "languageId": "sage"
    }
   },
   "outputs": [],
   "source": [
    "l_kdiff= generador_listas2(funcion= 'do_karatsuba_different_size',\n",
    "                            tamaño_max=2048, \n",
    "                            card_cuerpo_finito=2,\n",
    "                            K_threshold=8,\n",
    "                            export_pkl=True,\n",
    "                            verbose=True)\n",
    "\n",
    "print(l_kdiff)\n",
    "\n",
    "l_sdiff= generador_listas2(funcion= 'do_schoolbook',\n",
    "                            tamaño_max=2048, \n",
    "                            card_cuerpo_finito=2,\n",
    "                            K_threshold=8,\n",
    "                            export_pkl=True,\n",
    "                            verbose=True)\n",
    "print(l_sdiff)"
   ]
  },
  {
   "cell_type": "markdown",
   "metadata": {},
   "source": [
    "### Guardado en archivos"
   ]
  },
  {
   "cell_type": "code",
   "execution_count": 7,
   "metadata": {
    "vscode": {
     "languageId": "sage"
    }
   },
   "outputs": [],
   "source": [
    "import pickle\n",
    "tam=len(l_k)-1\n",
    "file_name = 'lk_ls_'+str(tam)+'T8.pkl'\n",
    "with open(file_name, 'wb') as file:\n",
    "    pickle.dump({'l_k': l_k, 'l_s': l_s}, file)\n"
   ]
  },
  {
   "cell_type": "code",
   "execution_count": null,
   "metadata": {
    "vscode": {
     "languageId": "sage"
    }
   },
   "outputs": [],
   "source": [
    "open_file=file_name\n",
    "with open(open_file, 'rb') as file:\n",
    "    data = pickle.load(file)\n",
    "    l_kr = data['l_k']\n",
    "    l_sr = data['l_s']\n",
    "\n",
    "print(l_kr)\n",
    "print(l_sr)"
   ]
  },
  {
   "cell_type": "markdown",
   "metadata": {},
   "source": [
    "## Representación Gráfica"
   ]
  },
  {
   "cell_type": "code",
   "execution_count": null,
   "metadata": {
    "vscode": {
     "languageId": "sage"
    }
   },
   "outputs": [],
   "source": [
    "# Usando sage\n",
    "line([(foo[0], foo[2]) for foo in l_s], color='blue', legend_label='Schoolbook') + line([(foo[0], foo[2]) for foo in l_k], color='red', legend_label='Karatsuba')"
   ]
  },
  {
   "cell_type": "markdown",
   "metadata": {},
   "source": [
    "## Comprobación experimental Ordenes"
   ]
  },
  {
   "cell_type": "code",
   "execution_count": null,
   "metadata": {
    "vscode": {
     "languageId": "sage"
    }
   },
   "outputs": [],
   "source": [
    "import matplotlib.pyplot as plt\n",
    "\n",
    "def O_schoolbook_ops(n):\n",
    "    return n**2  # O(n^2)\n",
    "\n",
    "def O_karatsuba_ops(n):\n",
    "    return n**(log(3)/log(2))  # O(n^log2(3))\n",
    "\n",
    "sizes = range(len(l_k))\n",
    "O_n2 = [2.1*O_schoolbook_ops(n) for n in sizes]\n",
    "O_nlog23 = [12*O_karatsuba_ops(n) for n in sizes]\n",
    "\n",
    "plt.figure(figsize=(10, 6))\n",
    "plt.plot(sizes, O_n2, label=\"O(n^2)\", linewidth=2)\n",
    "plt.plot(sizes, [n[2] for n in l_s], label=\"Schoolbook\", linewidth=2)\n",
    "plt.plot(sizes, O_nlog23, label=\"O(n^log2(3))\", linewidth=2)\n",
    "plt.plot(sizes, [n[2] for n in l_k], label=\"Karatsuba\", linewidth=2)\n",
    "plt.xlabel(\"Tamaño del polinomio (n)\")\n",
    "plt.ylabel(\"Número de operaciones\")\n",
    "plt.title(\"Comparación de complejidad: Schoolbook vs Karatsuba\")\n",
    "plt.legend()\n",
    "plt.grid()\n",
    "plt.show()\n"
   ]
  },
  {
   "cell_type": "markdown",
   "metadata": {},
   "source": [
    "## Experimentación Threshold"
   ]
  },
  {
   "cell_type": "code",
   "execution_count": null,
   "metadata": {
    "vscode": {
     "languageId": "sage"
    }
   },
   "outputs": [],
   "source": []
  },
  {
   "cell_type": "markdown",
   "metadata": {},
   "source": [
    "## Ejercicio 2\n",
    "\n",
    "- Realice las mismas tareas que en el ejercicio anterior comparando `do_schoolbook` y la propuesta vista en clase de `do_karatsuba_different_size` para un polinomio $f$ de tamaño 1024 y un polinomio $g$ de tamaño variable $i$. Para esto considere un punto de corte de 8.\n",
    "\n",
    "- Calcule para qué tamaños $i$ de $g$ nos encontramos con máximos locales que verifiquen:\n",
    "\n",
    "$$\n",
    "\\text{NUM\\_TOTAL}(1024, i) = \\max\\{\\text{NUM\\_TOTAL}(1024, k) : 1 \\leq k \\leq i\\}\n",
    "$$\n",
    "\n",
    "$$\n",
    "\\exists j > i, \\text{NUM\\_TOTAL}(1024, j) < \\text{NUM\\_TOTAL}(1024, i)\n",
    "$$\n",
    "\n",
    "- Trate de modificar el código de `do_karatsuba_different_size` para que el tamaño de $g$ sea siempre un múltiplo de 8 añadiendo, si es preciso, ceros a la lista que representa $g$. ¿Cómo queda la gráfica con esta modificación? ¿Se ha mejorado? ¿A qué cree que se debe?\n"
   ]
  },
  {
   "cell_type": "markdown",
   "metadata": {},
   "source": [
    "## Replicación ejercicio 1"
   ]
  },
  {
   "cell_type": "code",
   "execution_count": 2,
   "metadata": {
    "vscode": {
     "languageId": "sage"
    }
   },
   "outputs": [],
   "source": [
    "def generador_listas(tamaño_max=100, card_cuerpo_finito=2, K_threshold=8, verbose=False):\n",
    "    F=GF(card_cuerpo_finito)\n",
    "    R=F['x']\n",
    "    L_K=[]\n",
    "    L_S=[]\n",
    "    g = [anillo(R(1))]*1024\n",
    "    global NUM_SUMA, NUM_PRODUCTO    \n",
    "    for i in range(tamaño_max+1):\n",
    "        f = [anillo(R(1)) for t in range(i)]\n",
    "        NUM_SUMA = 0\n",
    "        NUM_PRODUCTO = 0\n",
    "        k_result=do_karatsuba_different_size(f, g, K_threshold=K_threshold)\n",
    "        L_K.append((i, NUM_PRODUCTO, NUM_SUMA+NUM_PRODUCTO))\n",
    "\n",
    "        NUM_SUMA = 0\n",
    "        NUM_PRODUCTO = 0\n",
    "        s_result=do_schoolbook(f, g)\n",
    "        L_S.append((i, NUM_PRODUCTO, NUM_SUMA+NUM_PRODUCTO))\n",
    "        \n",
    "        \n",
    "        if verbose and i%50==0:\n",
    "            print(i)        \n",
    "    \n",
    "    return L_K, L_S\n",
    "\n"
   ]
  },
  {
   "cell_type": "code",
   "execution_count": null,
   "metadata": {
    "vscode": {
     "languageId": "sage"
    }
   },
   "outputs": [],
   "source": [
    "l_k, l_s = generador_listas(tamaño_max=2048, \n",
    "                            card_cuerpo_finito=2,\n",
    "                            K_threshold=8,\n",
    "                            verbose=True)\n",
    "\n",
    "print(l_k)\n",
    "print(l_s)"
   ]
  },
  {
   "cell_type": "markdown",
   "metadata": {},
   "source": [
    "## Calcular tamaños de i que cumplan la condición"
   ]
  },
  {
   "cell_type": "code",
   "execution_count": null,
   "metadata": {
    "vscode": {
     "languageId": "sage"
    }
   },
   "outputs": [],
   "source": []
  },
  {
   "cell_type": "markdown",
   "metadata": {},
   "source": [
    "## Modificación do_karatsuba_different_size tamaño g multiplo de 8"
   ]
  },
  {
   "cell_type": "code",
   "execution_count": 71,
   "metadata": {
    "vscode": {
     "languageId": "sage"
    }
   },
   "outputs": [],
   "source": [
    "def multiplo_mayor(g):\n",
    "    return ((g+7)// 8) * 8\n"
   ]
  },
  {
   "cell_type": "code",
   "execution_count": null,
   "metadata": {
    "vscode": {
     "languageId": "sage"
    }
   },
   "outputs": [],
   "source": [
    "multiplo_mayor(32)"
   ]
  },
  {
   "cell_type": "markdown",
   "metadata": {},
   "source": [
    "# EXEC"
   ]
  },
  {
   "cell_type": "code",
   "execution_count": 9,
   "metadata": {
    "vscode": {
     "languageId": "sage"
    }
   },
   "outputs": [],
   "source": [
    "def do_karatsuba_different_size_mult_8(left: list, right: list, K_threshold: int=8) -> list:\n",
    "    \"\"\"\n",
    "        Multiplicación de dos polinomios de diferente grado, usando una\n",
    "        estrategia de división del polinómio mayor en partes de tamaño\n",
    "        del polinomio menor. Así, poder aplicar do_karatsuba a las partes.\n",
    "\n",
    "        INPUT:\n",
    "\n",
    "        - ``left``  -- representación de polinomio como lista\n",
    "        - ``right`` -- representación de polinomio como lista\n",
    "        - ``K_threshold`` -- Entero, se usa como criterio para usar la \n",
    "        multiplicación de la escuela si el el grado de alguno de los \n",
    "        polinómios es menor que él.\n",
    "\n",
    "        TESTS:\n",
    "\n",
    "        sage: do_karatsuba_different_size([anillo(1), anillo(2)], [anillo(3), anillo(4)])  # Grados iguales\n",
    "        [3, 10, 8]\n",
    "\n",
    "        sage: do_karatsuba_different_size([anillo(1), anillo(2), anillo(3)], [anillo(4), anillo(5)])  # n > m\n",
    "        [4, 13, 22, 15]\n",
    "\n",
    "        sage: do_karatsuba_different_size([anillo(3), anillo(4)], [anillo(1), anillo(2), anillo(3)])  # n < m\n",
    "        [3, 10, 17, 12]\n",
    "\n",
    "        sage: do_karatsuba_different_size([], [anillo(1), anillo(2), anillo(3)])  # Caso vacío\n",
    "        []\n",
    "\n",
    "        sage: do_karatsuba_different_size([anillo(1)], [anillo(1), anillo(2), anillo(3)])  # Caso n = 1\n",
    "        [1, 2, 3]\n",
    "\n",
    "        sage: do_karatsuba_different_size([anillo(1), anillo(2), anillo(3)], [anillo(1)])  # Caso m = 1\n",
    "        [1, 2, 3]\n",
    "\n",
    "        sage: do_karatsuba_different_size([anillo(1), anillo(2), anillo(3)], [anillo(4), anillo(5)], K_threshold=1)  # Caso K_threshold bajo\n",
    "        [4, 13, 22, 15]\n",
    "\n",
    "    \"\"\"\n",
    "    n: int= len(left); m: int= len(right)\n",
    "    if n == 0 or m == 0:\n",
    "        return []\n",
    "    if n == 1:\n",
    "        c = left[0]\n",
    "        return [c*a for a in right]\n",
    "    if m == 1:\n",
    "        c = right[0]\n",
    "        return [a*c for a in left] # beware of noncommutative rings\n",
    "    \n",
    "    if n <= K_threshold or m <= K_threshold or K_threshold==1 or K_threshold==2:\n",
    "        return do_schoolbook(left, right)\n",
    "    if n == m:\n",
    "        return do_karatsuba(left, right, K_threshold)\n",
    "\n",
    "    # Probablemnte sea mas eficiente ir sumando unos hasta qeu sea multiplo de 8\n",
    "    if n % 8 !=0:\n",
    "        n_prima = ((n+7)//8) * 8\n",
    "        left = left + [anillo(0)]*(n_prima-n)\n",
    "        n=n_prima\n",
    "    if n > m:\n",
    "        # left is the bigger list\n",
    "        # n is the bigger number\n",
    "        q = n // m\n",
    "        r = n % m\n",
    "        output = do_karatsuba(left[:m], right, K_threshold)\n",
    "        for i in range(1, q): #from 1 <= i < q:\n",
    "            mi = m*i\n",
    "            carry = do_karatsuba(left[mi:mi+m], right, K_threshold)\n",
    "            for j in range(m-1):\n",
    "                output[mi+j] = output[mi+j] + carry[j]\n",
    "            output.extend(carry[m-1:])\n",
    "        if r:\n",
    "            mi = m*q\n",
    "            carry = do_karatsuba_different_size(left[mi:], right, K_threshold)\n",
    "            for j in range (m-1):\n",
    "                output[mi+j] = output[mi+j] + carry[j]\n",
    "            output.extend(carry[m-1:])\n",
    "        return output\n",
    "    else:\n",
    "        # n < m, I need to repeat the code due to the case\n",
    "        # of noncommutative rings.\n",
    "        q = m // n\n",
    "        r = m % n\n",
    "        output = do_karatsuba(left, right[:n], K_threshold)\n",
    "        for i in range(1,q): #from 1 <= i < q:\n",
    "            mi = n*i\n",
    "            carry = do_karatsuba(left, right[mi:mi+n], K_threshold)\n",
    "            for j in range(n-1):\n",
    "                output[mi+j] = output[mi+j] + carry[j]\n",
    "            output.extend(carry[n-1:])\n",
    "        if r:\n",
    "            mi = n*q\n",
    "            carry = do_karatsuba_different_size(left, right[mi:], K_threshold)\n",
    "            for j in range(n-1):\n",
    "                output[mi+j] = output[mi+j] + carry[j]\n",
    "            output.extend(carry[n-1:])\n",
    "        return output"
   ]
  },
  {
   "cell_type": "code",
   "execution_count": 10,
   "metadata": {
    "vscode": {
     "languageId": "sage"
    }
   },
   "outputs": [],
   "source": [
    "import pickle\n",
    "\n",
    "\n",
    "def generador_listas(funcion, diff_size, tamaño_max=100, card_cuerpo_finito=2, K_threshold=8, export_pkl=False, verbose=False):\n",
    "    F=GF(card_cuerpo_finito)\n",
    "    R=F['x']\n",
    "    L=[]\n",
    "    if diff_size:\n",
    "        g = [anillo(R(1))]*1024\n",
    "\n",
    "    global NUM_SUMA, NUM_PRODUCTO \n",
    "    for i in range(tamaño_max+1):\n",
    "        f = [anillo(R(1)) for t in range(i)]\n",
    "        if not diff_size:\n",
    "            g=f\n",
    "\n",
    "        if funcion == 'do_karatsuba' and diff_size:\n",
    "            NUM_SUMA = 0\n",
    "            NUM_PRODUCTO = 0\n",
    "            result=do_karatsuba_different_size(f, g, K_threshold=K_threshold)\n",
    "            L.append((i, NUM_PRODUCTO, NUM_SUMA+NUM_PRODUCTO))\n",
    "        \n",
    "        elif funcion == 'do_karatsuba_mult8' and diff_size:\n",
    "            NUM_SUMA = 0\n",
    "            NUM_PRODUCTO = 0\n",
    "            result=do_karatsuba_different_size_mult_8(f, g, K_threshold=K_threshold)\n",
    "            L.append((i, NUM_PRODUCTO, NUM_SUMA+NUM_PRODUCTO))\n",
    "        elif funcion == 'do_karatsuba':\n",
    "            NUM_SUMA = 0\n",
    "            NUM_PRODUCTO = 0\n",
    "            result=do_karatsuba(f, g, K_threshold=K_threshold)\n",
    "            L.append((i, NUM_PRODUCTO, NUM_SUMA+NUM_PRODUCTO))\n",
    "\n",
    "        elif funcion == 'do_schoolbook':\n",
    "            NUM_SUMA = 0\n",
    "            NUM_PRODUCTO = 0\n",
    "            result=do_schoolbook(f, g)\n",
    "            L.append((i, NUM_PRODUCTO, NUM_SUMA+NUM_PRODUCTO))\n",
    "        else:\n",
    "            raise ValueError('El valor de \"funcion\" debe ser \"do_karatsuba\", \"do_schoolbook\", \"do_karatsuba_mult8\" y ojo con el \"diff_size\"')\n",
    "            break\n",
    "        if verbose and i%50==0:\n",
    "            print(i) \n",
    "    \n",
    "    if export_pkl:\n",
    "        if funcion == 'do_karatsuba_different_size':\n",
    "            file_name = f'{funcion}_K({K_threshold})_{tamaño_max}.pkl'\n",
    "        else:\n",
    "            file_name = f'{funcion}_different_size_{tamaño_max}.pkl'\n",
    "        if verbose:\n",
    "            print(f'Exportando \"{file_name}\"...')\n",
    "        with open(file_name, 'wb') as file:\n",
    "            pickle.dump({'L': L}, file)\n",
    "    return L"
   ]
  },
  {
   "cell_type": "code",
   "execution_count": 12,
   "metadata": {
    "vscode": {
     "languageId": "sage"
    }
   },
   "outputs": [
    {
     "name": "stdout",
     "output_type": "stream",
     "text": [
      "0\n",
      "50\n",
      "100\n",
      "150\n",
      "200\n",
      "250\n",
      "300\n",
      "350\n",
      "400\n",
      "450\n",
      "500\n",
      "550\n",
      "600\n",
      "650\n",
      "700\n",
      "750\n",
      "800\n",
      "850\n",
      "900\n",
      "950\n",
      "1000\n",
      "1050\n",
      "1100\n"
     ]
    },
    {
     "ename": "KeyboardInterrupt",
     "evalue": "",
     "output_type": "error",
     "traceback": [
      "\u001b[0;31m---------------------------------------------------------------------------\u001b[0m",
      "\u001b[0;31mKeyboardInterrupt\u001b[0m                         Traceback (most recent call last)",
      "\u001b[0;32m/tmp/ipykernel_75866/3913901611.py\u001b[0m in \u001b[0;36m<module>\u001b[0;34m\u001b[0m\n\u001b[0;32m----> 1\u001b[0;31m L_K_MULT= generador_listas(funcion= 'do_karatsuba_mult8',\n\u001b[0m\u001b[1;32m      2\u001b[0m                             \u001b[0mdiff_size\u001b[0m\u001b[0;34m=\u001b[0m\u001b[0;32mTrue\u001b[0m\u001b[0;34m,\u001b[0m\u001b[0;34m\u001b[0m\u001b[0;34m\u001b[0m\u001b[0m\n\u001b[1;32m      3\u001b[0m                             \u001b[0mtamaño_max\u001b[0m\u001b[0;34m=\u001b[0m\u001b[0mInteger\u001b[0m\u001b[0;34m(\u001b[0m\u001b[0;36m2048\u001b[0m\u001b[0;34m)\u001b[0m\u001b[0;34m,\u001b[0m\u001b[0;34m\u001b[0m\u001b[0;34m\u001b[0m\u001b[0m\n\u001b[1;32m      4\u001b[0m                             \u001b[0mcard_cuerpo_finito\u001b[0m\u001b[0;34m=\u001b[0m\u001b[0mInteger\u001b[0m\u001b[0;34m(\u001b[0m\u001b[0;36m2\u001b[0m\u001b[0;34m)\u001b[0m\u001b[0;34m,\u001b[0m\u001b[0;34m\u001b[0m\u001b[0;34m\u001b[0m\u001b[0m\n\u001b[1;32m      5\u001b[0m                             \u001b[0mK_threshold\u001b[0m\u001b[0;34m=\u001b[0m\u001b[0mInteger\u001b[0m\u001b[0;34m(\u001b[0m\u001b[0;36m8\u001b[0m\u001b[0;34m)\u001b[0m\u001b[0;34m,\u001b[0m\u001b[0;34m\u001b[0m\u001b[0;34m\u001b[0m\u001b[0m\n",
      "\u001b[0;32m/tmp/ipykernel_75866/22931248.py\u001b[0m in \u001b[0;36mgenerador_listas\u001b[0;34m(funcion, diff_size, tamaño_max, card_cuerpo_finito, K_threshold, export_pkl, verbose)\u001b[0m\n\u001b[1;32m     24\u001b[0m             \u001b[0mNUM_SUMA\u001b[0m \u001b[0;34m=\u001b[0m \u001b[0mInteger\u001b[0m\u001b[0;34m(\u001b[0m\u001b[0;36m0\u001b[0m\u001b[0;34m)\u001b[0m\u001b[0;34m\u001b[0m\u001b[0;34m\u001b[0m\u001b[0m\n\u001b[1;32m     25\u001b[0m             \u001b[0mNUM_PRODUCTO\u001b[0m \u001b[0;34m=\u001b[0m \u001b[0mInteger\u001b[0m\u001b[0;34m(\u001b[0m\u001b[0;36m0\u001b[0m\u001b[0;34m)\u001b[0m\u001b[0;34m\u001b[0m\u001b[0;34m\u001b[0m\u001b[0m\n\u001b[0;32m---> 26\u001b[0;31m             \u001b[0mresult\u001b[0m\u001b[0;34m=\u001b[0m\u001b[0mdo_karatsuba_different_size_mult_8\u001b[0m\u001b[0;34m(\u001b[0m\u001b[0mf\u001b[0m\u001b[0;34m,\u001b[0m \u001b[0mg\u001b[0m\u001b[0;34m,\u001b[0m \u001b[0mK_threshold\u001b[0m\u001b[0;34m=\u001b[0m\u001b[0mK_threshold\u001b[0m\u001b[0;34m)\u001b[0m\u001b[0;34m\u001b[0m\u001b[0;34m\u001b[0m\u001b[0m\n\u001b[0m\u001b[1;32m     27\u001b[0m             \u001b[0mL\u001b[0m\u001b[0;34m.\u001b[0m\u001b[0mappend\u001b[0m\u001b[0;34m(\u001b[0m\u001b[0;34m(\u001b[0m\u001b[0mi\u001b[0m\u001b[0;34m,\u001b[0m \u001b[0mNUM_PRODUCTO\u001b[0m\u001b[0;34m,\u001b[0m \u001b[0mNUM_SUMA\u001b[0m\u001b[0;34m+\u001b[0m\u001b[0mNUM_PRODUCTO\u001b[0m\u001b[0;34m)\u001b[0m\u001b[0;34m)\u001b[0m\u001b[0;34m\u001b[0m\u001b[0;34m\u001b[0m\u001b[0m\n\u001b[1;32m     28\u001b[0m         \u001b[0;32melif\u001b[0m \u001b[0mfuncion\u001b[0m \u001b[0;34m==\u001b[0m \u001b[0;34m'do_karatsuba'\u001b[0m\u001b[0;34m:\u001b[0m\u001b[0;34m\u001b[0m\u001b[0;34m\u001b[0m\u001b[0m\n",
      "\u001b[0;32m/tmp/ipykernel_75866/3770529780.py\u001b[0m in \u001b[0;36mdo_karatsuba_different_size_mult_8\u001b[0;34m(left, right, K_threshold)\u001b[0m\n\u001b[1;32m     62\u001b[0m         \u001b[0mq\u001b[0m \u001b[0;34m=\u001b[0m \u001b[0mn\u001b[0m \u001b[0;34m//\u001b[0m \u001b[0mm\u001b[0m\u001b[0;34m\u001b[0m\u001b[0;34m\u001b[0m\u001b[0m\n\u001b[1;32m     63\u001b[0m         \u001b[0mr\u001b[0m \u001b[0;34m=\u001b[0m \u001b[0mn\u001b[0m \u001b[0;34m%\u001b[0m \u001b[0mm\u001b[0m\u001b[0;34m\u001b[0m\u001b[0;34m\u001b[0m\u001b[0m\n\u001b[0;32m---> 64\u001b[0;31m         \u001b[0moutput\u001b[0m \u001b[0;34m=\u001b[0m \u001b[0mdo_karatsuba\u001b[0m\u001b[0;34m(\u001b[0m\u001b[0mleft\u001b[0m\u001b[0;34m[\u001b[0m\u001b[0;34m:\u001b[0m\u001b[0mm\u001b[0m\u001b[0;34m]\u001b[0m\u001b[0;34m,\u001b[0m \u001b[0mright\u001b[0m\u001b[0;34m,\u001b[0m \u001b[0mK_threshold\u001b[0m\u001b[0;34m)\u001b[0m\u001b[0;34m\u001b[0m\u001b[0;34m\u001b[0m\u001b[0m\n\u001b[0m\u001b[1;32m     65\u001b[0m         \u001b[0;32mfor\u001b[0m \u001b[0mi\u001b[0m \u001b[0;32min\u001b[0m \u001b[0mrange\u001b[0m\u001b[0;34m(\u001b[0m\u001b[0mInteger\u001b[0m\u001b[0;34m(\u001b[0m\u001b[0;36m1\u001b[0m\u001b[0;34m)\u001b[0m\u001b[0;34m,\u001b[0m \u001b[0mq\u001b[0m\u001b[0;34m)\u001b[0m\u001b[0;34m:\u001b[0m \u001b[0;31m#from 1 <= i < q:\u001b[0m\u001b[0;34m\u001b[0m\u001b[0;34m\u001b[0m\u001b[0m\n\u001b[1;32m     66\u001b[0m             \u001b[0mmi\u001b[0m \u001b[0;34m=\u001b[0m \u001b[0mm\u001b[0m\u001b[0;34m*\u001b[0m\u001b[0mi\u001b[0m\u001b[0;34m\u001b[0m\u001b[0;34m\u001b[0m\u001b[0m\n",
      "\u001b[0;32m/tmp/ipykernel_75866/1432641626.py\u001b[0m in \u001b[0;36mdo_karatsuba\u001b[0;34m(f, g, K_threshold)\u001b[0m\n\u001b[1;32m     19\u001b[0m   \u001b[0mg1\u001b[0m \u001b[0;34m=\u001b[0m \u001b[0mg\u001b[0m\u001b[0;34m[\u001b[0m\u001b[0mn0\u001b[0m\u001b[0;34m:\u001b[0m\u001b[0;34m]\u001b[0m  \u001b[0;31m# tamaño n1\u001b[0m\u001b[0;34m\u001b[0m\u001b[0;34m\u001b[0m\u001b[0m\n\u001b[1;32m     20\u001b[0m   \u001b[0mu\u001b[0m \u001b[0;34m=\u001b[0m \u001b[0mdo_karatsuba\u001b[0m\u001b[0;34m(\u001b[0m\u001b[0mf0\u001b[0m\u001b[0;34m,\u001b[0m\u001b[0mg0\u001b[0m\u001b[0;34m,\u001b[0m \u001b[0mK_threshold\u001b[0m\u001b[0;34m)\u001b[0m \u001b[0;31m# tamaño 2*n0-1\u001b[0m\u001b[0;34m\u001b[0m\u001b[0;34m\u001b[0m\u001b[0m\n\u001b[0;32m---> 21\u001b[0;31m   \u001b[0mv\u001b[0m \u001b[0;34m=\u001b[0m \u001b[0mdo_karatsuba\u001b[0m\u001b[0;34m(\u001b[0m\u001b[0mf1\u001b[0m\u001b[0;34m,\u001b[0m\u001b[0mg1\u001b[0m\u001b[0;34m,\u001b[0m \u001b[0mK_threshold\u001b[0m\u001b[0;34m)\u001b[0m \u001b[0;31m# tamaño 2*n1-1\u001b[0m\u001b[0;34m\u001b[0m\u001b[0;34m\u001b[0m\u001b[0m\n\u001b[0m\u001b[1;32m     22\u001b[0m   \u001b[0;31m# Usamos f1, g1 como f0+f1,g0+g1 para evitar crear más listas\u001b[0m\u001b[0;34m\u001b[0m\u001b[0;34m\u001b[0m\u001b[0m\n\u001b[1;32m     23\u001b[0m   \u001b[0;31m# Fijaos que n1 >= n0\u001b[0m\u001b[0;34m\u001b[0m\u001b[0;34m\u001b[0m\u001b[0m\n",
      "\u001b[0;32m/tmp/ipykernel_75866/1432641626.py\u001b[0m in \u001b[0;36mdo_karatsuba\u001b[0;34m(f, g, K_threshold)\u001b[0m\n\u001b[1;32m     18\u001b[0m   \u001b[0mg0\u001b[0m \u001b[0;34m=\u001b[0m \u001b[0mg\u001b[0m\u001b[0;34m[\u001b[0m\u001b[0;34m:\u001b[0m\u001b[0mn0\u001b[0m\u001b[0;34m]\u001b[0m \u001b[0;31m# tamaño n0\u001b[0m\u001b[0;34m\u001b[0m\u001b[0;34m\u001b[0m\u001b[0m\n\u001b[1;32m     19\u001b[0m   \u001b[0mg1\u001b[0m \u001b[0;34m=\u001b[0m \u001b[0mg\u001b[0m\u001b[0;34m[\u001b[0m\u001b[0mn0\u001b[0m\u001b[0;34m:\u001b[0m\u001b[0;34m]\u001b[0m  \u001b[0;31m# tamaño n1\u001b[0m\u001b[0;34m\u001b[0m\u001b[0;34m\u001b[0m\u001b[0m\n\u001b[0;32m---> 20\u001b[0;31m   \u001b[0mu\u001b[0m \u001b[0;34m=\u001b[0m \u001b[0mdo_karatsuba\u001b[0m\u001b[0;34m(\u001b[0m\u001b[0mf0\u001b[0m\u001b[0;34m,\u001b[0m\u001b[0mg0\u001b[0m\u001b[0;34m,\u001b[0m \u001b[0mK_threshold\u001b[0m\u001b[0;34m)\u001b[0m \u001b[0;31m# tamaño 2*n0-1\u001b[0m\u001b[0;34m\u001b[0m\u001b[0;34m\u001b[0m\u001b[0m\n\u001b[0m\u001b[1;32m     21\u001b[0m   \u001b[0mv\u001b[0m \u001b[0;34m=\u001b[0m \u001b[0mdo_karatsuba\u001b[0m\u001b[0;34m(\u001b[0m\u001b[0mf1\u001b[0m\u001b[0;34m,\u001b[0m\u001b[0mg1\u001b[0m\u001b[0;34m,\u001b[0m \u001b[0mK_threshold\u001b[0m\u001b[0;34m)\u001b[0m \u001b[0;31m# tamaño 2*n1-1\u001b[0m\u001b[0;34m\u001b[0m\u001b[0;34m\u001b[0m\u001b[0m\n\u001b[1;32m     22\u001b[0m   \u001b[0;31m# Usamos f1, g1 como f0+f1,g0+g1 para evitar crear más listas\u001b[0m\u001b[0;34m\u001b[0m\u001b[0;34m\u001b[0m\u001b[0m\n",
      "\u001b[0;32m/tmp/ipykernel_75866/1432641626.py\u001b[0m in \u001b[0;36mdo_karatsuba\u001b[0;34m(f, g, K_threshold)\u001b[0m\n\u001b[1;32m     18\u001b[0m   \u001b[0mg0\u001b[0m \u001b[0;34m=\u001b[0m \u001b[0mg\u001b[0m\u001b[0;34m[\u001b[0m\u001b[0;34m:\u001b[0m\u001b[0mn0\u001b[0m\u001b[0;34m]\u001b[0m \u001b[0;31m# tamaño n0\u001b[0m\u001b[0;34m\u001b[0m\u001b[0;34m\u001b[0m\u001b[0m\n\u001b[1;32m     19\u001b[0m   \u001b[0mg1\u001b[0m \u001b[0;34m=\u001b[0m \u001b[0mg\u001b[0m\u001b[0;34m[\u001b[0m\u001b[0mn0\u001b[0m\u001b[0;34m:\u001b[0m\u001b[0;34m]\u001b[0m  \u001b[0;31m# tamaño n1\u001b[0m\u001b[0;34m\u001b[0m\u001b[0;34m\u001b[0m\u001b[0m\n\u001b[0;32m---> 20\u001b[0;31m   \u001b[0mu\u001b[0m \u001b[0;34m=\u001b[0m \u001b[0mdo_karatsuba\u001b[0m\u001b[0;34m(\u001b[0m\u001b[0mf0\u001b[0m\u001b[0;34m,\u001b[0m\u001b[0mg0\u001b[0m\u001b[0;34m,\u001b[0m \u001b[0mK_threshold\u001b[0m\u001b[0;34m)\u001b[0m \u001b[0;31m# tamaño 2*n0-1\u001b[0m\u001b[0;34m\u001b[0m\u001b[0;34m\u001b[0m\u001b[0m\n\u001b[0m\u001b[1;32m     21\u001b[0m   \u001b[0mv\u001b[0m \u001b[0;34m=\u001b[0m \u001b[0mdo_karatsuba\u001b[0m\u001b[0;34m(\u001b[0m\u001b[0mf1\u001b[0m\u001b[0;34m,\u001b[0m\u001b[0mg1\u001b[0m\u001b[0;34m,\u001b[0m \u001b[0mK_threshold\u001b[0m\u001b[0;34m)\u001b[0m \u001b[0;31m# tamaño 2*n1-1\u001b[0m\u001b[0;34m\u001b[0m\u001b[0;34m\u001b[0m\u001b[0m\n\u001b[1;32m     22\u001b[0m   \u001b[0;31m# Usamos f1, g1 como f0+f1,g0+g1 para evitar crear más listas\u001b[0m\u001b[0;34m\u001b[0m\u001b[0;34m\u001b[0m\u001b[0m\n",
      "\u001b[0;32m/tmp/ipykernel_75866/1432641626.py\u001b[0m in \u001b[0;36mdo_karatsuba\u001b[0;34m(f, g, K_threshold)\u001b[0m\n\u001b[1;32m     46\u001b[0m   \u001b[0mC\u001b[0m \u001b[0;34m=\u001b[0m \u001b[0mu\u001b[0m \u001b[0;34m+\u001b[0m\u001b[0;34m[\u001b[0m\u001b[0manillo\u001b[0m\u001b[0;34m(\u001b[0m\u001b[0mInteger\u001b[0m\u001b[0;34m(\u001b[0m\u001b[0;36m0\u001b[0m\u001b[0;34m)\u001b[0m\u001b[0;34m)\u001b[0m\u001b[0;34m]\u001b[0m \u001b[0;34m+\u001b[0m\u001b[0mv\u001b[0m\u001b[0;34m\u001b[0m\u001b[0;34m\u001b[0m\u001b[0m\n\u001b[1;32m     47\u001b[0m   \u001b[0;32mfor\u001b[0m \u001b[0mi\u001b[0m \u001b[0;32min\u001b[0m \u001b[0mrange\u001b[0m\u001b[0;34m(\u001b[0m\u001b[0mInteger\u001b[0m\u001b[0;34m(\u001b[0m\u001b[0;36m2\u001b[0m\u001b[0;34m)\u001b[0m\u001b[0;34m*\u001b[0m\u001b[0mn1\u001b[0m\u001b[0;34m-\u001b[0m\u001b[0mInteger\u001b[0m\u001b[0;34m(\u001b[0m\u001b[0;36m1\u001b[0m\u001b[0;34m)\u001b[0m\u001b[0;34m)\u001b[0m\u001b[0;34m:\u001b[0m\u001b[0;34m\u001b[0m\u001b[0;34m\u001b[0m\u001b[0m\n\u001b[0;32m---> 48\u001b[0;31m     \u001b[0mC\u001b[0m\u001b[0;34m[\u001b[0m\u001b[0mn0\u001b[0m\u001b[0;34m+\u001b[0m\u001b[0mi\u001b[0m\u001b[0;34m]\u001b[0m \u001b[0;34m=\u001b[0m \u001b[0mC\u001b[0m\u001b[0;34m[\u001b[0m\u001b[0mn0\u001b[0m\u001b[0;34m+\u001b[0m\u001b[0mi\u001b[0m\u001b[0;34m]\u001b[0m \u001b[0;34m+\u001b[0m \u001b[0mw\u001b[0m\u001b[0;34m[\u001b[0m\u001b[0mi\u001b[0m\u001b[0;34m]\u001b[0m\u001b[0;34m\u001b[0m\u001b[0;34m\u001b[0m\u001b[0m\n\u001b[0m\u001b[1;32m     49\u001b[0m   \u001b[0;32mreturn\u001b[0m \u001b[0mC\u001b[0m\u001b[0;34m\u001b[0m\u001b[0;34m\u001b[0m\u001b[0m\n\u001b[1;32m     50\u001b[0m \u001b[0;34m\u001b[0m\u001b[0m\n",
      "\u001b[0;32msrc/cysignals/signals.pyx\u001b[0m in \u001b[0;36mcysignals.signals.python_check_interrupt\u001b[0;34m()\u001b[0m\n",
      "\u001b[0;31mKeyboardInterrupt\u001b[0m: "
     ]
    }
   ],
   "source": [
    "L_K_MULT= generador_listas(funcion= 'do_karatsuba_mult8',\n",
    "                            diff_size=True,\n",
    "                            tamaño_max=2048, \n",
    "                            card_cuerpo_finito=2,\n",
    "                            K_threshold=8,\n",
    "                            export_pkl=True,\n",
    "                            verbose=True)"
   ]
  }
 ],
 "metadata": {
  "kernelspec": {
   "display_name": "SageMath 9.5",
   "language": "sage",
   "name": "sagemath"
  },
  "language_info": {
   "codemirror_mode": {
    "name": "ipython",
    "version": 3
   },
   "file_extension": ".py",
   "mimetype": "text/x-python",
   "name": "python",
   "nbconvert_exporter": "python",
   "pygments_lexer": "ipython3",
   "version": "3.10.12"
  }
 },
 "nbformat": 4,
 "nbformat_minor": 2
}
