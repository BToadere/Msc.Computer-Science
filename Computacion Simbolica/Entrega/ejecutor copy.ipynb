{
 "cells": [
  {
   "cell_type": "markdown",
   "metadata": {},
   "source": [
    "# Funciones"
   ]
  },
  {
   "cell_type": "code",
   "execution_count": 3,
   "metadata": {
    "vscode": {
     "languageId": "sage"
    }
   },
   "outputs": [],
   "source": [
    "def do_schoolbook(f,g):\n",
    "  n = len(f)\n",
    "  m = len(g)\n",
    "  C = [anillo(0)] * (n+m-1)\n",
    "  for i in range(n):\n",
    "    for j in range(m):\n",
    "        C[i+j] = C[i+j] + f[i]*g[j]\n",
    "  return C\n",
    "\n",
    "def do_karatsuba(f,g, K_threshold=8):\n",
    "  n = len(f)\n",
    "  n0 = n //2\n",
    "  n1 = n - n0\n",
    "  if n < K_threshold:\n",
    "    return do_schoolbook(f,g)\n",
    "  f0 = f[:n0] # tamaño n0\n",
    "  f1 = f[n0:]  # tamaño n1\n",
    "  g0 = g[:n0] # tamaño n0\n",
    "  g1 = g[n0:]  # tamaño n1\n",
    "  u = do_karatsuba(f0,g0, K_threshold) # tamaño 2*n0-1\n",
    "  v = do_karatsuba(f1,g1, K_threshold) # tamaño 2*n1-1\n",
    "  # Usamos f1, g1 como f0+f1,g0+g1 para evitar crear más listas\n",
    "  # Fijaos que n1 >= n0\n",
    "  for i in range(n0):\n",
    "    f1[i] = f1[i]+f0[i]\n",
    "    g1[i] = g1[i]+g0[i]\n",
    "  w = do_karatsuba(f1,g1, K_threshold) # tamaño 2*n1-1\n",
    "  # resto u y v a w, el problema es que los tamaños pueden ser distintos\n",
    "  for i in range(2*n0-1):\n",
    "    w[i] = w[i] - u[i] - v[i]\n",
    "  for i in range(2*n0-1,2*n1-1):\n",
    "    w[i] = w[i] - v[i]\n",
    "  #C = [0] * (2*n-1)\n",
    "  #for i in range(2*n0-1):\n",
    "  #  C[i] = C[i] + u[i]\n",
    "  #  C[n0+i] = C[n0+i] + w[i]\n",
    "  #  C[2*n0+i] = C[2*n0+i] + v[i]\n",
    "  #for i in range(2*n0-1,2*n1-1):\n",
    "  #  C[n0+i] = C[n0+i] + w[i]\n",
    "  #  C[2*n0+i] = C[2*n0+i] + v[i]\n",
    "  #\n",
    "  # u contiene los monomios de 0 a 2*n0-2\n",
    "  # v contiene los monomios de 2*n0 a 2*n-1\n",
    "  # solo nos falta el monomio 2*n0-1\n",
    "  # podemos usarlo para evitar sumas en C\n",
    "  C = u +[anillo(0)] +v\n",
    "  for i in range(2*n1-1):\n",
    "    C[n0+i] = C[n0+i] + w[i]\n",
    "  return C\n",
    "\n",
    "def do_karatsuba_different_size(left: list, right: list, K_threshold: int=8) -> list:\n",
    "    \"\"\"\n",
    "    Multiplicación de dos polinomios de diferente grado, usando una\n",
    "    estrategia de división del polinómio mayor en partes de tamaño\n",
    "    del polinomio menor. Así, poder aplicar do_karatsuba a las partes.\n",
    "\n",
    "    INPUT:\n",
    "\n",
    "    - ``left``  -- representación de polinomio como lista\n",
    "    - ``right`` -- representación de polinomio como lista\n",
    "    - ``K_threshold`` -- Entero, se usa como criterio para usar la \n",
    "    multiplicación de la escuela si el el grado de alguno de los \n",
    "    polinómios es menor que él.\n",
    "\n",
    "    TESTS:\n",
    "\n",
    "    sage: do_karatsuba_different_size([anillo(1), anillo(2)], [anillo(3), anillo(4)])  # Grados iguales\n",
    "    [3, 10, 8]\n",
    "\n",
    "    sage: do_karatsuba_different_size([anillo(1), anillo(2), anillo(3)], [anillo(4), anillo(5)])  # n > m\n",
    "    [4, 13, 22, 15]\n",
    "\n",
    "    sage: do_karatsuba_different_size([anillo(3), anillo(4)], [anillo(1), anillo(2), anillo(3)])  # n < m\n",
    "    [3, 10, 17, 12]\n",
    "\n",
    "    sage: do_karatsuba_different_size([], [anillo(1), anillo(2), anillo(3)])  # Caso vacío\n",
    "    []\n",
    "\n",
    "    sage: do_karatsuba_different_size([anillo(1)], [anillo(1), anillo(2), anillo(3)])  # Caso n = 1\n",
    "    [1, 2, 3]\n",
    "\n",
    "    sage: do_karatsuba_different_size([anillo(1), anillo(2), anillo(3)], [anillo(1)])  # Caso m = 1\n",
    "    [1, 2, 3]\n",
    "\n",
    "    sage: do_karatsuba_different_size([anillo(1), anillo(2), anillo(3)], [anillo(4), anillo(5)], K_threshold=1)  # Caso K_threshold bajo\n",
    "    [4, 13, 22, 15]\n",
    "\n",
    "    \"\"\"\n",
    "    n: int= len(left); m: int= len(right)\n",
    "    if n == 0 or m == 0:\n",
    "        return []\n",
    "    if n == 1:\n",
    "        c = left[0]\n",
    "        return [c*a for a in right]\n",
    "    if m == 1:\n",
    "        c = right[0]\n",
    "        return [a*c for a in left] # beware of noncommutative rings\n",
    "    \n",
    "    if n <= K_threshold or m <= K_threshold or K_threshold==1 or K_threshold==2:\n",
    "        return do_schoolbook(left, right)\n",
    "    if n == m:\n",
    "        return do_karatsuba(left, right, K_threshold)\n",
    "    if n > m:\n",
    "        # left is the bigger list\n",
    "        # n is the bigger number\n",
    "        q = n // m\n",
    "        r = n % m\n",
    "        output = do_karatsuba(left[:m], right, K_threshold)\n",
    "        for i in range(1, q): #from 1 <= i < q:\n",
    "            mi = m*i\n",
    "            carry = do_karatsuba(left[mi:mi+m], right, K_threshold)\n",
    "            for j in range(m-1):\n",
    "                output[mi+j] = output[mi+j] + carry[j]\n",
    "            output.extend(carry[m-1:])\n",
    "        if r:\n",
    "            mi = m*q\n",
    "            carry = do_karatsuba_different_size(left[mi:], right, K_threshold)\n",
    "            for j in range (m-1):\n",
    "                output[mi+j] = output[mi+j] + carry[j]\n",
    "            output.extend(carry[m-1:])\n",
    "        return output\n",
    "    else:\n",
    "        # n < m, I need to repeat the code due to the case\n",
    "        # of noncommutative rings.\n",
    "        q = m // n\n",
    "        r = m % n\n",
    "        output = do_karatsuba(left, right[:n], K_threshold)\n",
    "        for i in range(1,q): #from 1 <= i < q:\n",
    "            mi = n*i\n",
    "            carry = do_karatsuba(left, right[mi:mi+n], K_threshold)\n",
    "            for j in range(n-1):\n",
    "                output[mi+j] = output[mi+j] + carry[j]\n",
    "            output.extend(carry[n-1:])\n",
    "        if r:\n",
    "            mi = n*q\n",
    "            carry = do_karatsuba_different_size(left, right[mi:], K_threshold)\n",
    "            for j in range(n-1):\n",
    "                output[mi+j] = output[mi+j] + carry[j]\n",
    "            output.extend(carry[n-1:])\n",
    "        return output\n",
    "\n",
    "def do_karatsuba_different_size_mult_8(left: list, right: list, K_threshold: int=8) -> list:\n",
    "    \"\"\"\n",
    "        Multiplicación de dos polinomios de diferente grado, usando una\n",
    "        estrategia de división del polinómio mayor en partes de tamaño\n",
    "        del polinomio menor. Así, poder aplicar do_karatsuba a las partes.\n",
    "\n",
    "        INPUT:\n",
    "\n",
    "        - ``left``  -- representación de polinomio como lista\n",
    "        - ``right`` -- representación de polinomio como lista\n",
    "        - ``K_threshold`` -- Entero, se usa como criterio para usar la \n",
    "        multiplicación de la escuela si el el grado de alguno de los \n",
    "        polinómios es menor que él.\n",
    "\n",
    "        TESTS:\n",
    "\n",
    "        sage: do_karatsuba_different_size([anillo(1), anillo(2)], [anillo(3), anillo(4)])  # Grados iguales\n",
    "        [3, 10, 8]\n",
    "\n",
    "        sage: do_karatsuba_different_size([anillo(1), anillo(2), anillo(3)], [anillo(4), anillo(5)])  # n > m\n",
    "        [4, 13, 22, 15]\n",
    "\n",
    "        sage: do_karatsuba_different_size([anillo(3), anillo(4)], [anillo(1), anillo(2), anillo(3)])  # n < m\n",
    "        [3, 10, 17, 12]\n",
    "\n",
    "        sage: do_karatsuba_different_size([], [anillo(1), anillo(2), anillo(3)])  # Caso vacío\n",
    "        []\n",
    "\n",
    "        sage: do_karatsuba_different_size([anillo(1)], [anillo(1), anillo(2), anillo(3)])  # Caso n = 1\n",
    "        [1, 2, 3]\n",
    "\n",
    "        sage: do_karatsuba_different_size([anillo(1), anillo(2), anillo(3)], [anillo(1)])  # Caso m = 1\n",
    "        [1, 2, 3]\n",
    "\n",
    "        sage: do_karatsuba_different_size([anillo(1), anillo(2), anillo(3)], [anillo(4), anillo(5)], K_threshold=1)  # Caso K_threshold bajo\n",
    "        [4, 13, 22, 15]\n",
    "\n",
    "    \"\"\"\n",
    "    n: int= len(left); m: int= len(right)\n",
    "    if n == 0 or m == 0:\n",
    "        return []\n",
    "    if n == 1:\n",
    "        c = left[0]\n",
    "        return [c*a for a in right]\n",
    "    if m == 1:\n",
    "        c = right[0]\n",
    "        return [a*c for a in left] # beware of noncommutative rings\n",
    "    \n",
    "    if n <= K_threshold or m <= K_threshold or K_threshold==1 or K_threshold==2:\n",
    "        return do_schoolbook(left, right)\n",
    "    if n == m:\n",
    "        return do_karatsuba(left, right, K_threshold)\n",
    "\n",
    "    # probablemnte sea mas eficiente ir sumando unos hasta qeu sea multiplo de 8\n",
    "    if n % 8 !=0:\n",
    "        n_prima = ((n+7)//8) * 8\n",
    "        left = left + [anillo(0)]*(n_prima-n)\n",
    "        n=n_prima\n",
    "    if n > m:\n",
    "        # left is the bigger list\n",
    "        # n is the bigger number\n",
    "        q = n // m\n",
    "        r = n % m\n",
    "        output = do_karatsuba(left[:m], right, K_threshold)\n",
    "        for i in range(1, q): #from 1 <= i < q:\n",
    "            mi = m*i\n",
    "            carry = do_karatsuba(left[mi:mi+m], right, K_threshold)\n",
    "            for j in range(m-1):\n",
    "                output[mi+j] = output[mi+j] + carry[j]\n",
    "            output.extend(carry[m-1:])\n",
    "        if r:\n",
    "            mi = m*q\n",
    "            carry = do_karatsuba_different_size(left[mi:], right, K_threshold)\n",
    "            for j in range (m-1):\n",
    "                output[mi+j] = output[mi+j] + carry[j]\n",
    "            output.extend(carry[m-1:])\n",
    "        return output\n",
    "    else:\n",
    "        # n < m, I need to repeat the code due to the case\n",
    "        # of noncommutative rings.\n",
    "        q = m // n\n",
    "        r = m % n\n",
    "        output = do_karatsuba(left, right[:n], K_threshold)\n",
    "        for i in range(1,q): #from 1 <= i < q:\n",
    "            mi = n*i\n",
    "            carry = do_karatsuba(left, right[mi:mi+n], K_threshold)\n",
    "            for j in range(n-1):\n",
    "                output[mi+j] = output[mi+j] + carry[j]\n",
    "            output.extend(carry[n-1:])\n",
    "        if r:\n",
    "            mi = n*q\n",
    "            carry = do_karatsuba_different_size(left, right[mi:], K_threshold)\n",
    "            for j in range(n-1):\n",
    "                output[mi+j] = output[mi+j] + carry[j]\n",
    "            output.extend(carry[n-1:])\n",
    "        return output\n",
    "\n",
    "NUM_SUMA = 0\n",
    "NUM_PRODUCTO = 0\n",
    "\n",
    "class anillo:\n",
    "    def __init__(self, valor):\n",
    "        self.valor = valor\n",
    "\n",
    "    def __repr__(self):\n",
    "        return repr(self.valor)\n",
    "\n",
    "    def __add__(self, otro):\n",
    "        global NUM_SUMA \n",
    "        NUM_SUMA = NUM_SUMA + 1\n",
    "        return anillo(self.valor + otro.valor)\n",
    "\n",
    "    def __sub__(self,otro):\n",
    "        global NUM_SUMA \n",
    "        NUM_SUMA = NUM_SUMA + 1\n",
    "        return anillo(self.valor - otro.valor)\n",
    "\n",
    "    def __mul__(self, otro):\n",
    "        global NUM_PRODUCTO\n",
    "        NUM_PRODUCTO = NUM_PRODUCTO + 1\n",
    "        return anillo(self.valor * otro.valor)\n"
   ]
  },
  {
   "cell_type": "markdown",
   "metadata": {},
   "source": [
    "# Ejercicio 1\n",
    "\n",
    "Compare los métodos `do_karatsuba` y `do_schoolbook` vistos en clase para polinomios del mismo tamaño `n`.\n",
    "\n",
    "- Construya sendas listas `L_K`, `L_S` tal que cada entrada sea un triplete `(i, n_p, n_o)` donde `i` sea el tamaño de los polinomios, `n_p` el número de productos que realiza cada algoritmo y `n_o` el número de operaciones totales (productos + sumas).\n",
    "\n",
    "- Realice una representación gráfica del número de operaciones totales dependiendo del tamaño.\n",
    "\n",
    "- Compruebe experimentalmente que `do_schoolbook` realiza $O(i^2)$ operaciones y `do_karatsuba` realiza $O(i^{\\log_2(3)})$ operaciones.\n",
    "\n",
    "- Experimente con el punto de corte (threshold) y comente sobre las gráficas resultantes para distintos puntos de corte.\n"
   ]
  },
  {
   "cell_type": "markdown",
   "metadata": {},
   "source": [
    "## Generación de listas"
   ]
  },
  {
   "cell_type": "code",
   "execution_count": 5,
   "metadata": {
    "vscode": {
     "languageId": "sage"
    }
   },
   "outputs": [],
   "source": [
    "def generador_listas(tamaño_max=100, card_cuerpo_finito=2, verbose=False):\n",
    "    F=GF(card_cuerpo_finito)\n",
    "    R=F['x']\n",
    "    L_K=[]\n",
    "    L_S=[]\n",
    "    global NUM_SUMA, NUM_PRODUCTO    \n",
    "    for i in range(tamaño_max+1):\n",
    "        f = [anillo(R(1)) for t in range(i)]\n",
    "        \n",
    "        NUM_SUMA = 0\n",
    "        NUM_PRODUCTO = 0\n",
    "        k_result=do_karatsuba(f, f, K_threshold=8)\n",
    "        L_K.append((i, NUM_PRODUCTO, NUM_SUMA+NUM_PRODUCTO))\n",
    "\n",
    "        NUM_SUMA = 0\n",
    "        NUM_PRODUCTO = 0\n",
    "        s_result=do_schoolbook(f, f)\n",
    "        L_S.append((i, NUM_PRODUCTO, NUM_SUMA+NUM_PRODUCTO))\n",
    "        \n",
    "        \n",
    "        if verbose and i%50==0:\n",
    "            print(i)        \n",
    "    \n",
    "    return L_K, L_S"
   ]
  },
  {
   "cell_type": "code",
   "execution_count": null,
   "metadata": {
    "vscode": {
     "languageId": "sage"
    }
   },
   "outputs": [],
   "source": [
    "l_k, l_s = generador_listas(tamaño_max=1024*2, \n",
    "                            card_cuerpo_finito=2,\n",
    "                            verbose=True)\n",
    "print(l_k)\n",
    "print(l_s)"
   ]
  },
  {
   "cell_type": "code",
   "execution_count": null,
   "metadata": {
    "vscode": {
     "languageId": "sage"
    }
   },
   "outputs": [],
   "source": [
    "import pickle\n",
    "\n",
    "\n",
    "def generador_listas2(funcion, tamaño_max=100, card_cuerpo_finito=2, K_threshold=8, export_pkl=False, verbose=False):\n",
    "    F=GF(card_cuerpo_finito)\n",
    "    R=F['x']\n",
    "    L=[]\n",
    "    g = [anillo(R(1))]*1024\n",
    "    global NUM_SUMA, NUM_PRODUCTO \n",
    "    for i in range(tamaño_max+1):\n",
    "        f = [anillo(R(1)) for t in range(i)]\n",
    "        if funcion == 'do_karatsuba_different_size':\n",
    "            NUM_SUMA = 0\n",
    "            NUM_PRODUCTO = 0\n",
    "            result=do_karatsuba_different_size(f, g, K_threshold=K_threshold)\n",
    "            L.append((i, NUM_PRODUCTO, NUM_SUMA+NUM_PRODUCTO))\n",
    "        elif funcion == 'do_schoolbook':\n",
    "            NUM_SUMA = 0\n",
    "            NUM_PRODUCTO = 0\n",
    "            result=do_schoolbook(f, g)\n",
    "            L.append((i, NUM_PRODUCTO, NUM_SUMA+NUM_PRODUCTO))\n",
    "        else:\n",
    "            raise ValueError('El valor de \"funcion\" debe ser \"do_karatsuba_different_size\" o \"do_schoolbook\"')\n",
    "            break\n",
    "        if verbose and i%50==0:\n",
    "            print(i) \n",
    "    \n",
    "    if export_pkl:\n",
    "        if funcion == 'do_karatsuba_different_size':\n",
    "            file_name = f'{funcion}_K({K_threshold})_{tamaño_max}.pkl'\n",
    "        else:\n",
    "            file_name = f'{funcion}_{tamaño_max}.pkl'\n",
    "        if verbose:\n",
    "            print(f'Exportando \"{file_name}\"...')\n",
    "        with open(file_name, 'wb') as file:\n",
    "            pickle.dump({'L': L}, file)\n",
    "    return L"
   ]
  },
  {
   "cell_type": "code",
   "execution_count": null,
   "metadata": {
    "vscode": {
     "languageId": "sage"
    }
   },
   "outputs": [],
   "source": [
    "l_kdiff= generador_listas2(funcion= 'do_karatsuba_different_size',\n",
    "                            tamaño_max=2048, \n",
    "                            card_cuerpo_finito=2,\n",
    "                            K_threshold=8,\n",
    "                            export_pkl=True,\n",
    "                            verbose=True)\n",
    "\n",
    "print(l_kdiff)\n",
    "\n",
    "l_sdiff= generador_listas2(funcion= 'do_schoolbook',\n",
    "                            tamaño_max=2048, \n",
    "                            card_cuerpo_finito=2,\n",
    "                            K_threshold=8,\n",
    "                            export_pkl=True,\n",
    "                            verbose=True)\n",
    "print(l_sdiff)"
   ]
  },
  {
   "cell_type": "markdown",
   "metadata": {},
   "source": [
    "### Guardado en archivos"
   ]
  },
  {
   "cell_type": "code",
   "execution_count": 7,
   "metadata": {
    "vscode": {
     "languageId": "sage"
    }
   },
   "outputs": [],
   "source": [
    "import pickle\n",
    "tam=len(l_k)-1\n",
    "file_name = 'lk_ls_'+str(tam)+'T8.pkl'\n",
    "with open(file_name, 'wb') as file:\n",
    "    pickle.dump({'l_k': l_k, 'l_s': l_s}, file)\n"
   ]
  },
  {
   "cell_type": "code",
   "execution_count": null,
   "metadata": {
    "vscode": {
     "languageId": "sage"
    }
   },
   "outputs": [],
   "source": [
    "open_file=file_name\n",
    "with open(open_file, 'rb') as file:\n",
    "    data = pickle.load(file)\n",
    "    l_kr = data['l_k']\n",
    "    l_sr = data['l_s']\n",
    "\n",
    "print(l_kr)\n",
    "print(l_sr)"
   ]
  },
  {
   "cell_type": "markdown",
   "metadata": {},
   "source": [
    "## Representación Gráfica"
   ]
  },
  {
   "cell_type": "code",
   "execution_count": null,
   "metadata": {
    "vscode": {
     "languageId": "sage"
    }
   },
   "outputs": [],
   "source": [
    "# Usando sage\n",
    "line([(foo[0], foo[2]) for foo in l_s], color='blue', legend_label='Schoolbook') + line([(foo[0], foo[2]) for foo in l_k], color='red', legend_label='Karatsuba')"
   ]
  },
  {
   "cell_type": "markdown",
   "metadata": {},
   "source": [
    "## Comprobación experimental Ordenes"
   ]
  },
  {
   "cell_type": "code",
   "execution_count": null,
   "metadata": {
    "vscode": {
     "languageId": "sage"
    }
   },
   "outputs": [],
   "source": [
    "import matplotlib.pyplot as plt\n",
    "\n",
    "def O_schoolbook_ops(n):\n",
    "    return n**2  # O(n^2)\n",
    "\n",
    "def O_karatsuba_ops(n):\n",
    "    return n**(log(3)/log(2))  # O(n^log2(3))\n",
    "\n",
    "sizes = range(len(l_k))\n",
    "O_n2 = [2.1*O_schoolbook_ops(n) for n in sizes]\n",
    "O_nlog23 = [12*O_karatsuba_ops(n) for n in sizes]\n",
    "\n",
    "plt.figure(figsize=(10, 6))\n",
    "plt.plot(sizes, O_n2, label=\"O(n^2)\", linewidth=2)\n",
    "plt.plot(sizes, [n[2] for n in l_s], label=\"Schoolbook\", linewidth=2)\n",
    "plt.plot(sizes, O_nlog23, label=\"O(n^log2(3))\", linewidth=2)\n",
    "plt.plot(sizes, [n[2] for n in l_k], label=\"Karatsuba\", linewidth=2)\n",
    "plt.xlabel(\"Tamaño del polinomio (n)\")\n",
    "plt.ylabel(\"Número de operaciones\")\n",
    "plt.title(\"Comparación de complejidad: Schoolbook vs Karatsuba\")\n",
    "plt.legend()\n",
    "plt.grid()\n",
    "plt.show()\n"
   ]
  },
  {
   "cell_type": "markdown",
   "metadata": {},
   "source": [
    "## Experimentación Threshold"
   ]
  },
  {
   "cell_type": "code",
   "execution_count": null,
   "metadata": {
    "vscode": {
     "languageId": "sage"
    }
   },
   "outputs": [],
   "source": []
  },
  {
   "cell_type": "markdown",
   "metadata": {},
   "source": [
    "## Ejercicio 2\n",
    "\n",
    "- Realice las mismas tareas que en el ejercicio anterior comparando `do_schoolbook` y la propuesta vista en clase de `do_karatsuba_different_size` para un polinomio $f$ de tamaño 1024 y un polinomio $g$ de tamaño variable $i$. Para esto considere un punto de corte de 8.\n",
    "\n",
    "- Calcule para qué tamaños $i$ de $g$ nos encontramos con máximos locales que verifiquen:\n",
    "\n",
    "$$\n",
    "\\text{NUM\\_TOTAL}(1024, i) = \\max\\{\\text{NUM\\_TOTAL}(1024, k) : 1 \\leq k \\leq i\\}\n",
    "$$\n",
    "\n",
    "$$\n",
    "\\exists j > i, \\text{NUM\\_TOTAL}(1024, j) < \\text{NUM\\_TOTAL}(1024, i)\n",
    "$$\n",
    "\n",
    "- Trate de modificar el código de `do_karatsuba_different_size` para que el tamaño de $g$ sea siempre un múltiplo de 8 añadiendo, si es preciso, ceros a la lista que representa $g$. ¿Cómo queda la gráfica con esta modificación? ¿Se ha mejorado? ¿A qué cree que se debe?\n"
   ]
  },
  {
   "cell_type": "markdown",
   "metadata": {},
   "source": [
    "## Replicación ejercicio 1"
   ]
  },
  {
   "cell_type": "code",
   "execution_count": 2,
   "metadata": {
    "vscode": {
     "languageId": "sage"
    }
   },
   "outputs": [],
   "source": [
    "def generador_listas(tamaño_max=100, card_cuerpo_finito=2, K_threshold=8, verbose=False):\n",
    "    F=GF(card_cuerpo_finito)\n",
    "    R=F['x']\n",
    "    L_K=[]\n",
    "    L_S=[]\n",
    "    g = [anillo(R(1))]*1024\n",
    "    global NUM_SUMA, NUM_PRODUCTO    \n",
    "    for i in range(tamaño_max+1):\n",
    "        f = [anillo(R(1)) for t in range(i)]\n",
    "        NUM_SUMA = 0\n",
    "        NUM_PRODUCTO = 0\n",
    "        k_result=do_karatsuba_different_size(f, g, K_threshold=K_threshold)\n",
    "        L_K.append((i, NUM_PRODUCTO, NUM_SUMA+NUM_PRODUCTO))\n",
    "\n",
    "        NUM_SUMA = 0\n",
    "        NUM_PRODUCTO = 0\n",
    "        s_result=do_schoolbook(f, g)\n",
    "        L_S.append((i, NUM_PRODUCTO, NUM_SUMA+NUM_PRODUCTO))\n",
    "        \n",
    "        \n",
    "        if verbose and i%50==0:\n",
    "            print(i)        \n",
    "    \n",
    "    return L_K, L_S\n",
    "\n"
   ]
  },
  {
   "cell_type": "code",
   "execution_count": null,
   "metadata": {
    "vscode": {
     "languageId": "sage"
    }
   },
   "outputs": [],
   "source": [
    "l_k, l_s = generador_listas(tamaño_max=2048, \n",
    "                            card_cuerpo_finito=2,\n",
    "                            K_threshold=8,\n",
    "                            verbose=True)\n",
    "\n",
    "print(l_k)\n",
    "print(l_s)"
   ]
  },
  {
   "cell_type": "markdown",
   "metadata": {},
   "source": [
    "## Calcular tamaños de i que cumplan la condición"
   ]
  },
  {
   "cell_type": "code",
   "execution_count": null,
   "metadata": {
    "vscode": {
     "languageId": "sage"
    }
   },
   "outputs": [],
   "source": []
  },
  {
   "cell_type": "markdown",
   "metadata": {},
   "source": [
    "## Modificación do_karatsuba_different_size tamaño g multiplo de 8"
   ]
  },
  {
   "cell_type": "code",
   "execution_count": 71,
   "metadata": {
    "vscode": {
     "languageId": "sage"
    }
   },
   "outputs": [],
   "source": [
    "def multiplo_mayor(g):\n",
    "    return ((g+7)// 8) * 8\n"
   ]
  },
  {
   "cell_type": "code",
   "execution_count": null,
   "metadata": {
    "vscode": {
     "languageId": "sage"
    }
   },
   "outputs": [],
   "source": [
    "multiplo_mayor(32)"
   ]
  },
  {
   "cell_type": "markdown",
   "metadata": {},
   "source": [
    "# EXEC"
   ]
  },
  {
   "cell_type": "code",
   "execution_count": 1,
   "metadata": {
    "vscode": {
     "languageId": "sage"
    }
   },
   "outputs": [],
   "source": [
    "import pickle\n",
    "\n",
    "\n",
    "def generador_listas2(funcion, tamaño_max=100, card_cuerpo_finito=2, K_threshold=8, export_pkl=False, verbose=False):\n",
    "    F=GF(card_cuerpo_finito)\n",
    "    R=F['x']\n",
    "    L=[]\n",
    "    g = [anillo(R(1))]*1024\n",
    "    global NUM_SUMA, NUM_PRODUCTO \n",
    "    for i in range(tamaño_max+1):\n",
    "        f = [anillo(R(1)) for t in range(i)]\n",
    "        if funcion == 'do_karatsuba_different_size':\n",
    "            NUM_SUMA = 0\n",
    "            NUM_PRODUCTO = 0\n",
    "            result=do_karatsuba_different_size(f, g, K_threshold=K_threshold)\n",
    "            L.append((i, NUM_PRODUCTO, NUM_SUMA+NUM_PRODUCTO))\n",
    "        elif funcion == 'do_schoolbook':\n",
    "            NUM_SUMA = 0\n",
    "            NUM_PRODUCTO = 0\n",
    "            result=do_schoolbook(f, g)\n",
    "            L.append((i, NUM_PRODUCTO, NUM_SUMA+NUM_PRODUCTO))\n",
    "        else:\n",
    "            raise ValueError('El valor de \"funcion\" debe ser \"do_karatsuba_different_size\" o \"do_schoolbook\"')\n",
    "            break\n",
    "        if verbose and i%50==0:\n",
    "            print(i) \n",
    "    \n",
    "    if export_pkl:\n",
    "        if funcion == 'do_karatsuba_different_size':\n",
    "            file_name = f'{funcion}_K({K_threshold})_{tamaño_max}.pkl'\n",
    "        else:\n",
    "            file_name = f'{funcion}_different_size_{tamaño_max}.pkl'\n",
    "        if verbose:\n",
    "            print(f'Exportando \"{file_name}\"...')\n",
    "        with open(file_name, 'wb') as file:\n",
    "            pickle.dump({'L': L}, file)\n",
    "    return L"
   ]
  },
  {
   "cell_type": "code",
   "execution_count": 4,
   "metadata": {
    "vscode": {
     "languageId": "sage"
    }
   },
   "outputs": [
    {
     "name": "stdout",
     "output_type": "stream",
     "text": [
      "0\n",
      "50\n",
      "100\n",
      "150\n",
      "200\n",
      "250\n",
      "300\n",
      "350\n",
      "400\n",
      "450\n",
      "500\n",
      "550\n",
      "600\n",
      "650\n",
      "700\n",
      "750\n",
      "800\n",
      "850\n",
      "900\n",
      "950\n",
      "1000\n",
      "1050\n",
      "1100\n",
      "1150\n",
      "1200\n",
      "1250\n",
      "1300\n",
      "1350\n",
      "1400\n",
      "1450\n",
      "1500\n",
      "1550\n",
      "1600\n",
      "1650\n",
      "1700\n",
      "1750\n",
      "1800\n",
      "1850\n",
      "1900\n",
      "1950\n",
      "2000\n",
      "Exportando \"do_schoolbook_different_size_2048.pkl\"...\n",
      "[(0, 0, 0), (1, 1024, 2048), (2, 2048, 4096), (3, 3072, 6144), (4, 4096, 8192), (5, 5120, 10240), (6, 6144, 12288), (7, 7168, 14336), (8, 8192, 16384), (9, 9216, 18432), (10, 10240, 20480), (11, 11264, 22528), (12, 12288, 24576), (13, 13312, 26624), (14, 14336, 28672), (15, 15360, 30720), (16, 16384, 32768), (17, 17408, 34816), (18, 18432, 36864), (19, 19456, 38912), (20, 20480, 40960), (21, 21504, 43008), (22, 22528, 45056), (23, 23552, 47104), (24, 24576, 49152), (25, 25600, 51200), (26, 26624, 53248), (27, 27648, 55296), (28, 28672, 57344), (29, 29696, 59392), (30, 30720, 61440), (31, 31744, 63488), (32, 32768, 65536), (33, 33792, 67584), (34, 34816, 69632), (35, 35840, 71680), (36, 36864, 73728), (37, 37888, 75776), (38, 38912, 77824), (39, 39936, 79872), (40, 40960, 81920), (41, 41984, 83968), (42, 43008, 86016), (43, 44032, 88064), (44, 45056, 90112), (45, 46080, 92160), (46, 47104, 94208), (47, 48128, 96256), (48, 49152, 98304), (49, 50176, 100352), (50, 51200, 102400), (51, 52224, 104448), (52, 53248, 106496), (53, 54272, 108544), (54, 55296, 110592), (55, 56320, 112640), (56, 57344, 114688), (57, 58368, 116736), (58, 59392, 118784), (59, 60416, 120832), (60, 61440, 122880), (61, 62464, 124928), (62, 63488, 126976), (63, 64512, 129024), (64, 65536, 131072), (65, 66560, 133120), (66, 67584, 135168), (67, 68608, 137216), (68, 69632, 139264), (69, 70656, 141312), (70, 71680, 143360), (71, 72704, 145408), (72, 73728, 147456), (73, 74752, 149504), (74, 75776, 151552), (75, 76800, 153600), (76, 77824, 155648), (77, 78848, 157696), (78, 79872, 159744), (79, 80896, 161792), (80, 81920, 163840), (81, 82944, 165888), (82, 83968, 167936), (83, 84992, 169984), (84, 86016, 172032), (85, 87040, 174080), (86, 88064, 176128), (87, 89088, 178176), (88, 90112, 180224), (89, 91136, 182272), (90, 92160, 184320), (91, 93184, 186368), (92, 94208, 188416), (93, 95232, 190464), (94, 96256, 192512), (95, 97280, 194560), (96, 98304, 196608), (97, 99328, 198656), (98, 100352, 200704), (99, 101376, 202752), (100, 102400, 204800), (101, 103424, 206848), (102, 104448, 208896), (103, 105472, 210944), (104, 106496, 212992), (105, 107520, 215040), (106, 108544, 217088), (107, 109568, 219136), (108, 110592, 221184), (109, 111616, 223232), (110, 112640, 225280), (111, 113664, 227328), (112, 114688, 229376), (113, 115712, 231424), (114, 116736, 233472), (115, 117760, 235520), (116, 118784, 237568), (117, 119808, 239616), (118, 120832, 241664), (119, 121856, 243712), (120, 122880, 245760), (121, 123904, 247808), (122, 124928, 249856), (123, 125952, 251904), (124, 126976, 253952), (125, 128000, 256000), (126, 129024, 258048), (127, 130048, 260096), (128, 131072, 262144), (129, 132096, 264192), (130, 133120, 266240), (131, 134144, 268288), (132, 135168, 270336), (133, 136192, 272384), (134, 137216, 274432), (135, 138240, 276480), (136, 139264, 278528), (137, 140288, 280576), (138, 141312, 282624), (139, 142336, 284672), (140, 143360, 286720), (141, 144384, 288768), (142, 145408, 290816), (143, 146432, 292864), (144, 147456, 294912), (145, 148480, 296960), (146, 149504, 299008), (147, 150528, 301056), (148, 151552, 303104), (149, 152576, 305152), (150, 153600, 307200), (151, 154624, 309248), (152, 155648, 311296), (153, 156672, 313344), (154, 157696, 315392), (155, 158720, 317440), (156, 159744, 319488), (157, 160768, 321536), (158, 161792, 323584), (159, 162816, 325632), (160, 163840, 327680), (161, 164864, 329728), (162, 165888, 331776), (163, 166912, 333824), (164, 167936, 335872), (165, 168960, 337920), (166, 169984, 339968), (167, 171008, 342016), (168, 172032, 344064), (169, 173056, 346112), (170, 174080, 348160), (171, 175104, 350208), (172, 176128, 352256), (173, 177152, 354304), (174, 178176, 356352), (175, 179200, 358400), (176, 180224, 360448), (177, 181248, 362496), (178, 182272, 364544), (179, 183296, 366592), (180, 184320, 368640), (181, 185344, 370688), (182, 186368, 372736), (183, 187392, 374784), (184, 188416, 376832), (185, 189440, 378880), (186, 190464, 380928), (187, 191488, 382976), (188, 192512, 385024), (189, 193536, 387072), (190, 194560, 389120), (191, 195584, 391168), (192, 196608, 393216), (193, 197632, 395264), (194, 198656, 397312), (195, 199680, 399360), (196, 200704, 401408), (197, 201728, 403456), (198, 202752, 405504), (199, 203776, 407552), (200, 204800, 409600), (201, 205824, 411648), (202, 206848, 413696), (203, 207872, 415744), (204, 208896, 417792), (205, 209920, 419840), (206, 210944, 421888), (207, 211968, 423936), (208, 212992, 425984), (209, 214016, 428032), (210, 215040, 430080), (211, 216064, 432128), (212, 217088, 434176), (213, 218112, 436224), (214, 219136, 438272), (215, 220160, 440320), (216, 221184, 442368), (217, 222208, 444416), (218, 223232, 446464), (219, 224256, 448512), (220, 225280, 450560), (221, 226304, 452608), (222, 227328, 454656), (223, 228352, 456704), (224, 229376, 458752), (225, 230400, 460800), (226, 231424, 462848), (227, 232448, 464896), (228, 233472, 466944), (229, 234496, 468992), (230, 235520, 471040), (231, 236544, 473088), (232, 237568, 475136), (233, 238592, 477184), (234, 239616, 479232), (235, 240640, 481280), (236, 241664, 483328), (237, 242688, 485376), (238, 243712, 487424), (239, 244736, 489472), (240, 245760, 491520), (241, 246784, 493568), (242, 247808, 495616), (243, 248832, 497664), (244, 249856, 499712), (245, 250880, 501760), (246, 251904, 503808), (247, 252928, 505856), (248, 253952, 507904), (249, 254976, 509952), (250, 256000, 512000), (251, 257024, 514048), (252, 258048, 516096), (253, 259072, 518144), (254, 260096, 520192), (255, 261120, 522240), (256, 262144, 524288), (257, 263168, 526336), (258, 264192, 528384), (259, 265216, 530432), (260, 266240, 532480), (261, 267264, 534528), (262, 268288, 536576), (263, 269312, 538624), (264, 270336, 540672), (265, 271360, 542720), (266, 272384, 544768), (267, 273408, 546816), (268, 274432, 548864), (269, 275456, 550912), (270, 276480, 552960), (271, 277504, 555008), (272, 278528, 557056), (273, 279552, 559104), (274, 280576, 561152), (275, 281600, 563200), (276, 282624, 565248), (277, 283648, 567296), (278, 284672, 569344), (279, 285696, 571392), (280, 286720, 573440), (281, 287744, 575488), (282, 288768, 577536), (283, 289792, 579584), (284, 290816, 581632), (285, 291840, 583680), (286, 292864, 585728), (287, 293888, 587776), (288, 294912, 589824), (289, 295936, 591872), (290, 296960, 593920), (291, 297984, 595968), (292, 299008, 598016), (293, 300032, 600064), (294, 301056, 602112), (295, 302080, 604160), (296, 303104, 606208), (297, 304128, 608256), (298, 305152, 610304), (299, 306176, 612352), (300, 307200, 614400), (301, 308224, 616448), (302, 309248, 618496), (303, 310272, 620544), (304, 311296, 622592), (305, 312320, 624640), (306, 313344, 626688), (307, 314368, 628736), (308, 315392, 630784), (309, 316416, 632832), (310, 317440, 634880), (311, 318464, 636928), (312, 319488, 638976), (313, 320512, 641024), (314, 321536, 643072), (315, 322560, 645120), (316, 323584, 647168), (317, 324608, 649216), (318, 325632, 651264), (319, 326656, 653312), (320, 327680, 655360), (321, 328704, 657408), (322, 329728, 659456), (323, 330752, 661504), (324, 331776, 663552), (325, 332800, 665600), (326, 333824, 667648), (327, 334848, 669696), (328, 335872, 671744), (329, 336896, 673792), (330, 337920, 675840), (331, 338944, 677888), (332, 339968, 679936), (333, 340992, 681984), (334, 342016, 684032), (335, 343040, 686080), (336, 344064, 688128), (337, 345088, 690176), (338, 346112, 692224), (339, 347136, 694272), (340, 348160, 696320), (341, 349184, 698368), (342, 350208, 700416), (343, 351232, 702464), (344, 352256, 704512), (345, 353280, 706560), (346, 354304, 708608), (347, 355328, 710656), (348, 356352, 712704), (349, 357376, 714752), (350, 358400, 716800), (351, 359424, 718848), (352, 360448, 720896), (353, 361472, 722944), (354, 362496, 724992), (355, 363520, 727040), (356, 364544, 729088), (357, 365568, 731136), (358, 366592, 733184), (359, 367616, 735232), (360, 368640, 737280), (361, 369664, 739328), (362, 370688, 741376), (363, 371712, 743424), (364, 372736, 745472), (365, 373760, 747520), (366, 374784, 749568), (367, 375808, 751616), (368, 376832, 753664), (369, 377856, 755712), (370, 378880, 757760), (371, 379904, 759808), (372, 380928, 761856), (373, 381952, 763904), (374, 382976, 765952), (375, 384000, 768000), (376, 385024, 770048), (377, 386048, 772096), (378, 387072, 774144), (379, 388096, 776192), (380, 389120, 778240), (381, 390144, 780288), (382, 391168, 782336), (383, 392192, 784384), (384, 393216, 786432), (385, 394240, 788480), (386, 395264, 790528), (387, 396288, 792576), (388, 397312, 794624), (389, 398336, 796672), (390, 399360, 798720), (391, 400384, 800768), (392, 401408, 802816), (393, 402432, 804864), (394, 403456, 806912), (395, 404480, 808960), (396, 405504, 811008), (397, 406528, 813056), (398, 407552, 815104), (399, 408576, 817152), (400, 409600, 819200), (401, 410624, 821248), (402, 411648, 823296), (403, 412672, 825344), (404, 413696, 827392), (405, 414720, 829440), (406, 415744, 831488), (407, 416768, 833536), (408, 417792, 835584), (409, 418816, 837632), (410, 419840, 839680), (411, 420864, 841728), (412, 421888, 843776), (413, 422912, 845824), (414, 423936, 847872), (415, 424960, 849920), (416, 425984, 851968), (417, 427008, 854016), (418, 428032, 856064), (419, 429056, 858112), (420, 430080, 860160), (421, 431104, 862208), (422, 432128, 864256), (423, 433152, 866304), (424, 434176, 868352), (425, 435200, 870400), (426, 436224, 872448), (427, 437248, 874496), (428, 438272, 876544), (429, 439296, 878592), (430, 440320, 880640), (431, 441344, 882688), (432, 442368, 884736), (433, 443392, 886784), (434, 444416, 888832), (435, 445440, 890880), (436, 446464, 892928), (437, 447488, 894976), (438, 448512, 897024), (439, 449536, 899072), (440, 450560, 901120), (441, 451584, 903168), (442, 452608, 905216), (443, 453632, 907264), (444, 454656, 909312), (445, 455680, 911360), (446, 456704, 913408), (447, 457728, 915456), (448, 458752, 917504), (449, 459776, 919552), (450, 460800, 921600), (451, 461824, 923648), (452, 462848, 925696), (453, 463872, 927744), (454, 464896, 929792), (455, 465920, 931840), (456, 466944, 933888), (457, 467968, 935936), (458, 468992, 937984), (459, 470016, 940032), (460, 471040, 942080), (461, 472064, 944128), (462, 473088, 946176), (463, 474112, 948224), (464, 475136, 950272), (465, 476160, 952320), (466, 477184, 954368), (467, 478208, 956416), (468, 479232, 958464), (469, 480256, 960512), (470, 481280, 962560), (471, 482304, 964608), (472, 483328, 966656), (473, 484352, 968704), (474, 485376, 970752), (475, 486400, 972800), (476, 487424, 974848), (477, 488448, 976896), (478, 489472, 978944), (479, 490496, 980992), (480, 491520, 983040), (481, 492544, 985088), (482, 493568, 987136), (483, 494592, 989184), (484, 495616, 991232), (485, 496640, 993280), (486, 497664, 995328), (487, 498688, 997376), (488, 499712, 999424), (489, 500736, 1001472), (490, 501760, 1003520), (491, 502784, 1005568), (492, 503808, 1007616), (493, 504832, 1009664), (494, 505856, 1011712), (495, 506880, 1013760), (496, 507904, 1015808), (497, 508928, 1017856), (498, 509952, 1019904), (499, 510976, 1021952), (500, 512000, 1024000), (501, 513024, 1026048), (502, 514048, 1028096), (503, 515072, 1030144), (504, 516096, 1032192), (505, 517120, 1034240), (506, 518144, 1036288), (507, 519168, 1038336), (508, 520192, 1040384), (509, 521216, 1042432), (510, 522240, 1044480), (511, 523264, 1046528), (512, 524288, 1048576), (513, 525312, 1050624), (514, 526336, 1052672), (515, 527360, 1054720), (516, 528384, 1056768), (517, 529408, 1058816), (518, 530432, 1060864), (519, 531456, 1062912), (520, 532480, 1064960), (521, 533504, 1067008), (522, 534528, 1069056), (523, 535552, 1071104), (524, 536576, 1073152), (525, 537600, 1075200), (526, 538624, 1077248), (527, 539648, 1079296), (528, 540672, 1081344), (529, 541696, 1083392), (530, 542720, 1085440), (531, 543744, 1087488), (532, 544768, 1089536), (533, 545792, 1091584), (534, 546816, 1093632), (535, 547840, 1095680), (536, 548864, 1097728), (537, 549888, 1099776), (538, 550912, 1101824), (539, 551936, 1103872), (540, 552960, 1105920), (541, 553984, 1107968), (542, 555008, 1110016), (543, 556032, 1112064), (544, 557056, 1114112), (545, 558080, 1116160), (546, 559104, 1118208), (547, 560128, 1120256), (548, 561152, 1122304), (549, 562176, 1124352), (550, 563200, 1126400), (551, 564224, 1128448), (552, 565248, 1130496), (553, 566272, 1132544), (554, 567296, 1134592), (555, 568320, 1136640), (556, 569344, 1138688), (557, 570368, 1140736), (558, 571392, 1142784), (559, 572416, 1144832), (560, 573440, 1146880), (561, 574464, 1148928), (562, 575488, 1150976), (563, 576512, 1153024), (564, 577536, 1155072), (565, 578560, 1157120), (566, 579584, 1159168), (567, 580608, 1161216), (568, 581632, 1163264), (569, 582656, 1165312), (570, 583680, 1167360), (571, 584704, 1169408), (572, 585728, 1171456), (573, 586752, 1173504), (574, 587776, 1175552), (575, 588800, 1177600), (576, 589824, 1179648), (577, 590848, 1181696), (578, 591872, 1183744), (579, 592896, 1185792), (580, 593920, 1187840), (581, 594944, 1189888), (582, 595968, 1191936), (583, 596992, 1193984), (584, 598016, 1196032), (585, 599040, 1198080), (586, 600064, 1200128), (587, 601088, 1202176), (588, 602112, 1204224), (589, 603136, 1206272), (590, 604160, 1208320), (591, 605184, 1210368), (592, 606208, 1212416), (593, 607232, 1214464), (594, 608256, 1216512), (595, 609280, 1218560), (596, 610304, 1220608), (597, 611328, 1222656), (598, 612352, 1224704), (599, 613376, 1226752), (600, 614400, 1228800), (601, 615424, 1230848), (602, 616448, 1232896), (603, 617472, 1234944), (604, 618496, 1236992), (605, 619520, 1239040), (606, 620544, 1241088), (607, 621568, 1243136), (608, 622592, 1245184), (609, 623616, 1247232), (610, 624640, 1249280), (611, 625664, 1251328), (612, 626688, 1253376), (613, 627712, 1255424), (614, 628736, 1257472), (615, 629760, 1259520), (616, 630784, 1261568), (617, 631808, 1263616), (618, 632832, 1265664), (619, 633856, 1267712), (620, 634880, 1269760), (621, 635904, 1271808), (622, 636928, 1273856), (623, 637952, 1275904), (624, 638976, 1277952), (625, 640000, 1280000), (626, 641024, 1282048), (627, 642048, 1284096), (628, 643072, 1286144), (629, 644096, 1288192), (630, 645120, 1290240), (631, 646144, 1292288), (632, 647168, 1294336), (633, 648192, 1296384), (634, 649216, 1298432), (635, 650240, 1300480), (636, 651264, 1302528), (637, 652288, 1304576), (638, 653312, 1306624), (639, 654336, 1308672), (640, 655360, 1310720), (641, 656384, 1312768), (642, 657408, 1314816), (643, 658432, 1316864), (644, 659456, 1318912), (645, 660480, 1320960), (646, 661504, 1323008), (647, 662528, 1325056), (648, 663552, 1327104), (649, 664576, 1329152), (650, 665600, 1331200), (651, 666624, 1333248), (652, 667648, 1335296), (653, 668672, 1337344), (654, 669696, 1339392), (655, 670720, 1341440), (656, 671744, 1343488), (657, 672768, 1345536), (658, 673792, 1347584), (659, 674816, 1349632), (660, 675840, 1351680), (661, 676864, 1353728), (662, 677888, 1355776), (663, 678912, 1357824), (664, 679936, 1359872), (665, 680960, 1361920), (666, 681984, 1363968), (667, 683008, 1366016), (668, 684032, 1368064), (669, 685056, 1370112), (670, 686080, 1372160), (671, 687104, 1374208), (672, 688128, 1376256), (673, 689152, 1378304), (674, 690176, 1380352), (675, 691200, 1382400), (676, 692224, 1384448), (677, 693248, 1386496), (678, 694272, 1388544), (679, 695296, 1390592), (680, 696320, 1392640), (681, 697344, 1394688), (682, 698368, 1396736), (683, 699392, 1398784), (684, 700416, 1400832), (685, 701440, 1402880), (686, 702464, 1404928), (687, 703488, 1406976), (688, 704512, 1409024), (689, 705536, 1411072), (690, 706560, 1413120), (691, 707584, 1415168), (692, 708608, 1417216), (693, 709632, 1419264), (694, 710656, 1421312), (695, 711680, 1423360), (696, 712704, 1425408), (697, 713728, 1427456), (698, 714752, 1429504), (699, 715776, 1431552), (700, 716800, 1433600), (701, 717824, 1435648), (702, 718848, 1437696), (703, 719872, 1439744), (704, 720896, 1441792), (705, 721920, 1443840), (706, 722944, 1445888), (707, 723968, 1447936), (708, 724992, 1449984), (709, 726016, 1452032), (710, 727040, 1454080), (711, 728064, 1456128), (712, 729088, 1458176), (713, 730112, 1460224), (714, 731136, 1462272), (715, 732160, 1464320), (716, 733184, 1466368), (717, 734208, 1468416), (718, 735232, 1470464), (719, 736256, 1472512), (720, 737280, 1474560), (721, 738304, 1476608), (722, 739328, 1478656), (723, 740352, 1480704), (724, 741376, 1482752), (725, 742400, 1484800), (726, 743424, 1486848), (727, 744448, 1488896), (728, 745472, 1490944), (729, 746496, 1492992), (730, 747520, 1495040), (731, 748544, 1497088), (732, 749568, 1499136), (733, 750592, 1501184), (734, 751616, 1503232), (735, 752640, 1505280), (736, 753664, 1507328), (737, 754688, 1509376), (738, 755712, 1511424), (739, 756736, 1513472), (740, 757760, 1515520), (741, 758784, 1517568), (742, 759808, 1519616), (743, 760832, 1521664), (744, 761856, 1523712), (745, 762880, 1525760), (746, 763904, 1527808), (747, 764928, 1529856), (748, 765952, 1531904), (749, 766976, 1533952), (750, 768000, 1536000), (751, 769024, 1538048), (752, 770048, 1540096), (753, 771072, 1542144), (754, 772096, 1544192), (755, 773120, 1546240), (756, 774144, 1548288), (757, 775168, 1550336), (758, 776192, 1552384), (759, 777216, 1554432), (760, 778240, 1556480), (761, 779264, 1558528), (762, 780288, 1560576), (763, 781312, 1562624), (764, 782336, 1564672), (765, 783360, 1566720), (766, 784384, 1568768), (767, 785408, 1570816), (768, 786432, 1572864), (769, 787456, 1574912), (770, 788480, 1576960), (771, 789504, 1579008), (772, 790528, 1581056), (773, 791552, 1583104), (774, 792576, 1585152), (775, 793600, 1587200), (776, 794624, 1589248), (777, 795648, 1591296), (778, 796672, 1593344), (779, 797696, 1595392), (780, 798720, 1597440), (781, 799744, 1599488), (782, 800768, 1601536), (783, 801792, 1603584), (784, 802816, 1605632), (785, 803840, 1607680), (786, 804864, 1609728), (787, 805888, 1611776), (788, 806912, 1613824), (789, 807936, 1615872), (790, 808960, 1617920), (791, 809984, 1619968), (792, 811008, 1622016), (793, 812032, 1624064), (794, 813056, 1626112), (795, 814080, 1628160), (796, 815104, 1630208), (797, 816128, 1632256), (798, 817152, 1634304), (799, 818176, 1636352), (800, 819200, 1638400), (801, 820224, 1640448), (802, 821248, 1642496), (803, 822272, 1644544), (804, 823296, 1646592), (805, 824320, 1648640), (806, 825344, 1650688), (807, 826368, 1652736), (808, 827392, 1654784), (809, 828416, 1656832), (810, 829440, 1658880), (811, 830464, 1660928), (812, 831488, 1662976), (813, 832512, 1665024), (814, 833536, 1667072), (815, 834560, 1669120), (816, 835584, 1671168), (817, 836608, 1673216), (818, 837632, 1675264), (819, 838656, 1677312), (820, 839680, 1679360), (821, 840704, 1681408), (822, 841728, 1683456), (823, 842752, 1685504), (824, 843776, 1687552), (825, 844800, 1689600), (826, 845824, 1691648), (827, 846848, 1693696), (828, 847872, 1695744), (829, 848896, 1697792), (830, 849920, 1699840), (831, 850944, 1701888), (832, 851968, 1703936), (833, 852992, 1705984), (834, 854016, 1708032), (835, 855040, 1710080), (836, 856064, 1712128), (837, 857088, 1714176), (838, 858112, 1716224), (839, 859136, 1718272), (840, 860160, 1720320), (841, 861184, 1722368), (842, 862208, 1724416), (843, 863232, 1726464), (844, 864256, 1728512), (845, 865280, 1730560), (846, 866304, 1732608), (847, 867328, 1734656), (848, 868352, 1736704), (849, 869376, 1738752), (850, 870400, 1740800), (851, 871424, 1742848), (852, 872448, 1744896), (853, 873472, 1746944), (854, 874496, 1748992), (855, 875520, 1751040), (856, 876544, 1753088), (857, 877568, 1755136), (858, 878592, 1757184), (859, 879616, 1759232), (860, 880640, 1761280), (861, 881664, 1763328), (862, 882688, 1765376), (863, 883712, 1767424), (864, 884736, 1769472), (865, 885760, 1771520), (866, 886784, 1773568), (867, 887808, 1775616), (868, 888832, 1777664), (869, 889856, 1779712), (870, 890880, 1781760), (871, 891904, 1783808), (872, 892928, 1785856), (873, 893952, 1787904), (874, 894976, 1789952), (875, 896000, 1792000), (876, 897024, 1794048), (877, 898048, 1796096), (878, 899072, 1798144), (879, 900096, 1800192), (880, 901120, 1802240), (881, 902144, 1804288), (882, 903168, 1806336), (883, 904192, 1808384), (884, 905216, 1810432), (885, 906240, 1812480), (886, 907264, 1814528), (887, 908288, 1816576), (888, 909312, 1818624), (889, 910336, 1820672), (890, 911360, 1822720), (891, 912384, 1824768), (892, 913408, 1826816), (893, 914432, 1828864), (894, 915456, 1830912), (895, 916480, 1832960), (896, 917504, 1835008), (897, 918528, 1837056), (898, 919552, 1839104), (899, 920576, 1841152), (900, 921600, 1843200), (901, 922624, 1845248), (902, 923648, 1847296), (903, 924672, 1849344), (904, 925696, 1851392), (905, 926720, 1853440), (906, 927744, 1855488), (907, 928768, 1857536), (908, 929792, 1859584), (909, 930816, 1861632), (910, 931840, 1863680), (911, 932864, 1865728), (912, 933888, 1867776), (913, 934912, 1869824), (914, 935936, 1871872), (915, 936960, 1873920), (916, 937984, 1875968), (917, 939008, 1878016), (918, 940032, 1880064), (919, 941056, 1882112), (920, 942080, 1884160), (921, 943104, 1886208), (922, 944128, 1888256), (923, 945152, 1890304), (924, 946176, 1892352), (925, 947200, 1894400), (926, 948224, 1896448), (927, 949248, 1898496), (928, 950272, 1900544), (929, 951296, 1902592), (930, 952320, 1904640), (931, 953344, 1906688), (932, 954368, 1908736), (933, 955392, 1910784), (934, 956416, 1912832), (935, 957440, 1914880), (936, 958464, 1916928), (937, 959488, 1918976), (938, 960512, 1921024), (939, 961536, 1923072), (940, 962560, 1925120), (941, 963584, 1927168), (942, 964608, 1929216), (943, 965632, 1931264), (944, 966656, 1933312), (945, 967680, 1935360), (946, 968704, 1937408), (947, 969728, 1939456), (948, 970752, 1941504), (949, 971776, 1943552), (950, 972800, 1945600), (951, 973824, 1947648), (952, 974848, 1949696), (953, 975872, 1951744), (954, 976896, 1953792), (955, 977920, 1955840), (956, 978944, 1957888), (957, 979968, 1959936), (958, 980992, 1961984), (959, 982016, 1964032), (960, 983040, 1966080), (961, 984064, 1968128), (962, 985088, 1970176), (963, 986112, 1972224), (964, 987136, 1974272), (965, 988160, 1976320), (966, 989184, 1978368), (967, 990208, 1980416), (968, 991232, 1982464), (969, 992256, 1984512), (970, 993280, 1986560), (971, 994304, 1988608), (972, 995328, 1990656), (973, 996352, 1992704), (974, 997376, 1994752), (975, 998400, 1996800), (976, 999424, 1998848), (977, 1000448, 2000896), (978, 1001472, 2002944), (979, 1002496, 2004992), (980, 1003520, 2007040), (981, 1004544, 2009088), (982, 1005568, 2011136), (983, 1006592, 2013184), (984, 1007616, 2015232), (985, 1008640, 2017280), (986, 1009664, 2019328), (987, 1010688, 2021376), (988, 1011712, 2023424), (989, 1012736, 2025472), (990, 1013760, 2027520), (991, 1014784, 2029568), (992, 1015808, 2031616), (993, 1016832, 2033664), (994, 1017856, 2035712), (995, 1018880, 2037760), (996, 1019904, 2039808), (997, 1020928, 2041856), (998, 1021952, 2043904), (999, 1022976, 2045952), (1000, 1024000, 2048000), (1001, 1025024, 2050048), (1002, 1026048, 2052096), (1003, 1027072, 2054144), (1004, 1028096, 2056192), (1005, 1029120, 2058240), (1006, 1030144, 2060288), (1007, 1031168, 2062336), (1008, 1032192, 2064384), (1009, 1033216, 2066432), (1010, 1034240, 2068480), (1011, 1035264, 2070528), (1012, 1036288, 2072576), (1013, 1037312, 2074624), (1014, 1038336, 2076672), (1015, 1039360, 2078720), (1016, 1040384, 2080768), (1017, 1041408, 2082816), (1018, 1042432, 2084864), (1019, 1043456, 2086912), (1020, 1044480, 2088960), (1021, 1045504, 2091008), (1022, 1046528, 2093056), (1023, 1047552, 2095104), (1024, 1048576, 2097152), (1025, 1049600, 2099200), (1026, 1050624, 2101248), (1027, 1051648, 2103296), (1028, 1052672, 2105344), (1029, 1053696, 2107392), (1030, 1054720, 2109440), (1031, 1055744, 2111488), (1032, 1056768, 2113536), (1033, 1057792, 2115584), (1034, 1058816, 2117632), (1035, 1059840, 2119680), (1036, 1060864, 2121728), (1037, 1061888, 2123776), (1038, 1062912, 2125824), (1039, 1063936, 2127872), (1040, 1064960, 2129920), (1041, 1065984, 2131968), (1042, 1067008, 2134016), (1043, 1068032, 2136064), (1044, 1069056, 2138112), (1045, 1070080, 2140160), (1046, 1071104, 2142208), (1047, 1072128, 2144256), (1048, 1073152, 2146304), (1049, 1074176, 2148352), (1050, 1075200, 2150400), (1051, 1076224, 2152448), (1052, 1077248, 2154496), (1053, 1078272, 2156544), (1054, 1079296, 2158592), (1055, 1080320, 2160640), (1056, 1081344, 2162688), (1057, 1082368, 2164736), (1058, 1083392, 2166784), (1059, 1084416, 2168832), (1060, 1085440, 2170880), (1061, 1086464, 2172928), (1062, 1087488, 2174976), (1063, 1088512, 2177024), (1064, 1089536, 2179072), (1065, 1090560, 2181120), (1066, 1091584, 2183168), (1067, 1092608, 2185216), (1068, 1093632, 2187264), (1069, 1094656, 2189312), (1070, 1095680, 2191360), (1071, 1096704, 2193408), (1072, 1097728, 2195456), (1073, 1098752, 2197504), (1074, 1099776, 2199552), (1075, 1100800, 2201600), (1076, 1101824, 2203648), (1077, 1102848, 2205696), (1078, 1103872, 2207744), (1079, 1104896, 2209792), (1080, 1105920, 2211840), (1081, 1106944, 2213888), (1082, 1107968, 2215936), (1083, 1108992, 2217984), (1084, 1110016, 2220032), (1085, 1111040, 2222080), (1086, 1112064, 2224128), (1087, 1113088, 2226176), (1088, 1114112, 2228224), (1089, 1115136, 2230272), (1090, 1116160, 2232320), (1091, 1117184, 2234368), (1092, 1118208, 2236416), (1093, 1119232, 2238464), (1094, 1120256, 2240512), (1095, 1121280, 2242560), (1096, 1122304, 2244608), (1097, 1123328, 2246656), (1098, 1124352, 2248704), (1099, 1125376, 2250752), (1100, 1126400, 2252800), (1101, 1127424, 2254848), (1102, 1128448, 2256896), (1103, 1129472, 2258944), (1104, 1130496, 2260992), (1105, 1131520, 2263040), (1106, 1132544, 2265088), (1107, 1133568, 2267136), (1108, 1134592, 2269184), (1109, 1135616, 2271232), (1110, 1136640, 2273280), (1111, 1137664, 2275328), (1112, 1138688, 2277376), (1113, 1139712, 2279424), (1114, 1140736, 2281472), (1115, 1141760, 2283520), (1116, 1142784, 2285568), (1117, 1143808, 2287616), (1118, 1144832, 2289664), (1119, 1145856, 2291712), (1120, 1146880, 2293760), (1121, 1147904, 2295808), (1122, 1148928, 2297856), (1123, 1149952, 2299904), (1124, 1150976, 2301952), (1125, 1152000, 2304000), (1126, 1153024, 2306048), (1127, 1154048, 2308096), (1128, 1155072, 2310144), (1129, 1156096, 2312192), (1130, 1157120, 2314240), (1131, 1158144, 2316288), (1132, 1159168, 2318336), (1133, 1160192, 2320384), (1134, 1161216, 2322432), (1135, 1162240, 2324480), (1136, 1163264, 2326528), (1137, 1164288, 2328576), (1138, 1165312, 2330624), (1139, 1166336, 2332672), (1140, 1167360, 2334720), (1141, 1168384, 2336768), (1142, 1169408, 2338816), (1143, 1170432, 2340864), (1144, 1171456, 2342912), (1145, 1172480, 2344960), (1146, 1173504, 2347008), (1147, 1174528, 2349056), (1148, 1175552, 2351104), (1149, 1176576, 2353152), (1150, 1177600, 2355200), (1151, 1178624, 2357248), (1152, 1179648, 2359296), (1153, 1180672, 2361344), (1154, 1181696, 2363392), (1155, 1182720, 2365440), (1156, 1183744, 2367488), (1157, 1184768, 2369536), (1158, 1185792, 2371584), (1159, 1186816, 2373632), (1160, 1187840, 2375680), (1161, 1188864, 2377728), (1162, 1189888, 2379776), (1163, 1190912, 2381824), (1164, 1191936, 2383872), (1165, 1192960, 2385920), (1166, 1193984, 2387968), (1167, 1195008, 2390016), (1168, 1196032, 2392064), (1169, 1197056, 2394112), (1170, 1198080, 2396160), (1171, 1199104, 2398208), (1172, 1200128, 2400256), (1173, 1201152, 2402304), (1174, 1202176, 2404352), (1175, 1203200, 2406400), (1176, 1204224, 2408448), (1177, 1205248, 2410496), (1178, 1206272, 2412544), (1179, 1207296, 2414592), (1180, 1208320, 2416640), (1181, 1209344, 2418688), (1182, 1210368, 2420736), (1183, 1211392, 2422784), (1184, 1212416, 2424832), (1185, 1213440, 2426880), (1186, 1214464, 2428928), (1187, 1215488, 2430976), (1188, 1216512, 2433024), (1189, 1217536, 2435072), (1190, 1218560, 2437120), (1191, 1219584, 2439168), (1192, 1220608, 2441216), (1193, 1221632, 2443264), (1194, 1222656, 2445312), (1195, 1223680, 2447360), (1196, 1224704, 2449408), (1197, 1225728, 2451456), (1198, 1226752, 2453504), (1199, 1227776, 2455552), (1200, 1228800, 2457600), (1201, 1229824, 2459648), (1202, 1230848, 2461696), (1203, 1231872, 2463744), (1204, 1232896, 2465792), (1205, 1233920, 2467840), (1206, 1234944, 2469888), (1207, 1235968, 2471936), (1208, 1236992, 2473984), (1209, 1238016, 2476032), (1210, 1239040, 2478080), (1211, 1240064, 2480128), (1212, 1241088, 2482176), (1213, 1242112, 2484224), (1214, 1243136, 2486272), (1215, 1244160, 2488320), (1216, 1245184, 2490368), (1217, 1246208, 2492416), (1218, 1247232, 2494464), (1219, 1248256, 2496512), (1220, 1249280, 2498560), (1221, 1250304, 2500608), (1222, 1251328, 2502656), (1223, 1252352, 2504704), (1224, 1253376, 2506752), (1225, 1254400, 2508800), (1226, 1255424, 2510848), (1227, 1256448, 2512896), (1228, 1257472, 2514944), (1229, 1258496, 2516992), (1230, 1259520, 2519040), (1231, 1260544, 2521088), (1232, 1261568, 2523136), (1233, 1262592, 2525184), (1234, 1263616, 2527232), (1235, 1264640, 2529280), (1236, 1265664, 2531328), (1237, 1266688, 2533376), (1238, 1267712, 2535424), (1239, 1268736, 2537472), (1240, 1269760, 2539520), (1241, 1270784, 2541568), (1242, 1271808, 2543616), (1243, 1272832, 2545664), (1244, 1273856, 2547712), (1245, 1274880, 2549760), (1246, 1275904, 2551808), (1247, 1276928, 2553856), (1248, 1277952, 2555904), (1249, 1278976, 2557952), (1250, 1280000, 2560000), (1251, 1281024, 2562048), (1252, 1282048, 2564096), (1253, 1283072, 2566144), (1254, 1284096, 2568192), (1255, 1285120, 2570240), (1256, 1286144, 2572288), (1257, 1287168, 2574336), (1258, 1288192, 2576384), (1259, 1289216, 2578432), (1260, 1290240, 2580480), (1261, 1291264, 2582528), (1262, 1292288, 2584576), (1263, 1293312, 2586624), (1264, 1294336, 2588672), (1265, 1295360, 2590720), (1266, 1296384, 2592768), (1267, 1297408, 2594816), (1268, 1298432, 2596864), (1269, 1299456, 2598912), (1270, 1300480, 2600960), (1271, 1301504, 2603008), (1272, 1302528, 2605056), (1273, 1303552, 2607104), (1274, 1304576, 2609152), (1275, 1305600, 2611200), (1276, 1306624, 2613248), (1277, 1307648, 2615296), (1278, 1308672, 2617344), (1279, 1309696, 2619392), (1280, 1310720, 2621440), (1281, 1311744, 2623488), (1282, 1312768, 2625536), (1283, 1313792, 2627584), (1284, 1314816, 2629632), (1285, 1315840, 2631680), (1286, 1316864, 2633728), (1287, 1317888, 2635776), (1288, 1318912, 2637824), (1289, 1319936, 2639872), (1290, 1320960, 2641920), (1291, 1321984, 2643968), (1292, 1323008, 2646016), (1293, 1324032, 2648064), (1294, 1325056, 2650112), (1295, 1326080, 2652160), (1296, 1327104, 2654208), (1297, 1328128, 2656256), (1298, 1329152, 2658304), (1299, 1330176, 2660352), (1300, 1331200, 2662400), (1301, 1332224, 2664448), (1302, 1333248, 2666496), (1303, 1334272, 2668544), (1304, 1335296, 2670592), (1305, 1336320, 2672640), (1306, 1337344, 2674688), (1307, 1338368, 2676736), (1308, 1339392, 2678784), (1309, 1340416, 2680832), (1310, 1341440, 2682880), (1311, 1342464, 2684928), (1312, 1343488, 2686976), (1313, 1344512, 2689024), (1314, 1345536, 2691072), (1315, 1346560, 2693120), (1316, 1347584, 2695168), (1317, 1348608, 2697216), (1318, 1349632, 2699264), (1319, 1350656, 2701312), (1320, 1351680, 2703360), (1321, 1352704, 2705408), (1322, 1353728, 2707456), (1323, 1354752, 2709504), (1324, 1355776, 2711552), (1325, 1356800, 2713600), (1326, 1357824, 2715648), (1327, 1358848, 2717696), (1328, 1359872, 2719744), (1329, 1360896, 2721792), (1330, 1361920, 2723840), (1331, 1362944, 2725888), (1332, 1363968, 2727936), (1333, 1364992, 2729984), (1334, 1366016, 2732032), (1335, 1367040, 2734080), (1336, 1368064, 2736128), (1337, 1369088, 2738176), (1338, 1370112, 2740224), (1339, 1371136, 2742272), (1340, 1372160, 2744320), (1341, 1373184, 2746368), (1342, 1374208, 2748416), (1343, 1375232, 2750464), (1344, 1376256, 2752512), (1345, 1377280, 2754560), (1346, 1378304, 2756608), (1347, 1379328, 2758656), (1348, 1380352, 2760704), (1349, 1381376, 2762752), (1350, 1382400, 2764800), (1351, 1383424, 2766848), (1352, 1384448, 2768896), (1353, 1385472, 2770944), (1354, 1386496, 2772992), (1355, 1387520, 2775040), (1356, 1388544, 2777088), (1357, 1389568, 2779136), (1358, 1390592, 2781184), (1359, 1391616, 2783232), (1360, 1392640, 2785280), (1361, 1393664, 2787328), (1362, 1394688, 2789376), (1363, 1395712, 2791424), (1364, 1396736, 2793472), (1365, 1397760, 2795520), (1366, 1398784, 2797568), (1367, 1399808, 2799616), (1368, 1400832, 2801664), (1369, 1401856, 2803712), (1370, 1402880, 2805760), (1371, 1403904, 2807808), (1372, 1404928, 2809856), (1373, 1405952, 2811904), (1374, 1406976, 2813952), (1375, 1408000, 2816000), (1376, 1409024, 2818048), (1377, 1410048, 2820096), (1378, 1411072, 2822144), (1379, 1412096, 2824192), (1380, 1413120, 2826240), (1381, 1414144, 2828288), (1382, 1415168, 2830336), (1383, 1416192, 2832384), (1384, 1417216, 2834432), (1385, 1418240, 2836480), (1386, 1419264, 2838528), (1387, 1420288, 2840576), (1388, 1421312, 2842624), (1389, 1422336, 2844672), (1390, 1423360, 2846720), (1391, 1424384, 2848768), (1392, 1425408, 2850816), (1393, 1426432, 2852864), (1394, 1427456, 2854912), (1395, 1428480, 2856960), (1396, 1429504, 2859008), (1397, 1430528, 2861056), (1398, 1431552, 2863104), (1399, 1432576, 2865152), (1400, 1433600, 2867200), (1401, 1434624, 2869248), (1402, 1435648, 2871296), (1403, 1436672, 2873344), (1404, 1437696, 2875392), (1405, 1438720, 2877440), (1406, 1439744, 2879488), (1407, 1440768, 2881536), (1408, 1441792, 2883584), (1409, 1442816, 2885632), (1410, 1443840, 2887680), (1411, 1444864, 2889728), (1412, 1445888, 2891776), (1413, 1446912, 2893824), (1414, 1447936, 2895872), (1415, 1448960, 2897920), (1416, 1449984, 2899968), (1417, 1451008, 2902016), (1418, 1452032, 2904064), (1419, 1453056, 2906112), (1420, 1454080, 2908160), (1421, 1455104, 2910208), (1422, 1456128, 2912256), (1423, 1457152, 2914304), (1424, 1458176, 2916352), (1425, 1459200, 2918400), (1426, 1460224, 2920448), (1427, 1461248, 2922496), (1428, 1462272, 2924544), (1429, 1463296, 2926592), (1430, 1464320, 2928640), (1431, 1465344, 2930688), (1432, 1466368, 2932736), (1433, 1467392, 2934784), (1434, 1468416, 2936832), (1435, 1469440, 2938880), (1436, 1470464, 2940928), (1437, 1471488, 2942976), (1438, 1472512, 2945024), (1439, 1473536, 2947072), (1440, 1474560, 2949120), (1441, 1475584, 2951168), (1442, 1476608, 2953216), (1443, 1477632, 2955264), (1444, 1478656, 2957312), (1445, 1479680, 2959360), (1446, 1480704, 2961408), (1447, 1481728, 2963456), (1448, 1482752, 2965504), (1449, 1483776, 2967552), (1450, 1484800, 2969600), (1451, 1485824, 2971648), (1452, 1486848, 2973696), (1453, 1487872, 2975744), (1454, 1488896, 2977792), (1455, 1489920, 2979840), (1456, 1490944, 2981888), (1457, 1491968, 2983936), (1458, 1492992, 2985984), (1459, 1494016, 2988032), (1460, 1495040, 2990080), (1461, 1496064, 2992128), (1462, 1497088, 2994176), (1463, 1498112, 2996224), (1464, 1499136, 2998272), (1465, 1500160, 3000320), (1466, 1501184, 3002368), (1467, 1502208, 3004416), (1468, 1503232, 3006464), (1469, 1504256, 3008512), (1470, 1505280, 3010560), (1471, 1506304, 3012608), (1472, 1507328, 3014656), (1473, 1508352, 3016704), (1474, 1509376, 3018752), (1475, 1510400, 3020800), (1476, 1511424, 3022848), (1477, 1512448, 3024896), (1478, 1513472, 3026944), (1479, 1514496, 3028992), (1480, 1515520, 3031040), (1481, 1516544, 3033088), (1482, 1517568, 3035136), (1483, 1518592, 3037184), (1484, 1519616, 3039232), (1485, 1520640, 3041280), (1486, 1521664, 3043328), (1487, 1522688, 3045376), (1488, 1523712, 3047424), (1489, 1524736, 3049472), (1490, 1525760, 3051520), (1491, 1526784, 3053568), (1492, 1527808, 3055616), (1493, 1528832, 3057664), (1494, 1529856, 3059712), (1495, 1530880, 3061760), (1496, 1531904, 3063808), (1497, 1532928, 3065856), (1498, 1533952, 3067904), (1499, 1534976, 3069952), (1500, 1536000, 3072000), (1501, 1537024, 3074048), (1502, 1538048, 3076096), (1503, 1539072, 3078144), (1504, 1540096, 3080192), (1505, 1541120, 3082240), (1506, 1542144, 3084288), (1507, 1543168, 3086336), (1508, 1544192, 3088384), (1509, 1545216, 3090432), (1510, 1546240, 3092480), (1511, 1547264, 3094528), (1512, 1548288, 3096576), (1513, 1549312, 3098624), (1514, 1550336, 3100672), (1515, 1551360, 3102720), (1516, 1552384, 3104768), (1517, 1553408, 3106816), (1518, 1554432, 3108864), (1519, 1555456, 3110912), (1520, 1556480, 3112960), (1521, 1557504, 3115008), (1522, 1558528, 3117056), (1523, 1559552, 3119104), (1524, 1560576, 3121152), (1525, 1561600, 3123200), (1526, 1562624, 3125248), (1527, 1563648, 3127296), (1528, 1564672, 3129344), (1529, 1565696, 3131392), (1530, 1566720, 3133440), (1531, 1567744, 3135488), (1532, 1568768, 3137536), (1533, 1569792, 3139584), (1534, 1570816, 3141632), (1535, 1571840, 3143680), (1536, 1572864, 3145728), (1537, 1573888, 3147776), (1538, 1574912, 3149824), (1539, 1575936, 3151872), (1540, 1576960, 3153920), (1541, 1577984, 3155968), (1542, 1579008, 3158016), (1543, 1580032, 3160064), (1544, 1581056, 3162112), (1545, 1582080, 3164160), (1546, 1583104, 3166208), (1547, 1584128, 3168256), (1548, 1585152, 3170304), (1549, 1586176, 3172352), (1550, 1587200, 3174400), (1551, 1588224, 3176448), (1552, 1589248, 3178496), (1553, 1590272, 3180544), (1554, 1591296, 3182592), (1555, 1592320, 3184640), (1556, 1593344, 3186688), (1557, 1594368, 3188736), (1558, 1595392, 3190784), (1559, 1596416, 3192832), (1560, 1597440, 3194880), (1561, 1598464, 3196928), (1562, 1599488, 3198976), (1563, 1600512, 3201024), (1564, 1601536, 3203072), (1565, 1602560, 3205120), (1566, 1603584, 3207168), (1567, 1604608, 3209216), (1568, 1605632, 3211264), (1569, 1606656, 3213312), (1570, 1607680, 3215360), (1571, 1608704, 3217408), (1572, 1609728, 3219456), (1573, 1610752, 3221504), (1574, 1611776, 3223552), (1575, 1612800, 3225600), (1576, 1613824, 3227648), (1577, 1614848, 3229696), (1578, 1615872, 3231744), (1579, 1616896, 3233792), (1580, 1617920, 3235840), (1581, 1618944, 3237888), (1582, 1619968, 3239936), (1583, 1620992, 3241984), (1584, 1622016, 3244032), (1585, 1623040, 3246080), (1586, 1624064, 3248128), (1587, 1625088, 3250176), (1588, 1626112, 3252224), (1589, 1627136, 3254272), (1590, 1628160, 3256320), (1591, 1629184, 3258368), (1592, 1630208, 3260416), (1593, 1631232, 3262464), (1594, 1632256, 3264512), (1595, 1633280, 3266560), (1596, 1634304, 3268608), (1597, 1635328, 3270656), (1598, 1636352, 3272704), (1599, 1637376, 3274752), (1600, 1638400, 3276800), (1601, 1639424, 3278848), (1602, 1640448, 3280896), (1603, 1641472, 3282944), (1604, 1642496, 3284992), (1605, 1643520, 3287040), (1606, 1644544, 3289088), (1607, 1645568, 3291136), (1608, 1646592, 3293184), (1609, 1647616, 3295232), (1610, 1648640, 3297280), (1611, 1649664, 3299328), (1612, 1650688, 3301376), (1613, 1651712, 3303424), (1614, 1652736, 3305472), (1615, 1653760, 3307520), (1616, 1654784, 3309568), (1617, 1655808, 3311616), (1618, 1656832, 3313664), (1619, 1657856, 3315712), (1620, 1658880, 3317760), (1621, 1659904, 3319808), (1622, 1660928, 3321856), (1623, 1661952, 3323904), (1624, 1662976, 3325952), (1625, 1664000, 3328000), (1626, 1665024, 3330048), (1627, 1666048, 3332096), (1628, 1667072, 3334144), (1629, 1668096, 3336192), (1630, 1669120, 3338240), (1631, 1670144, 3340288), (1632, 1671168, 3342336), (1633, 1672192, 3344384), (1634, 1673216, 3346432), (1635, 1674240, 3348480), (1636, 1675264, 3350528), (1637, 1676288, 3352576), (1638, 1677312, 3354624), (1639, 1678336, 3356672), (1640, 1679360, 3358720), (1641, 1680384, 3360768), (1642, 1681408, 3362816), (1643, 1682432, 3364864), (1644, 1683456, 3366912), (1645, 1684480, 3368960), (1646, 1685504, 3371008), (1647, 1686528, 3373056), (1648, 1687552, 3375104), (1649, 1688576, 3377152), (1650, 1689600, 3379200), (1651, 1690624, 3381248), (1652, 1691648, 3383296), (1653, 1692672, 3385344), (1654, 1693696, 3387392), (1655, 1694720, 3389440), (1656, 1695744, 3391488), (1657, 1696768, 3393536), (1658, 1697792, 3395584), (1659, 1698816, 3397632), (1660, 1699840, 3399680), (1661, 1700864, 3401728), (1662, 1701888, 3403776), (1663, 1702912, 3405824), (1664, 1703936, 3407872), (1665, 1704960, 3409920), (1666, 1705984, 3411968), (1667, 1707008, 3414016), (1668, 1708032, 3416064), (1669, 1709056, 3418112), (1670, 1710080, 3420160), (1671, 1711104, 3422208), (1672, 1712128, 3424256), (1673, 1713152, 3426304), (1674, 1714176, 3428352), (1675, 1715200, 3430400), (1676, 1716224, 3432448), (1677, 1717248, 3434496), (1678, 1718272, 3436544), (1679, 1719296, 3438592), (1680, 1720320, 3440640), (1681, 1721344, 3442688), (1682, 1722368, 3444736), (1683, 1723392, 3446784), (1684, 1724416, 3448832), (1685, 1725440, 3450880), (1686, 1726464, 3452928), (1687, 1727488, 3454976), (1688, 1728512, 3457024), (1689, 1729536, 3459072), (1690, 1730560, 3461120), (1691, 1731584, 3463168), (1692, 1732608, 3465216), (1693, 1733632, 3467264), (1694, 1734656, 3469312), (1695, 1735680, 3471360), (1696, 1736704, 3473408), (1697, 1737728, 3475456), (1698, 1738752, 3477504), (1699, 1739776, 3479552), (1700, 1740800, 3481600), (1701, 1741824, 3483648), (1702, 1742848, 3485696), (1703, 1743872, 3487744), (1704, 1744896, 3489792), (1705, 1745920, 3491840), (1706, 1746944, 3493888), (1707, 1747968, 3495936), (1708, 1748992, 3497984), (1709, 1750016, 3500032), (1710, 1751040, 3502080), (1711, 1752064, 3504128), (1712, 1753088, 3506176), (1713, 1754112, 3508224), (1714, 1755136, 3510272), (1715, 1756160, 3512320), (1716, 1757184, 3514368), (1717, 1758208, 3516416), (1718, 1759232, 3518464), (1719, 1760256, 3520512), (1720, 1761280, 3522560), (1721, 1762304, 3524608), (1722, 1763328, 3526656), (1723, 1764352, 3528704), (1724, 1765376, 3530752), (1725, 1766400, 3532800), (1726, 1767424, 3534848), (1727, 1768448, 3536896), (1728, 1769472, 3538944), (1729, 1770496, 3540992), (1730, 1771520, 3543040), (1731, 1772544, 3545088), (1732, 1773568, 3547136), (1733, 1774592, 3549184), (1734, 1775616, 3551232), (1735, 1776640, 3553280), (1736, 1777664, 3555328), (1737, 1778688, 3557376), (1738, 1779712, 3559424), (1739, 1780736, 3561472), (1740, 1781760, 3563520), (1741, 1782784, 3565568), (1742, 1783808, 3567616), (1743, 1784832, 3569664), (1744, 1785856, 3571712), (1745, 1786880, 3573760), (1746, 1787904, 3575808), (1747, 1788928, 3577856), (1748, 1789952, 3579904), (1749, 1790976, 3581952), (1750, 1792000, 3584000), (1751, 1793024, 3586048), (1752, 1794048, 3588096), (1753, 1795072, 3590144), (1754, 1796096, 3592192), (1755, 1797120, 3594240), (1756, 1798144, 3596288), (1757, 1799168, 3598336), (1758, 1800192, 3600384), (1759, 1801216, 3602432), (1760, 1802240, 3604480), (1761, 1803264, 3606528), (1762, 1804288, 3608576), (1763, 1805312, 3610624), (1764, 1806336, 3612672), (1765, 1807360, 3614720), (1766, 1808384, 3616768), (1767, 1809408, 3618816), (1768, 1810432, 3620864), (1769, 1811456, 3622912), (1770, 1812480, 3624960), (1771, 1813504, 3627008), (1772, 1814528, 3629056), (1773, 1815552, 3631104), (1774, 1816576, 3633152), (1775, 1817600, 3635200), (1776, 1818624, 3637248), (1777, 1819648, 3639296), (1778, 1820672, 3641344), (1779, 1821696, 3643392), (1780, 1822720, 3645440), (1781, 1823744, 3647488), (1782, 1824768, 3649536), (1783, 1825792, 3651584), (1784, 1826816, 3653632), (1785, 1827840, 3655680), (1786, 1828864, 3657728), (1787, 1829888, 3659776), (1788, 1830912, 3661824), (1789, 1831936, 3663872), (1790, 1832960, 3665920), (1791, 1833984, 3667968), (1792, 1835008, 3670016), (1793, 1836032, 3672064), (1794, 1837056, 3674112), (1795, 1838080, 3676160), (1796, 1839104, 3678208), (1797, 1840128, 3680256), (1798, 1841152, 3682304), (1799, 1842176, 3684352), (1800, 1843200, 3686400), (1801, 1844224, 3688448), (1802, 1845248, 3690496), (1803, 1846272, 3692544), (1804, 1847296, 3694592), (1805, 1848320, 3696640), (1806, 1849344, 3698688), (1807, 1850368, 3700736), (1808, 1851392, 3702784), (1809, 1852416, 3704832), (1810, 1853440, 3706880), (1811, 1854464, 3708928), (1812, 1855488, 3710976), (1813, 1856512, 3713024), (1814, 1857536, 3715072), (1815, 1858560, 3717120), (1816, 1859584, 3719168), (1817, 1860608, 3721216), (1818, 1861632, 3723264), (1819, 1862656, 3725312), (1820, 1863680, 3727360), (1821, 1864704, 3729408), (1822, 1865728, 3731456), (1823, 1866752, 3733504), (1824, 1867776, 3735552), (1825, 1868800, 3737600), (1826, 1869824, 3739648), (1827, 1870848, 3741696), (1828, 1871872, 3743744), (1829, 1872896, 3745792), (1830, 1873920, 3747840), (1831, 1874944, 3749888), (1832, 1875968, 3751936), (1833, 1876992, 3753984), (1834, 1878016, 3756032), (1835, 1879040, 3758080), (1836, 1880064, 3760128), (1837, 1881088, 3762176), (1838, 1882112, 3764224), (1839, 1883136, 3766272), (1840, 1884160, 3768320), (1841, 1885184, 3770368), (1842, 1886208, 3772416), (1843, 1887232, 3774464), (1844, 1888256, 3776512), (1845, 1889280, 3778560), (1846, 1890304, 3780608), (1847, 1891328, 3782656), (1848, 1892352, 3784704), (1849, 1893376, 3786752), (1850, 1894400, 3788800), (1851, 1895424, 3790848), (1852, 1896448, 3792896), (1853, 1897472, 3794944), (1854, 1898496, 3796992), (1855, 1899520, 3799040), (1856, 1900544, 3801088), (1857, 1901568, 3803136), (1858, 1902592, 3805184), (1859, 1903616, 3807232), (1860, 1904640, 3809280), (1861, 1905664, 3811328), (1862, 1906688, 3813376), (1863, 1907712, 3815424), (1864, 1908736, 3817472), (1865, 1909760, 3819520), (1866, 1910784, 3821568), (1867, 1911808, 3823616), (1868, 1912832, 3825664), (1869, 1913856, 3827712), (1870, 1914880, 3829760), (1871, 1915904, 3831808), (1872, 1916928, 3833856), (1873, 1917952, 3835904), (1874, 1918976, 3837952), (1875, 1920000, 3840000), (1876, 1921024, 3842048), (1877, 1922048, 3844096), (1878, 1923072, 3846144), (1879, 1924096, 3848192), (1880, 1925120, 3850240), (1881, 1926144, 3852288), (1882, 1927168, 3854336), (1883, 1928192, 3856384), (1884, 1929216, 3858432), (1885, 1930240, 3860480), (1886, 1931264, 3862528), (1887, 1932288, 3864576), (1888, 1933312, 3866624), (1889, 1934336, 3868672), (1890, 1935360, 3870720), (1891, 1936384, 3872768), (1892, 1937408, 3874816), (1893, 1938432, 3876864), (1894, 1939456, 3878912), (1895, 1940480, 3880960), (1896, 1941504, 3883008), (1897, 1942528, 3885056), (1898, 1943552, 3887104), (1899, 1944576, 3889152), (1900, 1945600, 3891200), (1901, 1946624, 3893248), (1902, 1947648, 3895296), (1903, 1948672, 3897344), (1904, 1949696, 3899392), (1905, 1950720, 3901440), (1906, 1951744, 3903488), (1907, 1952768, 3905536), (1908, 1953792, 3907584), (1909, 1954816, 3909632), (1910, 1955840, 3911680), (1911, 1956864, 3913728), (1912, 1957888, 3915776), (1913, 1958912, 3917824), (1914, 1959936, 3919872), (1915, 1960960, 3921920), (1916, 1961984, 3923968), (1917, 1963008, 3926016), (1918, 1964032, 3928064), (1919, 1965056, 3930112), (1920, 1966080, 3932160), (1921, 1967104, 3934208), (1922, 1968128, 3936256), (1923, 1969152, 3938304), (1924, 1970176, 3940352), (1925, 1971200, 3942400), (1926, 1972224, 3944448), (1927, 1973248, 3946496), (1928, 1974272, 3948544), (1929, 1975296, 3950592), (1930, 1976320, 3952640), (1931, 1977344, 3954688), (1932, 1978368, 3956736), (1933, 1979392, 3958784), (1934, 1980416, 3960832), (1935, 1981440, 3962880), (1936, 1982464, 3964928), (1937, 1983488, 3966976), (1938, 1984512, 3969024), (1939, 1985536, 3971072), (1940, 1986560, 3973120), (1941, 1987584, 3975168), (1942, 1988608, 3977216), (1943, 1989632, 3979264), (1944, 1990656, 3981312), (1945, 1991680, 3983360), (1946, 1992704, 3985408), (1947, 1993728, 3987456), (1948, 1994752, 3989504), (1949, 1995776, 3991552), (1950, 1996800, 3993600), (1951, 1997824, 3995648), (1952, 1998848, 3997696), (1953, 1999872, 3999744), (1954, 2000896, 4001792), (1955, 2001920, 4003840), (1956, 2002944, 4005888), (1957, 2003968, 4007936), (1958, 2004992, 4009984), (1959, 2006016, 4012032), (1960, 2007040, 4014080), (1961, 2008064, 4016128), (1962, 2009088, 4018176), (1963, 2010112, 4020224), (1964, 2011136, 4022272), (1965, 2012160, 4024320), (1966, 2013184, 4026368), (1967, 2014208, 4028416), (1968, 2015232, 4030464), (1969, 2016256, 4032512), (1970, 2017280, 4034560), (1971, 2018304, 4036608), (1972, 2019328, 4038656), (1973, 2020352, 4040704), (1974, 2021376, 4042752), (1975, 2022400, 4044800), (1976, 2023424, 4046848), (1977, 2024448, 4048896), (1978, 2025472, 4050944), (1979, 2026496, 4052992), (1980, 2027520, 4055040), (1981, 2028544, 4057088), (1982, 2029568, 4059136), (1983, 2030592, 4061184), (1984, 2031616, 4063232), (1985, 2032640, 4065280), (1986, 2033664, 4067328), (1987, 2034688, 4069376), (1988, 2035712, 4071424), (1989, 2036736, 4073472), (1990, 2037760, 4075520), (1991, 2038784, 4077568), (1992, 2039808, 4079616), (1993, 2040832, 4081664), (1994, 2041856, 4083712), (1995, 2042880, 4085760), (1996, 2043904, 4087808), (1997, 2044928, 4089856), (1998, 2045952, 4091904), (1999, 2046976, 4093952), (2000, 2048000, 4096000), (2001, 2049024, 4098048), (2002, 2050048, 4100096), (2003, 2051072, 4102144), (2004, 2052096, 4104192), (2005, 2053120, 4106240), (2006, 2054144, 4108288), (2007, 2055168, 4110336), (2008, 2056192, 4112384), (2009, 2057216, 4114432), (2010, 2058240, 4116480), (2011, 2059264, 4118528), (2012, 2060288, 4120576), (2013, 2061312, 4122624), (2014, 2062336, 4124672), (2015, 2063360, 4126720), (2016, 2064384, 4128768), (2017, 2065408, 4130816), (2018, 2066432, 4132864), (2019, 2067456, 4134912), (2020, 2068480, 4136960), (2021, 2069504, 4139008), (2022, 2070528, 4141056), (2023, 2071552, 4143104), (2024, 2072576, 4145152), (2025, 2073600, 4147200), (2026, 2074624, 4149248), (2027, 2075648, 4151296), (2028, 2076672, 4153344), (2029, 2077696, 4155392), (2030, 2078720, 4157440), (2031, 2079744, 4159488), (2032, 2080768, 4161536), (2033, 2081792, 4163584), (2034, 2082816, 4165632), (2035, 2083840, 4167680), (2036, 2084864, 4169728), (2037, 2085888, 4171776), (2038, 2086912, 4173824), (2039, 2087936, 4175872), (2040, 2088960, 4177920), (2041, 2089984, 4179968), (2042, 2091008, 4182016), (2043, 2092032, 4184064), (2044, 2093056, 4186112), (2045, 2094080, 4188160), (2046, 2095104, 4190208), (2047, 2096128, 4192256), (2048, 2097152, 4194304)]\n"
     ]
    }
   ],
   "source": [
    "l_sdiff= generador_listas2(funcion= 'do_schoolbook',\n",
    "                            tamaño_max=2048, \n",
    "                            card_cuerpo_finito=2,\n",
    "                            K_threshold=8,\n",
    "                            export_pkl=True,\n",
    "                            verbose=True)\n",
    "print(l_sdiff)"
   ]
  }
 ],
 "metadata": {
  "kernelspec": {
   "display_name": "SageMath 9.5",
   "language": "sage",
   "name": "sagemath"
  },
  "language_info": {
   "codemirror_mode": {
    "name": "ipython",
    "version": 3
   },
   "file_extension": ".py",
   "mimetype": "text/x-python",
   "name": "python",
   "nbconvert_exporter": "python",
   "pygments_lexer": "ipython3",
   "version": "3.10.12"
  }
 },
 "nbformat": 4,
 "nbformat_minor": 2
}
